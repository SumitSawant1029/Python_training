{
 "cells": [
  {
   "cell_type": "markdown",
   "id": "86b532ba",
   "metadata": {},
   "source": [
    "**1) Take a String input and print the first character, last chaeacter and the string in reverse** "
   ]
  },
  {
   "cell_type": "code",
   "execution_count": 10,
   "id": "9515bd03",
   "metadata": {},
   "outputs": [
    {
     "name": "stdout",
     "output_type": "stream",
     "text": [
      "First Character:-S\n",
      "Last Character:-t\n",
      "In Reverse : timuS\n"
     ]
    }
   ],
   "source": [
    "a = input(\"Give anything:-\")\n",
    "print(f\"First Character:-{a[0]}\")\n",
    "print(f\"Last Character:-{a[-1]}\")\n",
    "print(f\"In Reverse : {a[::-1]}\")"
   ]
  },
  {
   "cell_type": "markdown",
   "id": "45643f0d",
   "metadata": {},
   "source": [
    "**Give a string , remove all spaces and replace every vowel with '*'**"
   ]
  },
  {
   "cell_type": "code",
   "execution_count": 13,
   "id": "46d3e1bc",
   "metadata": {},
   "outputs": [
    {
     "name": "stdout",
     "output_type": "stream",
     "text": [
      "TC* *s * C*mp*ny       \n"
     ]
    }
   ],
   "source": [
    "a = \"TCE is A Company       \"\n",
    "a.strip()\n",
    "\n",
    "vowels = \"aeiouAEIOU\"\n",
    "for v in vowels:\n",
    "    a = a.replace(v, \"*\")\n",
    "\n",
    "print(a)"
   ]
  },
  {
   "cell_type": "markdown",
   "id": "e222d9fa",
   "metadata": {},
   "source": [
    "**Take two strings as input .Compare them alphabetically and print which comes first**"
   ]
  },
  {
   "cell_type": "code",
   "execution_count": null,
   "id": "e6237bad",
   "metadata": {},
   "outputs": [
    {
     "name": "stdout",
     "output_type": "stream",
     "text": [
      "Sumit\n"
     ]
    }
   ],
   "source": [
    "s1 = input(\"Enter name 1:-\")\n",
    "s2 = input(\"Enter name 2:-\")\n",
    "if s1>s2:\n",
    "    print(s1)\n",
    "else:\n",
    "    print(s2)"
   ]
  },
  {
   "cell_type": "markdown",
   "id": "d6f6d8db",
   "metadata": {},
   "source": [
    "**Given a string of exactly 8 characters swap first 4 with last 4 characters**"
   ]
  },
  {
   "cell_type": "code",
   "execution_count": null,
   "id": "f8c9f2a6",
   "metadata": {},
   "outputs": [
    {
     "name": "stdout",
     "output_type": "stream",
     "text": [
      "sUMITRIY\n",
      "TRIYsUMI\n"
     ]
    }
   ],
   "source": [
    "a = input(\"Enter a 8 Character word:-\")\n",
    "print(a)\n",
    "print(a[4:8]+a[0:4]);"
   ]
  },
  {
   "cell_type": "markdown",
   "id": "c3c3e1c7",
   "metadata": {},
   "source": [
    "**Given a string check if the first character is uppercase and last letter is lower case**"
   ]
  },
  {
   "cell_type": "code",
   "execution_count": 26,
   "id": "bcb8f108",
   "metadata": {},
   "outputs": [
    {
     "name": "stdout",
     "output_type": "stream",
     "text": [
      "true\n"
     ]
    }
   ],
   "source": [
    "a = input(\"Enter Anything without space:\")\n",
    "if a[0].isupper() and a[-1].islower():\n",
    "    print(\"true\")\n",
    "else :\n",
    "    print(\"false\")\n"
   ]
  },
  {
   "cell_type": "markdown",
   "id": "0ff8d5d0",
   "metadata": {},
   "source": [
    "**Take a string of 5-7 characters. Extract the middle character and print them**"
   ]
  },
  {
   "cell_type": "code",
   "execution_count": 29,
   "id": "374ba458",
   "metadata": {},
   "outputs": [
    {
     "name": "stdout",
     "output_type": "stream",
     "text": [
      "The middle character is m\n"
     ]
    }
   ],
   "source": [
    "a = input(\"Enter the word of odd length:-\")\n",
    "g = len(a)//2\n",
    "print(f\"The middle character is {a[g]}\")"
   ]
  },
  {
   "cell_type": "markdown",
   "id": "551f671c",
   "metadata": {},
   "source": [
    "Given a string count how many times a and A occurs "
   ]
  },
  {
   "cell_type": "code",
   "execution_count": 31,
   "id": "485f5505",
   "metadata": {},
   "outputs": [
    {
     "name": "stdout",
     "output_type": "stream",
     "text": [
      "9\n"
     ]
    }
   ],
   "source": [
    "letters = \"AAAaaaaaAkjnenjfenfen\"\n",
    "count = 0\n",
    "for alphabet in letters :\n",
    "    if alphabet=='a' or alphabet=='A':\n",
    "        count= count+1\n",
    "\n",
    "print(count)\n"
   ]
  },
  {
   "cell_type": "markdown",
   "id": "f4e860af",
   "metadata": {},
   "source": [
    "Take a sentence as input manually extract the first and last word and concatenate them \n"
   ]
  },
  {
   "cell_type": "code",
   "execution_count": 34,
   "id": "6b2b4d6a",
   "metadata": {},
   "outputs": [
    {
     "name": "stdout",
     "output_type": "stream",
     "text": [
      "Concatenated result: JHisumit\n"
     ]
    }
   ],
   "source": [
    "sentence = input(\"Enter the sentence:\")\n",
    "words = sentence.split()   \n",
    "if len(words) >= 2:\n",
    "    result = words[0] + words[-1] \n",
    "    print(\"Concatenated result:\", result)\n",
    "elif len(words) == 1:\n",
    "    print(\"Only one word given:\", words[0])\n",
    "else:\n",
    "    print(\"No words entered!\")"
   ]
  },
  {
   "cell_type": "markdown",
   "id": "d64b3df6",
   "metadata": {},
   "source": [
    "Encrypt a string by shifting each character by 2 in the alphabet . Use ASCII values and if-else only"
   ]
  },
  {
   "cell_type": "code",
   "execution_count": 41,
   "id": "f63f8670",
   "metadata": {},
   "outputs": [
    {
     "data": {
      "text/plain": [
       "'Uwokv'"
      ]
     },
     "execution_count": 41,
     "metadata": {},
     "output_type": "execute_result"
    }
   ],
   "source": [
    "a = \"Sumit\"\n",
    "b = \"\"\n",
    "for character in a :\n",
    "    b = b + chr(ord(character)+2)\n",
    "b"
   ]
  },
  {
   "cell_type": "markdown",
   "id": "f8b1185a",
   "metadata": {},
   "source": [
    "**Check if a string is a palindrome using only slicing and if-else . Print palindrome and not Palindrome**"
   ]
  },
  {
   "cell_type": "code",
   "execution_count": 45,
   "id": "6c54cfe8",
   "metadata": {},
   "outputs": [
    {
     "name": "stdout",
     "output_type": "stream",
     "text": [
      "Palindrome\n"
     ]
    }
   ],
   "source": [
    "A = input(\"Enter a Word: \")\n",
    "\n",
    "if A == A[::-1]:  \n",
    "    print(\"Palindrome\")\n",
    "else:\n",
    "    print(\"Not Palindrome\")\n"
   ]
  },
  {
   "cell_type": "markdown",
   "id": "012c1f0c",
   "metadata": {},
   "source": [
    "**Take a string of numbers like '123456' . Create a new string by swapping the first half with the second half**"
   ]
  },
  {
   "cell_type": "code",
   "execution_count": 47,
   "id": "da1c0dd4",
   "metadata": {},
   "outputs": [
    {
     "data": {
      "text/plain": [
       "'SawatSumit'"
      ]
     },
     "execution_count": 47,
     "metadata": {},
     "output_type": "execute_result"
    }
   ],
   "source": [
    "a = \"SumitSawat\"\n",
    "\n",
    "b = a[len(a)//2:len(a)] + a[0:len(a)//2]\n",
    "b"
   ]
  },
  {
   "cell_type": "markdown",
   "id": "1826e42a",
   "metadata": {},
   "source": [
    "Replace the occurence of word python with java"
   ]
  },
  {
   "cell_type": "code",
   "execution_count": 51,
   "id": "cd441046",
   "metadata": {},
   "outputs": [
    {
     "data": {
      "text/plain": [
       "'Java is a language .Java is not an snake'"
      ]
     },
     "execution_count": 51,
     "metadata": {},
     "output_type": "execute_result"
    }
   ],
   "source": [
    "a = \"Python is a language .Python is not an snake\"\n",
    "a = a.replace(\"Python\",\"Java\")\n",
    "a"
   ]
  },
  {
   "cell_type": "markdown",
   "id": "305d2690",
   "metadata": {},
   "source": [
    "For a String of exact 6 characters reverse the middle two characters and print a new string"
   ]
  },
  {
   "cell_type": "code",
   "execution_count": 53,
   "id": "e1fc8e61",
   "metadata": {},
   "outputs": [
    {
     "data": {
      "text/plain": [
       "'Suimts'"
      ]
     },
     "execution_count": 53,
     "metadata": {},
     "output_type": "execute_result"
    }
   ],
   "source": [
    "a = input(\"Enter a String of 6 character Exact :-\")\n",
    "a = a[0:2]+a[3]+a[2]+a[4:6]\n",
    "a"
   ]
  },
  {
   "cell_type": "markdown",
   "id": "04261848",
   "metadata": {},
   "source": [
    "**Take a string input and print all the characters at even positions followed by all characters at odd positions**"
   ]
  },
  {
   "cell_type": "code",
   "execution_count": null,
   "id": "f2915b6c",
   "metadata": {},
   "outputs": [],
   "source": []
  },
  {
   "cell_type": "code",
   "execution_count": 67,
   "id": "430f0d88",
   "metadata": {},
   "outputs": [
    {
     "data": {
      "text/plain": [
       "'SMTUI'"
      ]
     },
     "execution_count": 67,
     "metadata": {},
     "output_type": "execute_result"
    }
   ],
   "source": [
    "word = \"SUMIT\"\n",
    "i = 0\n",
    "odd = \"\"\n",
    "even=\"\"\n",
    "for i in range(len(word)) :\n",
    "    if i%2==0:\n",
    "        even = even  + word[i]\n",
    "    else:\n",
    "        odd = odd + word[i]\n",
    "\n",
    "word = even + odd\n",
    "word\n",
    "\n"
   ]
  },
  {
   "cell_type": "markdown",
   "id": "73bd26aa",
   "metadata": {},
   "source": [
    "**Given two strings of equal length create a new string by alternating characters from each string** \n"
   ]
  },
  {
   "cell_type": "code",
   "execution_count": 68,
   "id": "0d6c9ab4",
   "metadata": {},
   "outputs": [
    {
     "data": {
      "text/plain": [
       "'SDuimviets'"
      ]
     },
     "execution_count": 68,
     "metadata": {},
     "output_type": "execute_result"
    }
   ],
   "source": [
    "a1 = \"Sumit\"\n",
    "a2 = \"Dives\"\n",
    "x3 = \"\"\n",
    "for i in range(len(a1)):\n",
    "    x3 = x3 + a1[i]\n",
    "    x3 = x3 + a2[i]\n",
    "\n",
    "x3\n"
   ]
  },
  {
   "cell_type": "code",
   "execution_count": 73,
   "id": "90a615ed",
   "metadata": {},
   "outputs": [
    {
     "data": {
      "text/plain": [
       "'Sm'"
      ]
     },
     "execution_count": 73,
     "metadata": {},
     "output_type": "execute_result"
    }
   ],
   "source": [
    "a1[0:-1:2]"
   ]
  },
  {
   "cell_type": "code",
   "execution_count": null,
   "id": "8906e1f4",
   "metadata": {},
   "outputs": [],
   "source": []
  }
 ],
 "metadata": {
  "kernelspec": {
   "display_name": "Python 3",
   "language": "python",
   "name": "python3"
  },
  "language_info": {
   "codemirror_mode": {
    "name": "ipython",
    "version": 3
   },
   "file_extension": ".py",
   "mimetype": "text/x-python",
   "name": "python",
   "nbconvert_exporter": "python",
   "pygments_lexer": "ipython3",
   "version": "3.13.5"
  }
 },
 "nbformat": 4,
 "nbformat_minor": 5
}
