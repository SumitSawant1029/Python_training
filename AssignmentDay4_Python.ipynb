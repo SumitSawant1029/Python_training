{
 "cells": [
  {
   "cell_type": "code",
   "execution_count": 1,
   "id": "59546577",
   "metadata": {},
   "outputs": [],
   "source": [
    "#Object Oriented Programming "
   ]
  },
  {
   "cell_type": "code",
   "execution_count": 6,
   "id": "e930618c",
   "metadata": {},
   "outputs": [
    {
     "name": "stdout",
     "output_type": "stream",
     "text": [
      "Student Name Is Sumit \n",
      "Student marks is 39\n",
      "fail\n"
     ]
    }
   ],
   "source": [
    "class Student():\n",
    "    def __init__(self,name,marks):\n",
    "        self.name = name\n",
    "        self.marks = marks\n",
    "    \n",
    "    def studentdetails(self):\n",
    "        print(f\"Student Name Is {self.name} \\nStudent marks is {self.marks}\")\n",
    "\n",
    "    def checkpassorfail(self):\n",
    "        if int(self.marks) >= 40:\n",
    "            print(\"pass\")\n",
    "        else :\n",
    "            print(\"fail\")\n",
    "\n",
    "obj = Student(\"Sumit\",\"39\")\n",
    "obj.studentdetails()\n",
    "obj.checkpassorfail()"
   ]
  },
  {
   "cell_type": "code",
   "execution_count": 7,
   "id": "d4b3d857",
   "metadata": {},
   "outputs": [
    {
     "name": "stdout",
     "output_type": "stream",
     "text": [
      "You dont have sufficient funds\n",
      "Your balance is 10000\n",
      "Your balance is 2000\n",
      "Your Balance is 2000\n",
      "Your Balance Is 12000\n"
     ]
    }
   ],
   "source": [
    "class BankAccount():\n",
    "\n",
    "    def __init__(self,balance):\n",
    "        self.balance = balance\n",
    "\n",
    "    def deposit(self,deposit):\n",
    "        self.balance = self.balance + deposit\n",
    "        print(f\"Your Balance Is {self.balance}\")\n",
    "\n",
    "\n",
    "    def withdraw(self,amount):\n",
    "        if self.balance - amount < 0 :\n",
    "            print(f\"You dont have sufficient funds\")\n",
    "        else:\n",
    "            self.balance = self.balance - amount\n",
    "\n",
    "        print(f\"Your balance is {self.balance}\")\n",
    "\n",
    "    def balance1(self):\n",
    "        print(f\"Your Balance is {self.balance}\")\n",
    "\n",
    "obj = BankAccount(10000)\n",
    "obj.withdraw(80000)\n",
    "obj.withdraw(8000)\n",
    "obj.balance1()\n",
    "obj.deposit(10000)\n",
    "\n",
    "\n",
    "\n",
    "\n",
    "    "
   ]
  },
  {
   "cell_type": "code",
   "execution_count": 15,
   "id": "fae003d4",
   "metadata": {},
   "outputs": [
    {
     "name": "stdout",
     "output_type": "stream",
     "text": [
      "Engine Started\n",
      "Car Running ......\n",
      "Engine Started\n",
      "Bike Running ......\n"
     ]
    }
   ],
   "source": [
    "class Vechile():\n",
    "    def start_engine(self):\n",
    "        print(f\"Engine Started\")\n",
    "\n",
    "class Car(Vechile):\n",
    "    def start_Car(self):\n",
    "        super().start_engine()\n",
    "        print(\"Car Running ......\")\n",
    "\n",
    "class Bike(Vechile):\n",
    "    def start_Bike(self):\n",
    "        super().start_engine()\n",
    "        print(\"Bike Running ......\")\n",
    "\n",
    "\n",
    "obj = Car()\n",
    "obj.start_Car()\n",
    "obj = Bike()\n",
    "obj.start_Bike()\n"
   ]
  },
  {
   "cell_type": "markdown",
   "id": "247b43a1",
   "metadata": {},
   "source": [
    "Multilevel Inheritance"
   ]
  },
  {
   "cell_type": "code",
   "execution_count": 19,
   "id": "f1a17075",
   "metadata": {},
   "outputs": [
    {
     "name": "stdout",
     "output_type": "stream",
     "text": [
      "Name: Rahul, Age: 22\n",
      "Roll No: S101, Course: B.Sc Computer Science\n",
      "Specialization: AI & ML, CGPA: 8.7\n"
     ]
    }
   ],
   "source": [
    "class Person:\n",
    "    def __init__(self, name, age):\n",
    "        self.name = name\n",
    "        self.age = age\n",
    "\n",
    "    def display_person(self):\n",
    "        print(f\"Name: {self.name}, Age: {self.age}\")\n",
    "\n",
    "\n",
    "class Student(Person):\n",
    "    def __init__(self, name, age, roll_no, course):\n",
    "        super().__init__(name, age)\n",
    "        self.roll_no = roll_no\n",
    "        self.course = course\n",
    "\n",
    "    def display_student(self):\n",
    "        self.display_person()\n",
    "        print(f\"Roll No: {self.roll_no}, Course: {self.course}\")\n",
    "\n",
    "\n",
    "class GraduateStudent(Student):\n",
    "    def __init__(self, name, age, roll_no, course, specialization, cgpa):\n",
    "        super().__init__(name, age, roll_no, course)\n",
    "        self.specialization = specialization\n",
    "        self.cgpa = cgpa\n",
    "\n",
    "    def display_graduate_student(self):\n",
    "        self.display_student()\n",
    "        print(f\"Specialization: {self.specialization}, CGPA: {self.cgpa}\")\n",
    "\n",
    "\n",
    "grad = GraduateStudent(\"Rahul\", 22, \"S101\", \"B.Sc Computer Science\", \"AI & ML\", 8.7)\n",
    "grad.display_graduate_student()\n"
   ]
  },
  {
   "cell_type": "code",
   "execution_count": 21,
   "id": "83de367e",
   "metadata": {},
   "outputs": [
    {
     "name": "stdout",
     "output_type": "stream",
     "text": [
      "Lion Eats Deer\n",
      "Monekey eats banana\n",
      "Elephant eats banana and has a long trunk\n"
     ]
    }
   ],
   "source": [
    "class Animal():\n",
    "    def eat(self):\n",
    "        print(\"Animal Eating ................\")\n",
    "\n",
    "class Lion(Animal):\n",
    "    def eat(self):\n",
    "        print(\"Lion Eats Deer\")\n",
    "\n",
    "class Monkey(Animal):\n",
    "    def eat(self):\n",
    "        print(\"Monekey eats banana\")\n",
    "\n",
    "class Elephant(Animal):\n",
    "    def eat(self):\n",
    "        print(\"Elephant eats banana and has a long trunk\")\n",
    "\n",
    "obj = [Lion(),Monkey(),Elephant()]\n",
    "\n",
    "for a in obj:\n",
    "    a.eat()"
   ]
  },
  {
   "cell_type": "code",
   "execution_count": 23,
   "id": "15482a93",
   "metadata": {},
   "outputs": [
    {
     "name": "stdout",
     "output_type": "stream",
     "text": [
      "Cat Meow Meow\n",
      "i am Not overriden\n"
     ]
    }
   ],
   "source": [
    "class Animal():\n",
    "    def sound(self):\n",
    "        print(\"Animal Shouting ................\")\n",
    "\n",
    "    def shout(self):\n",
    "        print(\"i am Not overriden\")\n",
    "\n",
    "class Dog(Animal):\n",
    "    def sound(self):\n",
    "        print(\"Dog Barks\")\n",
    "\n",
    "class Cat(Animal):\n",
    "    def sound(self):\n",
    "        print(\"Cat Meow Meow\")\n",
    "\n",
    "\n",
    "obj = Cat()\n",
    "obj.sound()\n",
    "obj.shout()\n"
   ]
  },
  {
   "cell_type": "code",
   "execution_count": 32,
   "id": "a59f5a8b",
   "metadata": {},
   "outputs": [
    {
     "name": "stdout",
     "output_type": "stream",
     "text": [
      "Fan turned On\n",
      "Light turned On\n"
     ]
    }
   ],
   "source": [
    "from abc import ABC, abstractmethod\n",
    "\n",
    "class Appliance(ABC):\n",
    "    @abstractmethod\n",
    "    def turn_on(self):\n",
    "        pass\n",
    "\n",
    "class Fan(Appliance):\n",
    "\n",
    "    def turn_on(self):\n",
    "        print(\"Fan turned On\")\n",
    "\n",
    "class Light(Appliance):\n",
    "    def turn_on(self):\n",
    "        print(\"Light turned On\")\n",
    "\n",
    "obj = [Fan(),Light()]\n",
    "for i in obj:\n",
    "    i.turn_on()\n"
   ]
  },
  {
   "cell_type": "code",
   "execution_count": 57,
   "id": "aa9c25e1",
   "metadata": {},
   "outputs": [
    {
     "name": "stdout",
     "output_type": "stream",
     "text": [
      "Items Are [['Sumit', 929]]\n",
      "Items Are [['Sumit', 929], ['Sumit', 92]]\n",
      "Items Are [['Sumit', 929], ['Sumit', 92], ['Sumit', 929]]\n",
      "Items Are [['Sumit', 929], ['Sumit', 92], ['Sumit', 929], ['Sumit', 129]]\n",
      "Total Price in Shopping cart is 2079\n",
      "Items Are [['Sumit', 929], ['Sumit', 92], ['Sumit', 929]]\n"
     ]
    }
   ],
   "source": [
    "class ShoppingCart :\n",
    "    def __init__(self):\n",
    "        self.itemsnprice = []\n",
    "        \n",
    "    \n",
    "    def add_item(self,item,price):\n",
    "        a = []\n",
    "        a.append(item)\n",
    "        a.append(price)\n",
    "        self.itemsnprice.append(a)\n",
    "        print(f\"Items Are {self.itemsnprice}\")\n",
    "\n",
    "    def remove_item(self,item):\n",
    "\n",
    "        self.itemsnprice.remove(item)\n",
    "        print(f\"Items Are {self.itemsnprice}\")\n",
    "\n",
    "    def total_price(self):\n",
    "        sum = 0\n",
    "        for j in range(len(self.itemsnprice)):\n",
    "            sum = sum+self.itemsnprice[j][1]\n",
    "        print(f\"Total Price in Shopping cart is {sum}\")\n",
    "\n",
    "\n",
    "obj = ShoppingCart()\n",
    "obj.add_item(\"Sumit\",929)\n",
    "obj.add_item(\"Sumit\",92)\n",
    "obj.add_item(\"Sumit\",929)\n",
    "obj.add_item(\"Sumit\",129)\n",
    "obj.total_price()\n",
    "obj.remove_item([\"Sumit\",129])\n",
    "\n",
    "    "
   ]
  },
  {
   "cell_type": "code",
   "execution_count": null,
   "id": "88c6eba3",
   "metadata": {},
   "outputs": [
    {
     "name": "stdout",
     "output_type": "stream",
     "text": [
      "Wrong Pin\n",
      "Number of Attempts remaining are 2\n",
      "Wrong Pin\n",
      "Number of Attempts remaining are 1\n",
      "Wrong Pin\n",
      "Number of Attempts remaining are 0\n",
      "Your Account is Blocked . Try Unblock()\n"
     ]
    },
    {
     "data": {
      "text/plain": [
       "24248"
      ]
     },
     "execution_count": 68,
     "metadata": {},
     "output_type": "execute_result"
    }
   ],
   "source": [
    "class ATM():\n",
    "    def setpin(self):\n",
    "        self.originalpin = int(input(\"Enter your Pin:-\"))\n",
    "        \n",
    "    def __init__(self, balance):\n",
    "        self.Pinverification = 3\n",
    "        self.balance = balance\n",
    "        self.setpin()\n",
    "\n",
    "    def enterpin(self):\n",
    "        if self.originalpin == None:\n",
    "            print(\"Set a Pin First\")\n",
    "        else:\n",
    "            i=1\n",
    "            while i != 0 :\n",
    "                pin = int(input(\"Enter Pin:-\"))\n",
    "                if self.Pinverification != 0:\n",
    "                    if pin == self.originalpin :\n",
    "                        print(\"Access Granted\")\n",
    "                        i=0\n",
    "                    else :\n",
    "                        print(\"Wrong Pin\")\n",
    "                        self.Pinverification = self.Pinverification - 1\n",
    "                        print(f\"Number of Attempts remaining are {self.Pinverification}\")\n",
    "                else:\n",
    "                    print(\"Your Account is Blocked . Try Unblock()\")\n",
    "                    i=0\n",
    "\n",
    "\n",
    "\n",
    "obj=ATM(10000)\n",
    "obj.enterpin()\n",
    "obj.originalpin\n",
    "\n"
   ]
  },
  {
   "cell_type": "markdown",
   "id": "eedefe40",
   "metadata": {},
   "source": []
  },
  {
   "cell_type": "code",
   "execution_count": null,
   "id": "8adc116d",
   "metadata": {},
   "outputs": [],
   "source": []
  },
  {
   "cell_type": "code",
   "execution_count": null,
   "id": "4cb62a80",
   "metadata": {},
   "outputs": [],
   "source": []
  }
 ],
 "metadata": {
  "kernelspec": {
   "display_name": "Python 3",
   "language": "python",
   "name": "python3"
  },
  "language_info": {
   "codemirror_mode": {
    "name": "ipython",
    "version": 3
   },
   "file_extension": ".py",
   "mimetype": "text/x-python",
   "name": "python",
   "nbconvert_exporter": "python",
   "pygments_lexer": "ipython3",
   "version": "3.13.5"
  }
 },
 "nbformat": 4,
 "nbformat_minor": 5
}
