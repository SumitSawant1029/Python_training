{
 "cells": [
  {
   "cell_type": "code",
   "execution_count": null,
   "id": "77a439fe",
   "metadata": {},
   "outputs": [
    {
     "name": "stdout",
     "output_type": "stream",
     "text": [
      "hii 999ii\n"
     ]
    }
   ],
   "source": [
    "abc=\"hii\"\n",
    "Abc=    \"999ii\"\n",
    "\n",
    "print(abc,Abc)\n",
    "abc==Abc\n"
   ]
  },
  {
   "cell_type": "code",
   "execution_count": 1,
   "id": "34287d73",
   "metadata": {},
   "outputs": [
    {
     "data": {
      "text/plain": [
       "10"
      ]
     },
     "execution_count": 1,
     "metadata": {},
     "output_type": "execute_result"
    }
   ],
   "source": [
    "_var1 = 10\n",
    "_var1"
   ]
  },
  {
   "cell_type": "code",
   "execution_count": 1,
   "id": "ff480dc4",
   "metadata": {},
   "outputs": [
    {
     "ename": "SyntaxError",
     "evalue": "invalid decimal literal (2476402338.py, line 4)",
     "output_type": "error",
     "traceback": [
      "  \u001b[36mCell\u001b[39m\u001b[36m \u001b[39m\u001b[32mIn[1]\u001b[39m\u001b[32m, line 4\u001b[39m\n\u001b[31m    \u001b[39m\u001b[31m9Aar1=\"Hi\"\u001b[39m\n    ^\n\u001b[31mSyntaxError\u001b[39m\u001b[31m:\u001b[39m invalid decimal literal\n"
     ]
    }
   ],
   "source": [
    "_var1=\"Hi\"\n",
    "var1=\"Hi\"\n",
    "Aar1=\"Hi\"\n",
    "9Aar1=\"Hi\"\n",
    "def=0\n",
    "\n"
   ]
  },
  {
   "cell_type": "code",
   "execution_count": 4,
   "id": "189b957f",
   "metadata": {},
   "outputs": [
    {
     "name": "stdout",
     "output_type": "stream",
     "text": [
      "kkk\n"
     ]
    }
   ],
   "source": [
    "if True:\n",
    "    print(\"kkk\")\n"
   ]
  },
  {
   "cell_type": "code",
   "execution_count": 12,
   "id": "68c1d4f6",
   "metadata": {},
   "outputs": [
    {
     "name": "stdout",
     "output_type": "stream",
     "text": [
      "<class 'int'>\n",
      "<class 'str'>\n"
     ]
    }
   ],
   "source": [
    "x = 4\n",
    "y = 'Hello'\n",
    "print(type(x))\n",
    "print(type(y))"
   ]
  },
  {
   "cell_type": "code",
   "execution_count": null,
   "id": "8b1dbd7e",
   "metadata": {},
   "outputs": [],
   "source": [
    "\n",
    "a=8 # int\n",
    "f=0.99 #float\n",
    "y = 'Hello'  #String\n",
    "\n"
   ]
  },
  {
   "cell_type": "code",
   "execution_count": null,
   "id": "56794ebc",
   "metadata": {},
   "outputs": [
    {
     "name": "stdout",
     "output_type": "stream",
     "text": [
      "Hellow WorldHellow WorldHellow World\n"
     ]
    }
   ],
   "source": [
    "var=\"Python\"\n",
    "\n",
    "var[0] #P\n",
    "var[2] #t\n",
    "var[0:3]    #Pyt'\n",
    "var[1:]   #'ython'\n",
    "var[:]    #'Python'\n",
    "var[-1]   # 'n'\n",
    "var[:-1]  # 'Pytho'\n",
    "\n",
    "\n",
    "# string Concate:\n",
    "\n",
    "str1=\"Hello\"\n",
    "str2=\"Worlda\"\n",
    "\n",
    "res=str1 +\" \" + str2\n",
    "print(res*3)\n",
    "\n"
   ]
  },
  {
   "cell_type": "code",
   "execution_count": null,
   "id": "3419ac42",
   "metadata": {},
   "outputs": [
    {
     "data": {
      "text/plain": [
       "'Hello World'"
      ]
     },
     "execution_count": 45,
     "metadata": {},
     "output_type": "execute_result"
    }
   ],
   "source": [
    "# String Operation:\n",
    "str1=\" Hello World \"\n",
    "\n",
    "#upper()\n",
    "\n",
    "upp= str1[:-1] + str1[-1].upper()\n",
    "\n",
    "\n",
    "\n",
    "#lower:\n",
    "low=str1.lower() #'hello'\n",
    "\n",
    "rep=str1.replace(\"el\",\"_kt_\")  #'H_kt_lo World'\n",
    "\n",
    "rep=str1.replace(\" \",\"\") #'HelloWorld'\n",
    "\n",
    "str1.strip()  #'Hello World'"
   ]
  },
  {
   "cell_type": "code",
   "execution_count": 53,
   "id": "123bb9e0",
   "metadata": {},
   "outputs": [
    {
     "data": {
      "text/plain": [
       "'My name is heyyyy -- sumit'"
      ]
     },
     "execution_count": 53,
     "metadata": {},
     "output_type": "execute_result"
    }
   ],
   "source": [
    "var=\"sumit\"\n",
    "\n",
    "sen=f\"My name is {var}\"\n",
    "\n",
    "def fun():\n",
    "    return \"heyyyy\"\n",
    "sen=f\"My name is {fun()} -- {var}\"\n",
    "\n",
    "sen"
   ]
  },
  {
   "cell_type": "code",
   "execution_count": 48,
   "id": "64f0c33b",
   "metadata": {},
   "outputs": [
    {
     "name": "stdout",
     "output_type": "stream",
     "text": [
      "Hiii\n"
     ]
    }
   ],
   "source": [
    "print(\"Hiii\")"
   ]
  },
  {
   "cell_type": "code",
   "execution_count": 49,
   "id": "e21e8ab3",
   "metadata": {},
   "outputs": [
    {
     "name": "stdout",
     "output_type": "stream",
     "text": [
      "A is: ss\n"
     ]
    }
   ],
   "source": [
    "a=input(\"enter your name:\")\n",
    "print(f\"A is: {a}\")"
   ]
  },
  {
   "cell_type": "code",
   "execution_count": 11,
   "id": "817acc78",
   "metadata": {},
   "outputs": [
    {
     "name": "stdout",
     "output_type": "stream",
     "text": [
      "True\n",
      "True\n",
      "True\n",
      "False\n",
      "False\n",
      "True\n"
     ]
    }
   ],
   "source": [
    "# True, False\n",
    "\n",
    "# and or not, a^b\n",
    "\n",
    "print(True and True)\n",
    "print(True or True)\n",
    "print(True & True)  #and\n",
    "print(False | False) #or\n",
    "\n",
    "\n",
    "\n",
    "print(True ^ False^True) # Xor : odd detector.\n",
    "\n",
    "\n",
    "\n",
    "print((True and True) and (True and True))\n",
    "\n"
   ]
  },
  {
   "cell_type": "code",
   "execution_count": null,
   "id": "80b9f9ef",
   "metadata": {},
   "outputs": [
    {
     "name": "stdout",
     "output_type": "stream",
     "text": [
      "True\n",
      "False\n",
      "True\n"
     ]
    },
    {
     "name": "stderr",
     "output_type": "stream",
     "text": [
      "<>:15: SyntaxWarning: \"is\" with 'str' literal. Did you mean \"==\"?\n",
      "C:\\Users\\122327\\AppData\\Local\\Temp\\ipykernel_20608\\3807936172.py:15: SyntaxWarning: \"is\" with 'str' literal. Did you mean \"==\"?\n",
      "  print(var3 is \"4\")\n"
     ]
    }
   ],
   "source": [
    "var1=4\n",
    "var2=7\n",
    "\n",
    "c=var1+var2  #-: Subtraction,/:division, //: float division, \n",
    "\n",
    "var1=var1+1\n",
    "var1+=var1   #--> var1+1\n",
    "\n",
    "lst=[\"2\",\"3\"]\n",
    "\n",
    "print(\"2\" in lst)\n",
    "print(\"4\" in lst)\n",
    "\n",
    "var3=\"4\"\n",
    "print(var3 is \"4\")\n",
    "\n",
    "\n",
    "\n",
    "\n",
    "\n",
    "\n",
    "\n",
    "\n",
    "\n",
    "\n",
    "\n"
   ]
  },
  {
   "cell_type": "code",
   "execution_count": null,
   "id": "b367ec13",
   "metadata": {},
   "outputs": [
    {
     "name": "stdout",
     "output_type": "stream",
     "text": [
      "[]\n",
      "[1, 2, 'a', 9.0]\n",
      "old list:[1, 2, 'a', 9.0]\n",
      "new list:['New element', 2, 'a', 9.0]\n",
      "list after append:['New element', 2, 'a', 9.0, 'Append_new_val']\n",
      "list after insert:['New element', 2, 'Append_new_val at 2', 'a', 9.0, 'Append_new_val']\n",
      "['Append_new_val at 2', 'a', 9.0]\n",
      "New element\n"
     ]
    },
    {
     "data": {
      "text/plain": [
       "3"
      ]
     },
     "execution_count": 43,
     "metadata": {},
     "output_type": "execute_result"
    }
   ],
   "source": [
    "lst=[]\n",
    "print(lst)\n",
    "\n",
    "lst=[1,2,\"a\",9.0]   \n",
    "print(lst)\n",
    "\n",
    "\n",
    "\n",
    "#Access:\n",
    "lst[0]\n",
    "lst[1]\n",
    "\n",
    "print(f\"old list:{lst}\")\n",
    "lst[0]=\"New element\"\n",
    "print(f\"new list:{lst}\")\n",
    "\n",
    "\n",
    "# ADD:\n",
    "lst.append(\"Append_new_val\")\n",
    "\n",
    "print(f\"list after append:{lst}\")\n",
    "\n",
    "lst.insert(2,\"Append_new_val at 2\")\n",
    "\n",
    "print(f\"list after insert:{lst}\")\n",
    "\n",
    "\n",
    "\n",
    "# remove last element\n",
    "rem=lst.pop()\n",
    "lst\n",
    "\n",
    "rem=lst.pop(0) #takes index\n",
    "\n",
    "lst.remove(2) #takes value\n",
    "print(lst)\n",
    "print(rem)\n",
    "\n",
    "lst.count('a') #return count of element \"a\" in lst\n",
    "len(lst)  # return lenght of lst\n",
    "\n",
    "\n"
   ]
  },
  {
   "cell_type": "code",
   "execution_count": 39,
   "id": "296c9634",
   "metadata": {},
   "outputs": [
    {
     "name": "stdout",
     "output_type": "stream",
     "text": [
      "[[1, 2], [3, 4]]\n",
      "4\n"
     ]
    }
   ],
   "source": [
    "lst_1D=[1,2,3]\n",
    "lst_2D=[\n",
    "    [1,2],\n",
    "    [3,4]\n",
    "]\n",
    "\n",
    "\n",
    "print(lst_2D)\n",
    "print(lst_2D[1][1])"
   ]
  },
  {
   "cell_type": "code",
   "execution_count": 47,
   "id": "acc1fdad",
   "metadata": {},
   "outputs": [
    {
     "name": "stdout",
     "output_type": "stream",
     "text": [
      "[5]\n",
      "(5,)\n",
      "(2, 3, 4)\n",
      "2\n",
      "1\n"
     ]
    }
   ],
   "source": [
    "print([5])\n",
    "print((5,))\n",
    "\n",
    "\n",
    "a=(2,3,4)\n",
    "print(a)\n",
    "print(a[0])\n",
    "print(a.count(3))\n",
    "\n"
   ]
  },
  {
   "cell_type": "code",
   "execution_count": null,
   "id": "c918ea2d",
   "metadata": {},
   "outputs": [
    {
     "name": "stdout",
     "output_type": "stream",
     "text": [
      "{1, 2, 3, 4, 5, 6}\n",
      "{4}\n",
      "{1, 2, 3}\n",
      "{1, 2, 3, 5, 6}\n"
     ]
    }
   ],
   "source": [
    "s=set()\n",
    "a={1,2,3,4}\n",
    "b={4,5,6}\n",
    "\n",
    "\n",
    "print(a | b)  # Union\n",
    "print(a & b) # intersection\n",
    "print(a-b)   # difference.\n",
    "print(a^b)   # Symmentric Difference\n",
    "\n",
    "\n"
   ]
  },
  {
   "cell_type": "code",
   "execution_count": 66,
   "id": "e598615d",
   "metadata": {},
   "outputs": [
    {
     "name": "stdout",
     "output_type": "stream",
     "text": [
      "dict_keys(['name', 'no', 8])\n",
      "dict_values(['sh', [2, 4.5, 7], 'ak'])\n",
      "sh\n",
      "None\n"
     ]
    },
    {
     "data": {
      "text/plain": [
       "{'name': 'sh',\n",
       " 'no': [2, 4.5, 7],\n",
       " 8: 'ak',\n",
       " 'new_key': [5, 8],\n",
       " '1': [1, 2],\n",
       " '2': [3, 4]}"
      ]
     },
     "execution_count": 66,
     "metadata": {},
     "output_type": "execute_result"
    }
   ],
   "source": [
    "d={} # Empty dict\n",
    "d={\"name\":\"sh\",\"no\":[2,4.5,7],8:\"ak\"}\n",
    "\n",
    "\n",
    "print(d.keys())\n",
    "print(d.values())\n",
    "print(d[\"name\"])\n",
    "print(d.get(\"name1\"))\n",
    "\n",
    "d[\"new_key\"]=[5,8]\n",
    "\n",
    "d2={\"1\":[1,2],\"2\":[3,4]}\n",
    "\n",
    "d.update(d2)\n",
    "d"
   ]
  },
  {
   "cell_type": "code",
   "execution_count": 68,
   "id": "f0a0c4a7",
   "metadata": {},
   "outputs": [
    {
     "data": {
      "text/plain": [
       "[1, 2, 4, 6, 7, 8]"
      ]
     },
     "execution_count": 68,
     "metadata": {},
     "output_type": "execute_result"
    }
   ],
   "source": [
    "[1,2] + [4,6,7,8]"
   ]
  },
  {
   "cell_type": "code",
   "execution_count": 67,
   "id": "29d6105c",
   "metadata": {},
   "outputs": [
    {
     "data": {
      "text/plain": [
       "{'name': 'sh',\n",
       " 'no': [2, 4.5, 7],\n",
       " 8: 'ak',\n",
       " 'new_key': [5, 8],\n",
       " '1': [1, 2],\n",
       " '2': [3, 4]}"
      ]
     },
     "execution_count": 67,
     "metadata": {},
     "output_type": "execute_result"
    }
   ],
   "source": [
    "d"
   ]
  },
  {
   "cell_type": "code",
   "execution_count": 77,
   "id": "11905cd1",
   "metadata": {},
   "outputs": [
    {
     "name": "stdout",
     "output_type": "stream",
     "text": [
      "true\n",
      "done\n"
     ]
    }
   ],
   "source": [
    "a=1\n",
    "b=3\n",
    "if ((a<b)<9) and True:\n",
    "    print(\"true\")\n",
    "\n",
    "\n",
    "print(\"done\")"
   ]
  },
  {
   "cell_type": "code",
   "execution_count": 95,
   "id": "5718a1e8",
   "metadata": {},
   "outputs": [
    {
     "name": "stdout",
     "output_type": "stream",
     "text": [
      "Done\n"
     ]
    }
   ],
   "source": [
    "if True:\n",
    "    pass\n",
    "\n",
    "print(\"Done\")"
   ]
  },
  {
   "cell_type": "code",
   "execution_count": 81,
   "id": "459dc98d",
   "metadata": {},
   "outputs": [
    {
     "name": "stdout",
     "output_type": "stream",
     "text": [
      "44444\n"
     ]
    }
   ],
   "source": [
    "a=1\n",
    "b=3\n",
    "if ((a<b)<9) and False:\n",
    "    print(\"true\")\n",
    "\n",
    "elif False:\n",
    "    print(\"222\")\n",
    "\n",
    "    \n",
    "elif False:\n",
    "    print(\"333\")\n",
    "\n",
    "else:\n",
    "    print(\"44444\")\n"
   ]
  },
  {
   "cell_type": "code",
   "execution_count": null,
   "id": "6cd358e0",
   "metadata": {},
   "outputs": [
    {
     "name": "stdout",
     "output_type": "stream",
     "text": [
      "0 11\n",
      "1 12\n",
      "3 14\n",
      "4 15\n"
     ]
    }
   ],
   "source": [
    "# Loops:\n",
    "\n",
    "a=[11,12,13,14,15]\n",
    "\n",
    "# range: start ,stop ,step\n",
    "for ix,i in enumerate(a):\n",
    "    \n",
    "    if ix==2:\n",
    "        continue\n",
    "    \n",
    "    print(ix,i)\n",
    "\n",
    "\n"
   ]
  },
  {
   "cell_type": "code",
   "execution_count": 98,
   "id": "80413779",
   "metadata": {},
   "outputs": [
    {
     "name": "stdout",
     "output_type": "stream",
     "text": [
      "0 11\n",
      "1 12\n"
     ]
    }
   ],
   "source": [
    "# Loops:\n",
    "\n",
    "a=[11,12,13,14,15]\n",
    "\n",
    "# range: start ,stop ,step\n",
    "for ix,i in enumerate(a):\n",
    "    \n",
    "    if ix==2:\n",
    "        break\n",
    "    \n",
    "    print(ix,i)\n"
   ]
  },
  {
   "cell_type": "code",
   "execution_count": 103,
   "id": "7c5f86b5",
   "metadata": {},
   "outputs": [
    {
     "name": "stdout",
     "output_type": "stream",
     "text": [
      "[1, 2, 3, 4, 5, 6]\n"
     ]
    }
   ],
   "source": [
    "mat2d=[\n",
    "    [1,2,3],\n",
    "    [4,5,6]\n",
    "]\n",
    "\n",
    "mat1d =[]\n",
    "\n",
    "for i in mat2d:\n",
    "    for j in i:\n",
    "        mat1d.append(j)\n",
    "\n",
    "print(mat1d)\n"
   ]
  },
  {
   "cell_type": "code",
   "execution_count": null,
   "id": "6e8db1bd",
   "metadata": {},
   "outputs": [
    {
     "name": "stdout",
     "output_type": "stream",
     "text": [
      "0\n",
      "1\n",
      "2\n"
     ]
    }
   ],
   "source": [
    "a=0\n",
    "while a<10:\n",
    "    print(a)\n",
    "    a+=1\n",
    "    if a==3:\n",
    "        break\n",
    "    \n",
    "\n"
   ]
  },
  {
   "cell_type": "code",
   "execution_count": null,
   "id": "ea8e264b",
   "metadata": {},
   "outputs": [
    {
     "name": "stdout",
     "output_type": "stream",
     "text": [
      "i\n",
      "i\n",
      "i\n",
      "i\n",
      "i\n",
      "finished\n"
     ]
    }
   ],
   "source": [
    "for i in range(5):\n",
    "    print(\"i\")\n",
    "\n",
    "else:\n",
    "    print(\"finished\")"
   ]
  },
  {
   "cell_type": "code",
   "execution_count": null,
   "id": "1efdbc47",
   "metadata": {},
   "outputs": [],
   "source": []
  }
 ],
 "metadata": {
  "kernelspec": {
   "display_name": "Python 3",
   "language": "python",
   "name": "python3"
  },
  "language_info": {
   "codemirror_mode": {
    "name": "ipython",
    "version": 3
   },
   "file_extension": ".py",
   "mimetype": "text/x-python",
   "name": "python",
   "nbconvert_exporter": "python",
   "pygments_lexer": "ipython3",
   "version": "3.13.5"
  }
 },
 "nbformat": 4,
 "nbformat_minor": 5
}
