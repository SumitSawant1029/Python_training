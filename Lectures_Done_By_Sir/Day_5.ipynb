{
 "cells": [
  {
   "cell_type": "markdown",
   "id": "b6b688a4",
   "metadata": {},
   "source": [
    "# Polymorphism"
   ]
  },
  {
   "cell_type": "markdown",
   "id": "8cdf9c77",
   "metadata": {},
   "source": [
    "## What is Polymorphism?\n",
    "\n",
    "### Polymorphism, in simple terms, means 'many forms'. \n",
    "\n",
    "\n",
    "###  More specifically, polymorphism allows you to write code that can work with objects of different classes in a uniform way.\n",
    "\n",
    "\n",
    "### This is achieved when different classes respond to the same method call in their own specific ways.\n"
   ]
  },
  {
   "cell_type": "markdown",
   "id": "b20fe52f",
   "metadata": {},
   "source": []
  },
  {
   "cell_type": "markdown",
   "id": "879abbcd",
   "metadata": {},
   "source": [
    "Polymorphism = \"many forms\".\n",
    "It lets you use the same method name (or operator) across different classes, and the right behavior is chosen at runtime depending on the object."
   ]
  },
  {
   "cell_type": "code",
   "execution_count": null,
   "id": "e2bbc268",
   "metadata": {},
   "outputs": [],
   "source": [
    "def speak():\n",
    "    return \"Woof!\"\n",
    "\n",
    "def speak():\n",
    "    return \"hii!\"\n",
    "\n",
    "\n",
    "speak()"
   ]
  },
  {
   "cell_type": "code",
   "execution_count": 33,
   "id": "06ef4765",
   "metadata": {},
   "outputs": [
    {
     "name": "stdout",
     "output_type": "stream",
     "text": [
      "Woof!\n",
      "Meow!\n"
     ]
    }
   ],
   "source": [
    "class Dog:\n",
    "    def speak(self):\n",
    "        return \"Woof!\"\n",
    "\n",
    "\n",
    "class Cat:\n",
    "    def speak(self):\n",
    "        return \"Meow!\"\n",
    "\n",
    "\n",
    "\n",
    "# Polymorphism in action\n",
    "animals = [Dog(), Cat()]\n",
    "for a in animals:\n",
    "    print(a.speak())  \n",
    "\n",
    "\n",
    "# Woof!\n",
    "# Meow!"
   ]
  },
  {
   "cell_type": "code",
   "execution_count": null,
   "id": "0147b7e8",
   "metadata": {},
   "outputs": [],
   "source": []
  },
  {
   "cell_type": "markdown",
   "id": "924b3f48",
   "metadata": {},
   "source": [
    "## Without polymorphism (your current way)\n",
    "\n"
   ]
  },
  {
   "cell_type": "code",
   "execution_count": 34,
   "id": "97228b0c",
   "metadata": {},
   "outputs": [
    {
     "name": "stdout",
     "output_type": "stream",
     "text": [
      "Area: 78.5\n"
     ]
    }
   ],
   "source": [
    "# If multiple subclasses share the same method name but behave differently, polymorphism avoids if-else chains everywhere.\n",
    "\n",
    "shape = \"circle\"\n",
    "r = 5\n",
    "w, h = 4, 6\n",
    "\n",
    "if shape == \"circle\":\n",
    "    area = 3.14 * r * r\n",
    "elif shape == \"rectangle\":\n",
    "    area = w * h\n",
    "\n",
    "print(\"Area:\", area)"
   ]
  },
  {
   "cell_type": "markdown",
   "id": "f9782614",
   "metadata": {},
   "source": [
    "## With polymorphism (your current way)"
   ]
  },
  {
   "cell_type": "code",
   "execution_count": null,
   "id": "a070717f",
   "metadata": {},
   "outputs": [
    {
     "name": "stdout",
     "output_type": "stream",
     "text": [
      "Area: 78.5\n",
      "Area: 24\n"
     ]
    }
   ],
   "source": [
    "\n",
    "class Circle:\n",
    "    def __init__(self, radius):\n",
    "        self.radius = radius\n",
    "\n",
    "    def area(self):\n",
    "        return 3.14 * self.radius * self.radius\n",
    "\n",
    "\n",
    "class Rectangle:\n",
    "    \n",
    "    def __init__(self, width, height):\n",
    "        self.width = width\n",
    "        self.height = height\n",
    "\n",
    "    def area(self):\n",
    "        return self.width * self.height\n",
    "\n",
    "\n",
    "# Instead of checking `if shape == ...`\n",
    "shapes = [Circle(5), Rectangle(4, 6)]\n",
    "\n",
    "for s in shapes:\n",
    "    print(\"Area:\", s.area())\n"
   ]
  },
  {
   "cell_type": "markdown",
   "id": "e69a2f53",
   "metadata": {},
   "source": [
    "## Method overriding\n",
    "\n",
    "\n",
    "Method overriding enables you to customize the behavior of inherited methods in subclasses to suit their specific needs.\n",
    "\n",
    "\n",
    "\n",
    "Method overriding occurs when a subclass provides a specific implementation for a method that is already defined in its superclass. The subclass's method has the same name, parameters, and return type as the superclass's method.\n",
    "\n",
    "When the method is called on an object of the subclass, the subclass's version of the method is executed, effectively 'overriding' the superclass's implementation. This is a key aspect of runtime polymorphism because the specific method that gets called is determined at runtime based on the object's actual type.\n"
   ]
  },
  {
   "cell_type": "code",
   "execution_count": 38,
   "id": "97a538ed",
   "metadata": {},
   "outputs": [
    {
     "name": "stdout",
     "output_type": "stream",
     "text": [
      "Generic animal sound\n",
      "Woof!\n"
     ]
    }
   ],
   "source": [
    "class Animal:\n",
    "\n",
    "    def make_sound(self):\n",
    "        print(\"Generic animal sound\")\n",
    "\n",
    "class Dog(Animal):\n",
    "    \n",
    "    def make_sound(self):\n",
    "        print(\"Woof!\")\n",
    "\n",
    "    def call_sound(self):\n",
    "        print\n",
    "        self.make_sound()\n",
    "\n",
    "animal=Animal()\n",
    "dog=Dog()\n",
    "\n",
    "animal.make_sound()\n",
    "dog.make_sound()\n",
    "\n",
    "\n"
   ]
  },
  {
   "cell_type": "code",
   "execution_count": 41,
   "id": "b65ffd78",
   "metadata": {},
   "outputs": [
    {
     "name": "stdout",
     "output_type": "stream",
     "text": [
      "Generic animal sound\n",
      "Woof!\n",
      "cattttttt\n"
     ]
    }
   ],
   "source": [
    "class Animal:\n",
    "    def make_sound(self):\n",
    "        print(\"Generic animal sound\")\n",
    "\n",
    "class Dog(Animal):\n",
    "    def make_sound(self):\n",
    "        print(\"Woof!\")\n",
    "\n",
    "    def call_sound(self):\n",
    "        print\n",
    "        self.make_sound()\n",
    "\n",
    "\n",
    "class Cat(Animal):\n",
    "    def make_sound(self):\n",
    "      print(\"cattttttt\")\n",
    "\n",
    "\n",
    "animal = Animal()\n",
    "dog = Dog()\n",
    "cat=Cat()\n",
    "\n",
    "\n",
    "animal.make_sound()\n",
    "dog.call_sound()\n",
    "cat.make_sound()\n",
    "\n"
   ]
  },
  {
   "cell_type": "code",
   "execution_count": null,
   "id": "59bd0a57",
   "metadata": {},
   "outputs": [],
   "source": []
  },
  {
   "cell_type": "code",
   "execution_count": null,
   "id": "296189dc",
   "metadata": {},
   "outputs": [
    {
     "name": "stdout",
     "output_type": "stream",
     "text": [
      "Generic animal sound\n",
      "Woof!\n",
      "catttttt\n"
     ]
    }
   ],
   "source": [
    "class Animal:\n",
    "    def make_sound(self):\n",
    "        print(\"Generic animal sound\")\n",
    "\n",
    "class Dog(Animal):\n",
    "    \n",
    "    def make_sound(self):\n",
    "        print(\"Woof!\")\n",
    "\n",
    "    def call_sound(self):\n",
    "        print\n",
    "        self.make_sound()\n",
    "\n",
    "\n",
    "class Cat(Animal):\n",
    "    \n",
    "    def make_sound(self):\n",
    "        print(\"catttttt\")\n",
    "\n",
    "    def call_sound(self):\n",
    "        print\n",
    "        self.make_sound()\n",
    "\n",
    "\n",
    "animal = Animal()\n",
    "dog = Dog()\n",
    "cat = Cat()\n",
    "\n",
    "\n",
    "animal.make_sound()\n",
    "dog.call_sound()\n",
    "cat.call_sound()\n",
    "\n",
    "\n"
   ]
  },
  {
   "cell_type": "markdown",
   "id": "2629f287",
   "metadata": {},
   "source": [
    "# Duck Typing\n",
    "\n",
    "\n",
    "Duck typing is a concept related to dynamic typing, where the type or class of an object is less important than the methods it defines. The name comes from the saying, \\\"If it walks like a duck and quacks like a duck, then it must be a duck.\\\"\n",
    "\n",
    "In Python, duck typing means that you don't need to explicitly check the type of an object before calling its methods. Instead, you assume that if the object has the required methods, it will work correctly. If it doesn't, an exception will be raised at runtime.\n",
    "\n"
   ]
  },
  {
   "cell_type": "code",
   "execution_count": null,
   "id": "5a42a857",
   "metadata": {},
   "outputs": [
    {
     "name": "stdout",
     "output_type": "stream",
     "text": [
      "Quack!\n",
      "The person imitates a duck.\n"
     ]
    }
   ],
   "source": [
    "\n",
    "class Duck:\n",
    "    def quack(self):\n",
    "        print(\"Quack!\")\n",
    "\n",
    "class Person:\n",
    "    def quack(self):\n",
    "        print(\"The person imitates a duck.\")\n",
    "\n",
    "\n",
    "\n",
    "def make_quack(animal):\n",
    "    animal.quack()           # calling method from class instance \n",
    "\n",
    "\n",
    "duck = Duck()\n",
    "person = Person()\n",
    "\n",
    "make_quack(duck)   # Output: Quack!\n",
    "make_quack(person) # Output: The person imitates a duck.\n",
    "\n"
   ]
  },
  {
   "cell_type": "markdown",
   "id": "0e3a15fa",
   "metadata": {},
   "source": [
    "In this example, both `Duck` and `Person` have a `quack()` method. The `make_quack()` function doesn't care about the actual type of the object; it only cares that the object has a `quack()` method."
   ]
  },
  {
   "cell_type": "markdown",
   "id": "19b0fe48",
   "metadata": {},
   "source": []
  },
  {
   "cell_type": "markdown",
   "id": "ad760ab1",
   "metadata": {},
   "source": []
  },
  {
   "cell_type": "code",
   "execution_count": null,
   "id": "ca595fca",
   "metadata": {},
   "outputs": [],
   "source": []
  },
  {
   "cell_type": "markdown",
   "id": "b1a849ec",
   "metadata": {},
   "source": [
    "# What is Abstraction?"
   ]
  },
  {
   "cell_type": "markdown",
   "id": "b8dfa1f0",
   "metadata": {},
   "source": [
    "Abstraction simplifies complex systems. <br>\n",
    "It allows you to focus on the essential aspects of an object.<br>\n",
    "It promotes code reusability and maintainability.<br>"
   ]
  },
  {
   "cell_type": "markdown",
   "id": "d3c5d87d",
   "metadata": {},
   "source": [
    "Q: How does abstraction help in managing complexity?\n",
    "\n",
    "A: Abstraction helps manage complexity by hiding the intricate details of a system and presenting a simplified view. <br>\n",
    " This allows developers to work with high-level concepts without being overwhelmed by low-level implementation details. For example, when using a library, you don't need to know how the functions are implemented internally; you just need to know how to call them and what results to expect."
   ]
  },
  {
   "cell_type": "markdown",
   "id": "c446d319",
   "metadata": {},
   "source": []
  },
  {
   "cell_type": "markdown",
   "id": "a33d04ea",
   "metadata": {},
   "source": []
  },
  {
   "cell_type": "markdown",
   "id": "5ac3e0af",
   "metadata": {},
   "source": [
    "# Abstract Base Classes and Methods"
   ]
  },
  {
   "cell_type": "markdown",
   "id": "a6f1d9f5",
   "metadata": {},
   "source": [
    "### Abstract Base Classes (ABCs) are a way to define interfaces in Python. An abstract class cannot be instantiated directly; it serves as a blueprint for other classes.\n",
    "\n",
    "\n",
    "## Instantiation means creating an object (instance) from a class."
   ]
  },
  {
   "cell_type": "markdown",
   "id": "33e46801",
   "metadata": {},
   "source": [
    "from abc import ABC, abstractmethod"
   ]
  },
  {
   "cell_type": "markdown",
   "id": "b1d2465c",
   "metadata": {},
   "source": [
    "Imagine a car factory. The ABC is like the design specification that says every car *must* have a steering wheel and an engine.\n",
    "Different car models (concrete classes) will implement these features in their own way, but they *must* have them to be considered a valid car."
   ]
  },
  {
   "cell_type": "markdown",
   "id": "643a1402",
   "metadata": {},
   "source": [
    "Abstraction, in the context of object-oriented programming, is the process of hiding complex implementation details and \n",
    "exposing only the essential information about an object. It focuses on 'what' an object does rather than 'how' it does it.\n",
    "\n",
    "<br>\n",
    " Think of it like driving a car. You need to know how to steer, accelerate, and brake (the 'what'),\n",
    "but you don't need to understand the inner workings of the engine, transmission, or exhaust system (the 'how')."
   ]
  },
  {
   "cell_type": "markdown",
   "id": "5f839b39",
   "metadata": {},
   "source": [
    "## WHY Abstract class\n",
    "\n",
    "\n",
    "Abstract classes are used when you want to define a common blueprint for related classes, but you don’t want anyone to directly create objects from that blueprint."
   ]
  },
  {
   "cell_type": "markdown",
   "id": "eb5dc52a",
   "metadata": {},
   "source": [
    "## Using `abc` Module\n",
    "\n",
    "\n",
    "The `abc` (Abstract Base Classes) module in Python provides the infrastructure for defining abstract base classes.<br> You use the `ABC` class as a base class for your abstract classes and the `@abstractmethod` decorator to declare abstract methods.\n",
    "\n",
    "Provides tools for defining abstract base classes.\n",
    "The `ABC` class is used as a base class.\n",
    "The `@abstractmethod` decorator is used to declare abstract methods."
   ]
  },
  {
   "cell_type": "markdown",
   "id": "d3baeff6",
   "metadata": {},
   "source": [
    "In engineering projects → A Sensor abstract class may define read_data(), and every specific sensor (TemperatureSensor, PressureSensor) implements it.\n",
    "\n",
    "In UI frameworks → An abstract Widget may define draw(), and subclasses implement their own drawing logic."
   ]
  },
  {
   "cell_type": "code",
   "execution_count": null,
   "id": "1f312359",
   "metadata": {},
   "outputs": [],
   "source": [
    "from abc import ABC, abstractmethod\n",
    "\n",
    "class MyAbstractClass(ABC):\n",
    "    \n",
    "    @abstractmethod\n",
    "    def my_abstract_method(self):\n",
    "        pass"
   ]
  },
  {
   "cell_type": "code",
   "execution_count": null,
   "id": "09daf976",
   "metadata": {},
   "outputs": [
    {
     "ename": "TypeError",
     "evalue": "Can't instantiate abstract class Square with abstract method area",
     "output_type": "error",
     "traceback": [
      "\u001b[31m---------------------------------------------------------------------------\u001b[39m",
      "\u001b[31mTypeError\u001b[39m                                 Traceback (most recent call last)",
      "\u001b[36mCell\u001b[39m\u001b[36m \u001b[39m\u001b[32mIn[44]\u001b[39m\u001b[32m, line 17\u001b[39m\n\u001b[32m     12\u001b[39m         \u001b[38;5;28mself\u001b[39m.side = side\n\u001b[32m     16\u001b[39m \u001b[38;5;66;03m# shape = Shape()  # This will raise an error because Shape is abstract\u001b[39;00m\n\u001b[32m---> \u001b[39m\u001b[32m17\u001b[39m square = \u001b[43mSquare\u001b[49m\u001b[43m(\u001b[49m\u001b[32;43m5\u001b[39;49m\u001b[43m)\u001b[49m  \u001b[38;5;66;03m# This will raise error as area() not implemented in child\u001b[39;00m\n",
      "\u001b[31mTypeError\u001b[39m: Can't instantiate abstract class Square with abstract method area"
     ]
    }
   ],
   "source": [
    "from abc import ABC, abstractmethod\n",
    "\n",
    "class Shape(ABC): #Abstract Base Class\n",
    "    \n",
    "    @abstractmethod\n",
    "    def area(self):\n",
    "        pass\n",
    "\n",
    "\n",
    "class Square(Shape):\n",
    "    def __init__(self, side):\n",
    "        self.side = side\n",
    "\n",
    "    \n",
    "\n",
    "# shape = Shape()  # This will raise an error because Shape is abstract\n",
    "square = Square(5)  # This will raise error as area() not implemented in child\n",
    "\n"
   ]
  },
  {
   "cell_type": "code",
   "execution_count": 45,
   "id": "faf4d063",
   "metadata": {},
   "outputs": [
    {
     "name": "stdout",
     "output_type": "stream",
     "text": [
      "Red Color\n",
      "Doing something!\n"
     ]
    }
   ],
   "source": [
    "\n",
    "from abc import ABC, abstractmethod\n",
    "\n",
    "class AbstractClass(ABC):\n",
    "    def __init__(self):\n",
    "        self.color = \"Red Color\"\n",
    "\n",
    "\n",
    "    @abstractmethod\n",
    "    def do_something(self):\n",
    "        pass\n",
    "\n",
    "class ConcreteClass(AbstractClass):\n",
    "\n",
    "    def __init__(self):\n",
    "        super().__init__()\n",
    "        self.color = self.color\n",
    "        print(self.color)\n",
    "\n",
    "\n",
    "    def do_something(self):\n",
    "        print(\"Doing something!\")\n",
    "\n",
    "# obj = AbstractClass()  # This will raise a TypeError: Can't instantiate abstract class\n",
    "obj = ConcreteClass()\n",
    "obj.do_something()\n"
   ]
  },
  {
   "cell_type": "markdown",
   "id": "51bb64dc",
   "metadata": {},
   "source": [
    "Q: When should I use Abstract Base Classes?\n",
    "\n",
    "A: Use ABCs when you want to define a common interface for a set of subclasses, enforce that subclasses implement certain methods, \n",
    "and prevent direct instantiation of the base class. They are particularly useful in large projects where consistency and maintainability are critical."
   ]
  },
  {
   "cell_type": "code",
   "execution_count": 20,
   "id": "531efbdb",
   "metadata": {},
   "outputs": [],
   "source": [
    "# Example showing , defining two abstractmethod\n",
    "\n",
    "from abc import ABC, abstractmethod\n",
    "\n",
    "class MyInterface(ABC):\n",
    "    @abstractmethod\n",
    "    def method1(self):\n",
    "        pass\n",
    "\n",
    "    @abstractmethod\n",
    "    def method2(self):\n",
    "        pass\n",
    "\n",
    "class Implementation1(MyInterface):\n",
    "    def method1(self):\n",
    "        print(\"Implementation 1: Method 1\")\n",
    "\n",
    "    def method2(self):\n",
    "        print(\"Implementation 1: Method 2\")"
   ]
  },
  {
   "cell_type": "code",
   "execution_count": 46,
   "id": "49f0b2f2",
   "metadata": {},
   "outputs": [
    {
     "name": "stdout",
     "output_type": "stream",
     "text": [
      "HDFC Interest Rate: 7.5\n",
      "ICICI Interest Rate: 8.0\n"
     ]
    }
   ],
   "source": [
    "\n",
    "# Abstraction Example, in multiple child class\n",
    "from abc import ABC, abstractmethod\n",
    "\n",
    "class Bank(ABC):\n",
    "    @abstractmethod\n",
    "    def get_interest_rate(self):\n",
    "        pass\n",
    "\n",
    "    # Not abstraced    \n",
    "    def get_interest_rate2(self):\n",
    "            pass\n",
    "\n",
    "\n",
    "class HDFC(Bank):\n",
    "    def get_interest_rate(self):\n",
    "        return 7.5\n",
    "\n",
    "class ICICI(Bank):\n",
    "    def get_interest_rate(self):\n",
    "        return 8.0\n",
    "\n",
    "hdfc = HDFC()\n",
    "icici = ICICI()\n",
    "\n",
    "print(\"HDFC Interest Rate:\", hdfc.get_interest_rate())\n",
    "print(\"ICICI Interest Rate:\", icici.get_interest_rate())\n",
    "\n",
    "# The user only sees the get_interest_rate() method.\n",
    "# The implementation details of how each bank calculates\n",
    "# the interest rate are hidden (abstracted away).\n",
    "\n"
   ]
  },
  {
   "cell_type": "code",
   "execution_count": null,
   "id": "3da63ceb",
   "metadata": {},
   "outputs": [
    {
     "name": "stdout",
     "output_type": "stream",
     "text": [
      "Name: John\n",
      "Salary: 50000\n",
      "Name: John\n",
      "Salary: 60000\n"
     ]
    }
   ],
   "source": [
    "\n",
    "# Encapsulation Example\n",
    "class Employee:\n",
    "    def __init__(self, name, __salary):\n",
    "        self.name = name\n",
    "        self.__salary = __salary  # Private attribute\n",
    "\n",
    "    def show(self):\n",
    "        print(\"Name:\", self.name)\n",
    "        print(\"Salary:\", self.__salary)\n",
    "\n",
    "    def set_salary(self, amount):\n",
    "      self.__salary = amount\n",
    "\n",
    "emp = Employee(\"John\", 50000)\n",
    "emp.show()\n",
    "# print(emp.__salary) # This will raise an AttributeError\n",
    "emp.set_salary(60000) # proper way to change salary\n",
    "emp.show()\n",
    "\n",
    "# The salary attribute is \"private\" (using name mangling with __).\n",
    "# It can only be accessed or modified through the class's methods\n",
    "# (get_salary, set_salary), encapsulating the data and\n",
    "# controlling access to it.\n"
   ]
  },
  {
   "cell_type": "markdown",
   "id": "166fed38",
   "metadata": {},
   "source": []
  },
  {
   "cell_type": "code",
   "execution_count": 49,
   "id": "a400dd00",
   "metadata": {},
   "outputs": [],
   "source": [
    "# Abstraction Example, in multiple child class\n",
    "from abc import ABC, abstractmethod\n",
    "\n",
    "class Bank(ABC):\n",
    "    @abstractmethod\n",
    "    def get_interest_rate(self):\n",
    "        pass\n",
    "\n",
    "    # Not abstraced    \n",
    "    def get_interest_rate2(self):\n",
    "            pass\n",
    "\n",
    "\n",
    "\n",
    "class HDFC(Bank):\n",
    "    def get_interest_rate(self):\n",
    "        return 7.5\n",
    "\n",
    "\n",
    "\n",
    "obj=HDFC()"
   ]
  },
  {
   "cell_type": "markdown",
   "id": "ae5d8a4c",
   "metadata": {},
   "source": [
    "# File Handling"
   ]
  },
  {
   "cell_type": "markdown",
   "id": "5067885f",
   "metadata": {},
   "source": [
    "File handling → Reading from and writing to files, allows persistent storage (data remains after program ends).\n",
    "\n",
    "Opening files in Python → file = open('my_file.txt', 'w') (different modes: read, write, append, etc.).\n",
    "\n",
    "Types of files:\n",
    "\n",
    "Text files:\n",
    "\n",
    "Store human-readable characters.\n",
    "\n",
    "Encoded using ASCII or UTF-8(Unicode Transformation Format – 8-bit).\n",
    "\n",
    "Examples: .txt, .csv, .html.\n",
    "\n",
    "Uses 1 to 4 bytes per character:\n",
    "English letters & numbers → 1 byte (same as ASCII).\n",
    "Other characters (e.g., é, ह, 你, emojis 😀) → 2–4 bytes.\n",
    "\n",
    "\n",
    "Can be opened with a text editor.\n",
    "\n",
    "Binary files:\n",
    "\n",
    "Store non-human-readable bytes.\n",
    "\n",
    "Used for images, audio, video, executables.\n",
    "\n",
    "Examples: .jpg, .exe, .zip.\n",
    "\n",
    "Require specific programs to interpret."
   ]
  },
  {
   "cell_type": "markdown",
   "id": "769fd44a",
   "metadata": {},
   "source": []
  },
  {
   "cell_type": "markdown",
   "id": "8ec326a4",
   "metadata": {},
   "source": [
    "ASCII (American Standard Code for Information Interchange) → An older character encoding that represents English letters, digits, and symbols using 7 bits (0–127 values). Example: A = 65.\n",
    "\n",
    "UTF (Unicode Transformation Format) → A family of encodings (UTF-8, UTF-16, UTF-32) used to represent all characters in Unicode (languages, emojis, symbols). UTF-8 is most common and backward-compatible with ASCII."
   ]
  },
  {
   "cell_type": "markdown",
   "id": "6845c4fd",
   "metadata": {},
   "source": [
    "# Opening and Closing Files"
   ]
  },
  {
   "cell_type": "code",
   "execution_count": 3,
   "id": "9c0145f7",
   "metadata": {},
   "outputs": [],
   "source": [
    "file = open('input_file.txt', 'r')   #('filename', 'mode')\n",
    "file.close()"
   ]
  },
  {
   "cell_type": "code",
   "execution_count": null,
   "id": "498c7e7d",
   "metadata": {},
   "outputs": [],
   "source": []
  },
  {
   "cell_type": "code",
   "execution_count": 1,
   "id": "b90c728a",
   "metadata": {},
   "outputs": [
    {
     "name": "stdout",
     "output_type": "stream",
     "text": [
      "Hello World!\n",
      "Hello second World!\n",
      "\n",
      "14265B\n",
      "----\n"
     ]
    }
   ],
   "source": [
    "#Alternatively, the `with` statement provides a convenient way to automatically close files.\n",
    "with open('input_file.txt', 'r') as file:\n",
    "    content = file.read()\n",
    "    print(content)\n",
    "    print(\"----\")\n",
    "\n",
    "    "
   ]
  },
  {
   "cell_type": "markdown",
   "id": "9fc5cdd3",
   "metadata": {},
   "source": [
    "# Modes"
   ]
  },
  {
   "cell_type": "code",
   "execution_count": 2,
   "id": "72ee8ac9",
   "metadata": {},
   "outputs": [
    {
     "name": "stdout",
     "output_type": "stream",
     "text": [
      "Hello World!\n",
      "Hello second World!\n",
      "\n",
      "14265B\n"
     ]
    }
   ],
   "source": [
    "# 1. r (read) – Opens file for reading.\n",
    "with open(\"input_file.txt\", \"r\") as f:\n",
    "    content = f.read()\n",
    "    print(content)"
   ]
  },
  {
   "cell_type": "code",
   "execution_count": null,
   "id": "c131a675",
   "metadata": {},
   "outputs": [
    {
     "name": "stdout",
     "output_type": "stream",
     "text": [
      "2. This is appended text.\n",
      "\n"
     ]
    }
   ],
   "source": [
    "# 1. r (read) – Opens file for reading.\n",
    "with open(\"input_file.txt\", \"r\") as f:\n",
    "    content = f.readline()\n",
    "    content = f.readline()\n",
    "    content = f.readline() \n",
    "    print(content)"
   ]
  },
  {
   "cell_type": "code",
   "execution_count": 3,
   "id": "1fb67728",
   "metadata": {},
   "outputs": [
    {
     "name": "stdout",
     "output_type": "stream",
     "text": [
      "['1. Hello, World!\\n', '2. This is appended text.\\n', '3. This is appended text.']\n"
     ]
    }
   ],
   "source": [
    "# 1. r (read) – Opens file for reading.\n",
    "with open(\"input_file.txt\", \"r\") as f:\n",
    "    content = f.readlines()\n",
    " \n",
    "    print(content)"
   ]
  },
  {
   "cell_type": "code",
   "execution_count": 3,
   "id": "e84bc9d0",
   "metadata": {},
   "outputs": [],
   "source": [
    "# w (write) – Opens file for writing (overwrites if exists, else creates).\n",
    "\n",
    "with open(\"input_file.txt\", \"w\") as f:\n",
    "    f.write(\"Hello, World!\")   # old content erased"
   ]
  },
  {
   "cell_type": "code",
   "execution_count": 3,
   "id": "633168f5",
   "metadata": {},
   "outputs": [],
   "source": [
    "\n",
    "with open(\"input_devesh.txt\", \"w\") as f:\n",
    "    f.write(\"Hello, World!\")   # old content erased"
   ]
  },
  {
   "cell_type": "code",
   "execution_count": 4,
   "id": "050d256e",
   "metadata": {},
   "outputs": [],
   "source": [
    "# a (append) – Opens file for writing at the end.\n",
    "with open(\"input_file.txt\", \"a\") as f:\n",
    "    f.write(\"\\nThis is appended text.\")"
   ]
  },
  {
   "cell_type": "code",
   "execution_count": 1,
   "id": "e356420e",
   "metadata": {},
   "outputs": [
    {
     "ename": "FileExistsError",
     "evalue": "[Errno 17] File exists: 'new_file.txt'",
     "output_type": "error",
     "traceback": [
      "\u001b[31m---------------------------------------------------------------------------\u001b[39m",
      "\u001b[31mFileExistsError\u001b[39m                           Traceback (most recent call last)",
      "\u001b[36mCell\u001b[39m\u001b[36m \u001b[39m\u001b[32mIn[1]\u001b[39m\u001b[32m, line 3\u001b[39m\n\u001b[32m      1\u001b[39m \u001b[38;5;66;03m# x (exclusive create) – Creates new file, fails if it already exists.\u001b[39;00m\n\u001b[32m----> \u001b[39m\u001b[32m3\u001b[39m \u001b[38;5;28;01mwith\u001b[39;00m \u001b[38;5;28;43mopen\u001b[39;49m\u001b[43m(\u001b[49m\u001b[33;43m\"\u001b[39;49m\u001b[33;43mnew_file.txt\u001b[39;49m\u001b[33;43m\"\u001b[39;49m\u001b[43m,\u001b[49m\u001b[43m \u001b[49m\u001b[33;43m\"\u001b[39;49m\u001b[33;43mx\u001b[39;49m\u001b[33;43m\"\u001b[39;49m\u001b[43m)\u001b[49m \u001b[38;5;28;01mas\u001b[39;00m f:\n\u001b[32m      4\u001b[39m     f.write(\u001b[33m\"\u001b[39m\u001b[33mNew file created!\u001b[39m\u001b[33m\"\u001b[39m)\n",
      "\u001b[36mFile \u001b[39m\u001b[32md:\\116938\\Shriram_commercial\\weather_data_modeling\\.venv\\Lib\\site-packages\\IPython\\core\\interactiveshell.py:343\u001b[39m, in \u001b[36m_modified_open\u001b[39m\u001b[34m(file, *args, **kwargs)\u001b[39m\n\u001b[32m    336\u001b[39m \u001b[38;5;28;01mif\u001b[39;00m file \u001b[38;5;129;01min\u001b[39;00m {\u001b[32m0\u001b[39m, \u001b[32m1\u001b[39m, \u001b[32m2\u001b[39m}:\n\u001b[32m    337\u001b[39m     \u001b[38;5;28;01mraise\u001b[39;00m \u001b[38;5;167;01mValueError\u001b[39;00m(\n\u001b[32m    338\u001b[39m         \u001b[33mf\u001b[39m\u001b[33m\"\u001b[39m\u001b[33mIPython won\u001b[39m\u001b[33m'\u001b[39m\u001b[33mt let you open fd=\u001b[39m\u001b[38;5;132;01m{\u001b[39;00mfile\u001b[38;5;132;01m}\u001b[39;00m\u001b[33m by default \u001b[39m\u001b[33m\"\u001b[39m\n\u001b[32m    339\u001b[39m         \u001b[33m\"\u001b[39m\u001b[33mas it is likely to crash IPython. If you know what you are doing, \u001b[39m\u001b[33m\"\u001b[39m\n\u001b[32m    340\u001b[39m         \u001b[33m\"\u001b[39m\u001b[33myou can use builtins\u001b[39m\u001b[33m'\u001b[39m\u001b[33m open.\u001b[39m\u001b[33m\"\u001b[39m\n\u001b[32m    341\u001b[39m     )\n\u001b[32m--> \u001b[39m\u001b[32m343\u001b[39m \u001b[38;5;28;01mreturn\u001b[39;00m \u001b[43mio_open\u001b[49m\u001b[43m(\u001b[49m\u001b[43mfile\u001b[49m\u001b[43m,\u001b[49m\u001b[43m \u001b[49m\u001b[43m*\u001b[49m\u001b[43margs\u001b[49m\u001b[43m,\u001b[49m\u001b[43m \u001b[49m\u001b[43m*\u001b[49m\u001b[43m*\u001b[49m\u001b[43mkwargs\u001b[49m\u001b[43m)\u001b[49m\n",
      "\u001b[31mFileExistsError\u001b[39m: [Errno 17] File exists: 'new_file.txt'"
     ]
    }
   ],
   "source": [
    "# x (exclusive create) – Creates new file, fails if it already exists.\n",
    "\n",
    "with open(\"new_file.txt\", \"x\") as f:\n",
    "    f.write(\"New file created!\")\n",
    "\n",
    "    "
   ]
  },
  {
   "cell_type": "code",
   "execution_count": null,
   "id": "d98a85af",
   "metadata": {},
   "outputs": [],
   "source": [
    "\n",
    "\n",
    "with open(\"new_3.txt\",\"x\") as f:\n",
    "    f.write(\"Newwwwwwww\")\n",
    "\n",
    "\n",
    "\n",
    "# 1. does file exist?\n",
    "# 2. yes: ERROR\n",
    "# 3. No, Create new file, write.\n",
    "\n",
    "\n"
   ]
  },
  {
   "cell_type": "code",
   "execution_count": null,
   "id": "8ac2e07e",
   "metadata": {},
   "outputs": [
    {
     "name": "stdout",
     "output_type": "stream",
     "text": [
      "b'Hello World!\\r\\nHello second World!'\n"
     ]
    }
   ],
   "source": [
    "# b (binary) – Used for binary files (combine with r/w).\n",
    "with open(\"input_file.txt\", \"rb\") as f:   # reading in binary\n",
    "    data = f.read()\n",
    "    print(data)\n",
    "\n",
    "\n",
    "# When opened in binary mode, the file’s contents are read/written as raw bytes (b'\\x68\\x65\\x6c\\x6c\\x6f' instead of \"hello\").\n",
    "# Python will not decode the bytes into characters (like UTF-8 or ASCII).\n",
    "# That means:\n",
    "# You can still read text files in binary mode, but you’ll get bytes, not strings.\n",
    "# To convert, you must decode manually:\n"
   ]
  },
  {
   "cell_type": "code",
   "execution_count": null,
   "id": "0f9873d4",
   "metadata": {},
   "outputs": [],
   "source": [
    "# t (text) – Default mode (combine with r/w).\n",
    "with open(\"input_file.txt\", \"rt\") as f:\n",
    "    print(f.read())\n",
    "\n",
    "\n",
    "# t (text mode) → Default mode for file handling.\n",
    "\n",
    "# Reads/writes strings instead of raw bytes.\n",
    "\n",
    "# Automatically handles encoding/decoding (default: UTF-8).\n",
    "\n",
    "# Converts newlines (\\n, \\r\\n) to the platform’s format.\n",
    "                   "
   ]
  },
  {
   "cell_type": "code",
   "execution_count": null,
   "id": "2b3a5976",
   "metadata": {},
   "outputs": [],
   "source": [
    "# + (update: read + write) – Combine with other modes.\n",
    "with open(\"input_file.txt\", \"r+\") as f:\n",
    "    content = f.read()\n",
    "    f.write(\"\\nAdded new line after reading.\")\n",
    "\n",
    "\n",
    "# + → Allows both reading and writing in the same file.\n",
    "# Must be combined with another mode (r+, w+, a+).\n"
   ]
  },
  {
   "cell_type": "code",
   "execution_count": 4,
   "id": "09737512",
   "metadata": {},
   "outputs": [
    {
     "name": "stdout",
     "output_type": "stream",
     "text": [
      "1. He\n"
     ]
    }
   ],
   "source": [
    "file = open('input_file.txt', 'r') # File pointer at the beginning\n",
    "content = file.read(5) # Reads 5 bytes, file pointer advances 5 bytes\n",
    "print(content)"
   ]
  },
  {
   "cell_type": "markdown",
   "id": "efe79ba1",
   "metadata": {},
   "source": [
    "# The seek() Method"
   ]
  },
  {
   "cell_type": "code",
   "execution_count": 7,
   "id": "5b90f9f1",
   "metadata": {},
   "outputs": [
    {
     "name": "stdout",
     "output_type": "stream",
     "text": [
      "World\n"
     ]
    }
   ],
   "source": [
    "file = open('input_file.txt', 'r')\n",
    "file.seek(10) # Moves the file pointer 10 bytes from the beginning\n",
    "# file.seek(-5, 2) # Moves the file pointer 5 bytes from the end\n",
    "\n",
    "content = file.read(5) # Reads 5 bytes, file pointer advances 5 bytes\n",
    "print(content)"
   ]
  },
  {
   "cell_type": "code",
   "execution_count": 8,
   "id": "a7db0ef3",
   "metadata": {},
   "outputs": [
    {
     "data": {
      "text/plain": [
       "15"
      ]
     },
     "execution_count": 8,
     "metadata": {},
     "output_type": "execute_result"
    }
   ],
   "source": [
    "\n",
    "file.tell()"
   ]
  },
  {
   "cell_type": "markdown",
   "id": "6f7fa7e0",
   "metadata": {},
   "source": [
    "# The tell() Method\n",
    "\n",
    "The `tell()` method returns the current position of the file pointer, measured in bytes from the beginning of the file. This is helpful for keeping track of your location within a file."
   ]
  },
  {
   "cell_type": "code",
   "execution_count": 17,
   "id": "1440bd4f",
   "metadata": {},
   "outputs": [
    {
     "name": "stdout",
     "output_type": "stream",
     "text": [
      "position:0\n"
     ]
    }
   ],
   "source": [
    "file = open('input_file.txt', 'r')\n",
    "position = file.tell() # Returns 0 (at the beginning)`\",`file.read(10)`,\"`position = file.tell() # Returns 10 (after reading 10 bytes)\n",
    "print(f\"position:{position}\")"
   ]
  },
  {
   "cell_type": "markdown",
   "id": "c2c85bd2",
   "metadata": {},
   "source": [
    "# Packages"
   ]
  },
  {
   "cell_type": "code",
   "execution_count": 4,
   "id": "2fd571c7",
   "metadata": {},
   "outputs": [
    {
     "name": "stdout",
     "output_type": "stream",
     "text": [
      "12\n"
     ]
    }
   ],
   "source": [
    "\n",
    "from Dir.pyDummy import *\n",
    "\n",
    "res=add(5,7)\n",
    "print(res)\n"
   ]
  },
  {
   "cell_type": "code",
   "execution_count": 2,
   "id": "c9066a4e",
   "metadata": {},
   "outputs": [
    {
     "name": "stdout",
     "output_type": "stream",
     "text": [
      "-2\n"
     ]
    }
   ],
   "source": [
    "from pyDummy import Sub,add\n",
    "\n",
    "res=Sub(5,7)\n",
    "print(res)\n"
   ]
  },
  {
   "cell_type": "code",
   "execution_count": null,
   "id": "68109815",
   "metadata": {},
   "outputs": [],
   "source": [
    "# Important note: Packages promote modularity, making your code more maintainable and scalable."
   ]
  },
  {
   "cell_type": "markdown",
   "id": "9d3d9511",
   "metadata": {},
   "source": [
    "# The Python Package Index (PyPI)"
   ]
  },
  {
   "cell_type": "code",
   "execution_count": null,
   "id": "6ccb39b4",
   "metadata": {},
   "outputs": [],
   "source": [
    "pip install numpy"
   ]
  },
  {
   "cell_type": "markdown",
   "id": "4c9fa95e",
   "metadata": {},
   "source": [
    "# Virtula Env\n",
    "\n",
    "\n",
    "python -m venv .venv"
   ]
  },
  {
   "cell_type": "markdown",
   "id": "fcb78d24",
   "metadata": {},
   "source": [
    "# Numpy: NumPy, short for Numerical Python,"
   ]
  },
  {
   "cell_type": "markdown",
   "id": "f1381805",
   "metadata": {},
   "source": [
    "NumPy's core is the `ndarray` object, which allows for storing and manipulating large amounts of numerical data. <br>\n",
    "It provides significant performance advantages over standard Python lists, especially for numerical operations.  <br> \n",
    "NumPy's functions are vectorized, meaning they operate element-wise on arrays, leading to faster execution.  <br>"
   ]
  },
  {
   "cell_type": "markdown",
   "id": "58eaf7d7",
   "metadata": {},
   "source": [
    "Vectorization: NumPy operations are vectorized, meaning they operate on entire arrays at once using optimized C code under the hood. This avoids explicit Python loops, which are slow. <br>\n",
    "Data Type Homogeneity: NumPy arrays store elements of the same data type. This allows for more efficient storage and computation, as Python lists can contain mixed data types, requiring type checking for each operation. <br>\n",
    "Contiguous Memory Allocation: NumPy arrays are stored in contiguous memory blocks, enabling fast access and efficient cache utilization. Python lists, on the other hand, store pointers to objects scattered in memory. <br>\n",
    "Optimized Routines: NumPy provides highly optimized mathematical functions and linear algebra routines written in C and Fortran, leveraging hardware-specific optimizations. <br>"
   ]
  },
  {
   "cell_type": "markdown",
   "id": "64466eef",
   "metadata": {},
   "source": [
    "# NumPy Arrays (Creating, Indexing, Slicing)"
   ]
  },
  {
   "cell_type": "markdown",
   "id": "1c599a26",
   "metadata": {},
   "source": [
    "`np.array()`: Creates an array from a list or tuple. \n",
    "\n",
    "example:` `arr = np.array([1, 2, 3, 4, 5])"
   ]
  },
  {
   "cell_type": "code",
   "execution_count": 5,
   "id": "70c0127e",
   "metadata": {},
   "outputs": [
    {
     "name": "stdout",
     "output_type": "stream",
     "text": [
      "[1 2 3 4] <class 'numpy.ndarray'>\n"
     ]
    }
   ],
   "source": [
    "lst=[1,2,3,4]\n",
    "\n",
    "import numpy as np\n",
    "\n",
    "arr=np.array(lst)\n",
    "\n",
    "print(arr,type(arr))"
   ]
  },
  {
   "cell_type": "code",
   "execution_count": 6,
   "id": "ab6659fa",
   "metadata": {},
   "outputs": [
    {
     "data": {
      "text/plain": [
       "array([1, 2, 3])"
      ]
     },
     "execution_count": 6,
     "metadata": {},
     "output_type": "execute_result"
    }
   ],
   "source": [
    "import numpy as np\n",
    "\n",
    "arr=np.array([1,2,3])\n",
    "arr"
   ]
  },
  {
   "cell_type": "code",
   "execution_count": null,
   "id": "1bd9db62",
   "metadata": {},
   "outputs": [
    {
     "data": {
      "text/plain": [
       "array([[0., 0., 0., 0., 0.],\n",
       "       [0., 0., 0., 0., 0.],\n",
       "       [0., 0., 0., 0., 0.],\n",
       "       [0., 0., 0., 0., 0.],\n",
       "       [0., 0., 0., 0., 0.]])"
      ]
     },
     "execution_count": 7,
     "metadata": {},
     "output_type": "execute_result"
    }
   ],
   "source": [
    "import numpy as np\n",
    "\n",
    "arr=np.zeros((5,5))  # 2x3 array of zeros\n",
    "arr"
   ]
  },
  {
   "cell_type": "code",
   "execution_count": null,
   "id": "3af51035",
   "metadata": {},
   "outputs": [
    {
     "data": {
      "text/plain": [
       "array([[1., 1.],\n",
       "       [1., 1.],\n",
       "       [1., 1.],\n",
       "       [1., 1.],\n",
       "       [1., 1.]])"
      ]
     },
     "execution_count": 9,
     "metadata": {},
     "output_type": "execute_result"
    }
   ],
   "source": [
    "import numpy as np\n",
    "\n",
    "arr=np.ones((5,2))  # 2x3 array of zeros\n",
    "arr "
   ]
  },
  {
   "cell_type": "code",
   "execution_count": 8,
   "id": "094433ca",
   "metadata": {},
   "outputs": [
    {
     "name": "stdout",
     "output_type": "stream",
     "text": [
      "0\n",
      "1\n",
      "2\n",
      "3\n",
      "4\n",
      "5\n",
      "6\n",
      "7\n",
      "8\n",
      "9\n",
      "10\n",
      "11\n",
      "12\n",
      "13\n",
      "14\n",
      "15\n",
      "16\n",
      "17\n",
      "18\n",
      "19\n",
      "20\n",
      "21\n",
      "22\n",
      "23\n",
      "24\n",
      "25\n",
      "26\n",
      "27\n",
      "28\n",
      "29\n",
      "30\n",
      "31\n",
      "32\n",
      "33\n",
      "34\n",
      "35\n",
      "36\n",
      "37\n",
      "38\n",
      "39\n",
      "40\n",
      "41\n",
      "42\n",
      "43\n",
      "44\n",
      "45\n",
      "46\n",
      "47\n",
      "48\n",
      "49\n"
     ]
    }
   ],
   "source": [
    "for i in range(50):\n",
    "    print(i)"
   ]
  },
  {
   "cell_type": "code",
   "execution_count": null,
   "id": "d7e3f18f",
   "metadata": {},
   "outputs": [
    {
     "data": {
      "text/plain": [
       "array([0, 2, 4, 6, 8])"
      ]
     },
     "execution_count": 9,
     "metadata": {},
     "output_type": "execute_result"
    }
   ],
   "source": [
    "# `np.arange()`: Creates an array with evenly spaced values within a given range.\n",
    "\n",
    "import numpy as np\n",
    "arr = np.arange(0, 10, 2)  #(array: [0, 2, 4, 6, 8])\n",
    "arr\n",
    "\n"
   ]
  },
  {
   "cell_type": "code",
   "execution_count": 14,
   "id": "0206b60b",
   "metadata": {},
   "outputs": [
    {
     "name": "stdout",
     "output_type": "stream",
     "text": [
      "<class 'numpy.int64'>\n",
      "<class 'numpy.int64'>\n",
      "<class 'numpy.int64'>\n",
      "<class 'numpy.int64'>\n",
      "<class 'numpy.int64'>\n"
     ]
    }
   ],
   "source": [
    "for i in arr:\n",
    "    print(type(i))"
   ]
  },
  {
   "cell_type": "code",
   "execution_count": null,
   "id": "6960f549",
   "metadata": {},
   "outputs": [
    {
     "data": {
      "text/plain": [
       "array([0.  , 0.25, 0.5 , 0.75, 1.  ])"
      ]
     },
     "execution_count": 10,
     "metadata": {},
     "output_type": "execute_result"
    }
   ],
   "source": [
    "# `np.linspace()`: Creates an array with evenly spaced values over a specified interval.\n",
    "# `example:` `arr = np.linspace(0, 1, 5)` (array: [0. , 0.25, 0.5 , 0.75, 1. ])\n",
    "\n",
    "\n",
    "arr = np.linspace(0, 1, 5) \n",
    "arr\n",
    "\n",
    "\n",
    "# Use `np.linspace()` when you need to create an array of evenly spaced values over a specified interval, and you know the desired *number* of elements.\n",
    "\n",
    "# Examples:\n",
    "\n",
    "# Creating a smooth curve for plotting: Generate x-values for a mathematical function.\n",
    "# Sampling data: Create evenly spaced time points for signal processing.\n",
    "# Numerical integration: Define intervals for numerical methods.\n",
    "# # Example: Creating 50 values from 0 to 1`\n",
    "# `import numpy as np`\n",
    "# `x = np.linspace(0, 1, 50)"
   ]
  },
  {
   "cell_type": "code",
   "execution_count": 1,
   "id": "7e316c25",
   "metadata": {},
   "outputs": [
    {
     "ename": "NameError",
     "evalue": "name 'np' is not defined",
     "output_type": "error",
     "traceback": [
      "\u001b[31m---------------------------------------------------------------------------\u001b[39m",
      "\u001b[31mNameError\u001b[39m                                 Traceback (most recent call last)",
      "\u001b[36mCell\u001b[39m\u001b[36m \u001b[39m\u001b[32mIn[1]\u001b[39m\u001b[32m, line 1\u001b[39m\n\u001b[32m----> \u001b[39m\u001b[32m1\u001b[39m \u001b[43mnp\u001b[49m.linspace(\u001b[32m1\u001b[39m,\u001b[32m10\u001b[39m,\u001b[32m10\u001b[39m)\n",
      "\u001b[31mNameError\u001b[39m: name 'np' is not defined"
     ]
    }
   ],
   "source": [
    "np.linspace(1,10,10)"
   ]
  },
  {
   "cell_type": "code",
   "execution_count": 1,
   "id": "b7e53682",
   "metadata": {},
   "outputs": [
    {
     "name": "stdout",
     "output_type": "stream",
     "text": [
      "[-5, 2, 3]\n",
      "[-5, 2, 3]\n"
     ]
    }
   ],
   "source": [
    "ls1=[1,2,3]\n",
    "ls2=ls1\n",
    "\n",
    "ls2[0]=-5\n",
    "\n",
    "print(ls2)\n",
    "print(ls1)"
   ]
  },
  {
   "cell_type": "code",
   "execution_count": null,
   "id": "d883c6b1",
   "metadata": {},
   "outputs": [],
   "source": []
  },
  {
   "cell_type": "code",
   "execution_count": null,
   "id": "2271ca01",
   "metadata": {},
   "outputs": [
    {
     "data": {
      "text/plain": [
       "array([55,  2,  3])"
      ]
     },
     "execution_count": 23,
     "metadata": {},
     "output_type": "execute_result"
    }
   ],
   "source": [
    "# Indexing: Accessing individual elements using their index (starting from 0).\n",
    "import numpy as np\n",
    "arr=np.array([1,2,3])\n",
    "arr[0]\n",
    "arr[:]\n",
    "\n",
    "\n"
   ]
  },
  {
   "cell_type": "code",
   "execution_count": null,
   "id": "1d70acf9",
   "metadata": {},
   "outputs": [
    {
     "name": "stdout",
     "output_type": "stream",
     "text": [
      "1. arr:[55  2  3]\n",
      "2. arr2:[55  2  3]\n",
      "2. arr2:[55  2  3]\n",
      "2. arr3:[66  2  3]\n",
      "3018184045072 3018184045072 3018184041424\n"
     ]
    }
   ],
   "source": [
    "import numpy as np\n",
    "\n",
    "# .copy()\n",
    "arr=np.array([1,2,3])  #[1,2,3]\n",
    "arr2=arr   # [1,2,3]\n",
    "arr2[0]=55  # [55,2,3]\n",
    "\n",
    "\n",
    "print(f\"1. arr:{arr}\") # array([55,  2,  3])\n",
    "print(f\"2. arr2:{arr2}\") # array([55,  2,  3])\n",
    "\n",
    "\n",
    "\n",
    "arr3=arr2.copy()\n",
    "arr3[0]=66\n",
    "\n",
    "\n",
    "\n",
    "\n",
    "print(f'2. arr2:{arr2}')\n",
    "print(f'2. arr3:{arr3}')\n",
    "#address\n",
    "print(id(arr2),id(arr),id(arr3))\n"
   ]
  },
  {
   "cell_type": "code",
   "execution_count": 3,
   "id": "acdb4ee0",
   "metadata": {},
   "outputs": [
    {
     "name": "stdout",
     "output_type": "stream",
     "text": [
      "arr.shape:(3, 2)\n",
      "arr.size:6\n",
      "arr.dtype:int64\n",
      "arr.ndim:2\n"
     ]
    }
   ],
   "source": [
    "# Array Attributes (Shape, Size, Dtype)\n",
    "import numpy as np\n",
    "arr=np.array([[1,2],\n",
    "              [3,4],\n",
    "              [5,6]])\n",
    "\n",
    "print(f\"arr.shape:{arr.shape}\")   #Shape: A tuple indicating the dimensions of the array. For example, `(3, 4)` represents a 2D array with 3 rows and 4 columns.\n",
    "\n",
    "\n",
    "print(f\"arr.size:{arr.size}\")    # Size: The total number of elements in the array.\n",
    "\n",
    "\n",
    "# Dtype: The data type of the elements in the array (e.g., `int64`, `float64`, `object`). All elements in a NumPy array must have the same data type.\n",
    "\n",
    "print(f\"arr.dtype:{arr.dtype}\")\n",
    "\n",
    "# Ndim: Represents the number of dimensions (or axes) of the array.\n",
    "print(f\"arr.ndim:{arr.ndim}\")\n",
    "\n"
   ]
  },
  {
   "cell_type": "code",
   "execution_count": 44,
   "id": "60076c5f",
   "metadata": {},
   "outputs": [],
   "source": [
    "# Important note: NumPy automatically infers the data type when creating an array, but you can explicitly specify it using the `dtype` argument."
   ]
  },
  {
   "cell_type": "markdown",
   "id": "48bba03b",
   "metadata": {},
   "source": [
    "## change the shape of a NumPy array"
   ]
  },
  {
   "cell_type": "code",
   "execution_count": 4,
   "id": "f6b43456",
   "metadata": {},
   "outputs": [
    {
     "data": {
      "text/plain": [
       "array([[1, 2, 3],\n",
       "       [4, 5, 6]])"
      ]
     },
     "execution_count": 4,
     "metadata": {},
     "output_type": "execute_result"
    }
   ],
   "source": [
    "arr.reshape((2,3))"
   ]
  },
  {
   "cell_type": "markdown",
   "id": "96287674",
   "metadata": {},
   "source": [
    "# Basic Array Operations (Arithmetic, Comparison)"
   ]
  },
  {
   "cell_type": "code",
   "execution_count": null,
   "id": "4581b73f",
   "metadata": {},
   "outputs": [
    {
     "data": {
      "text/plain": [
       "'\\nArithmetic Operations:\\nAddition: `+` or `np.add()`\\nSubtraction: `-` or `np.subtract()`\\nMultiplication: `*` or `np.multiply()`\\nDivision: `/` or `np.divide()`\\nExponentiation: `**` or `np.power()`\\n\\n'"
      ]
     },
     "execution_count": 47,
     "metadata": {},
     "output_type": "execute_result"
    }
   ],
   "source": [
    "'''\n",
    "\n",
    "Arithmetic Operations:\n",
    "Addition: `+` or `np.add()`\n",
    "Subtraction: `-` or `np.subtract()`\n",
    "Multiplication: `*` or `np.multiply()`\n",
    "Division: `/` or `np.divide()`\n",
    "Exponentiation: `**` or `np.power()`\n",
    "\n",
    "\n",
    "'''\n",
    "\n",
    "\n",
    "# example:` `arr1 + arr2` (element-wise addition)"
   ]
  },
  {
   "cell_type": "code",
   "execution_count": 5,
   "id": "c54d8494",
   "metadata": {},
   "outputs": [
    {
     "name": "stdout",
     "output_type": "stream",
     "text": [
      "add:[5 5 9]\n",
      "[  1   8 729]\n",
      "[0.25       0.66666667 0.5       ]\n"
     ]
    }
   ],
   "source": [
    "# Example 1: Adding two arrays\n",
    "\n",
    "a = np.array([1, 2, 3])\n",
    "b = np.array([4, 3, 6])\n",
    "\n",
    "result1 = np.add(a, b)\n",
    "print(f\"add:{result1}\")\n",
    "print(np.power(a, b))\n",
    "print(np.divide(a, b))"
   ]
  },
  {
   "cell_type": "markdown",
   "id": "d1a9fbe6",
   "metadata": {},
   "source": [
    "\n",
    "# Trigonometric Functions:"
   ]
  },
  {
   "cell_type": "code",
   "execution_count": null,
   "id": "d7ffc08c",
   "metadata": {},
   "outputs": [
    {
     "data": {
      "text/plain": [
       "array([0.0000000e+00, 1.0000000e+00, 1.2246468e-16])"
      ]
     },
     "execution_count": 55,
     "metadata": {},
     "output_type": "execute_result"
    }
   ],
   "source": [
    "np.sin(np.array([0, np.pi/2, np.pi]))\n"
   ]
  },
  {
   "cell_type": "code",
   "execution_count": null,
   "id": "652bcc84",
   "metadata": {},
   "outputs": [
    {
     "data": {
      "text/plain": [
       "array([0., 1., 2.])"
      ]
     },
     "execution_count": 56,
     "metadata": {},
     "output_type": "execute_result"
    }
   ],
   "source": [
    "np.exp(np.array([0, 1, 2]))\n",
    "np.log(np.array([1, np.e, np.e**2]))\n",
    "\n",
    "\n",
    "# Other Functions:\n",
    "# `np.sqrt()`: Square root.\n",
    "# `np.abs()`: Absolute value.\n",
    "# `np.floor()`: Rounds down to the nearest integer.\n",
    "# `np.ceil()`: Rounds up to the nearest integer.\n",
    "\n",
    "\n"
   ]
  },
  {
   "cell_type": "code",
   "execution_count": null,
   "id": "bf125ceb",
   "metadata": {},
   "outputs": [
    {
     "name": "stdout",
     "output_type": "stream",
     "text": [
      "0.8219738144952444\n",
      "-0.7351659161317441\n",
      "[[4 9 9 0]\n",
      " [0 5 4 5]\n",
      " [2 6 2 3]\n",
      " [8 7 3 4]]\n"
     ]
    }
   ],
   "source": [
    "print(np.random.rand()) # Generates random numbers from a uniform distribution over [0, 1).\n",
    "print(np.random.randn())  #: Generates random numbers from a standard normal distribution (mean 0, standard deviation 1).\n",
    "print(np.random.randint(0, 10, size=(4, 4)))\n",
    "\n"
   ]
  },
  {
   "cell_type": "code",
   "execution_count": 10,
   "id": "46715289",
   "metadata": {},
   "outputs": [
    {
     "name": "stdout",
     "output_type": "stream",
     "text": [
      "3\n"
     ]
    }
   ],
   "source": [
    "import numpy as np\n",
    "np.random.seed(8)\n",
    "print(np.random.randint(0, 10))"
   ]
  },
  {
   "cell_type": "code",
   "execution_count": null,
   "id": "7affa53d",
   "metadata": {},
   "outputs": [
    {
     "name": "stdout",
     "output_type": "stream",
     "text": [
      "8\n"
     ]
    }
   ],
   "source": [
    "import random\n",
    "random.seed(2)\n",
    "print(random.randint(1,100))"
   ]
  },
  {
   "cell_type": "code",
   "execution_count": null,
   "id": "e8884efd",
   "metadata": {},
   "outputs": [],
   "source": []
  }
 ],
 "metadata": {
  "kernelspec": {
   "display_name": ".venv",
   "language": "python",
   "name": "python3"
  },
  "language_info": {
   "codemirror_mode": {
    "name": "ipython",
    "version": 3
   },
   "file_extension": ".py",
   "mimetype": "text/x-python",
   "name": "python",
   "nbconvert_exporter": "python",
   "pygments_lexer": "ipython3",
   "version": "3.11.5"
  }
 },
 "nbformat": 4,
 "nbformat_minor": 5
}
