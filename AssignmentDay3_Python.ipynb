{
 "cells": [
  {
   "cell_type": "code",
   "execution_count": 84,
   "id": "4a5e29fe",
   "metadata": {},
   "outputs": [
    {
     "name": "stdout",
     "output_type": "stream",
     "text": [
      "         *\n",
      "        * *\n",
      "       *   *\n",
      "      *     *\n",
      "     *       *\n",
      "    *         *\n",
      "   *           *\n",
      "  *             *\n",
      " *               *\n",
      "*                 *\n",
      " *               *\n",
      "  *             *\n",
      "   *           *\n",
      "    *         *\n",
      "     *       *\n",
      "      *     *\n",
      "       *   *\n",
      "        * *\n",
      "         *\n"
     ]
    }
   ],
   "source": [
    "size = int(input(\"Enter the size of diamond: \"))\n",
    "\n",
    "# ------------------------------------------>Upper half\n",
    "for i in range(size):\n",
    "# ------------------------------------------>print leading spaces\n",
    "    for j in range(size - i - 1):\n",
    "        print(\" \", end=\"\")\n",
    "# ------------------------------------------>print first star\n",
    "    print(\"*\", end=\"\")\n",
    "# ------------------------------------------>print hollow spaces\n",
    "    if i != 0:\n",
    "        for j in range(2*i - 1):\n",
    "            print(\" \", end=\"\")\n",
    "# ------------------------------------------> print second star\n",
    "        print(\"*\", end=\"\")\n",
    "    print()\n",
    "\n",
    "# ------------------------------------------>Lower half\n",
    "for i in range(size-2, -1, -1):\n",
    "    for j in range(size - i - 1):\n",
    "        print(\" \", end=\"\")\n",
    "    print(\"*\", end=\"\")\n",
    "    if i != 0:\n",
    "        for j in range(2*i - 1):\n",
    "            print(\" \", end=\"\")\n",
    "        print(\"*\", end=\"\")\n",
    "    print()\n"
   ]
  },
  {
   "cell_type": "markdown",
   "id": "0e07048e",
   "metadata": {},
   "source": [
    "Print All prime number between 1 and N "
   ]
  },
  {
   "cell_type": "code",
   "execution_count": 9,
   "id": "8e6c5350",
   "metadata": {},
   "outputs": [
    {
     "name": "stdout",
     "output_type": "stream",
     "text": [
      "2\n",
      "3\n",
      "5\n",
      "7\n",
      "11\n",
      "13\n",
      "17\n",
      "19\n",
      "23\n",
      "29\n",
      "31\n",
      "37\n",
      "41\n",
      "43\n",
      "47\n",
      "53\n",
      "59\n",
      "61\n",
      "67\n",
      "71\n",
      "73\n",
      "79\n",
      "83\n",
      "89\n",
      "97\n"
     ]
    }
   ],
   "source": [
    "n = int(input(\"Enter the range: 1 to \"))\n",
    "for i in range(2, n+1):\n",
    "    flag = 0\n",
    "    for j in range(1, i+1):\n",
    "        if i % j == 0:\n",
    "            flag += 1\n",
    "    if flag == 2:\n",
    "        print(i)\n"
   ]
  },
  {
   "cell_type": "markdown",
   "id": "c519c80c",
   "metadata": {},
   "source": [
    "Pascal's Triangle"
   ]
  },
  {
   "cell_type": "code",
   "execution_count": 16,
   "id": "11a5f3bc",
   "metadata": {},
   "outputs": [
    {
     "name": "stdout",
     "output_type": "stream",
     "text": [
      "[[1]]\n",
      "         [1]\n",
      "        [1, 1]\n",
      "       [1, 2, 1]\n",
      "      [1, 3, 3, 1]\n",
      "     [1, 4, 6, 4, 1]\n",
      "    [1, 5, 10, 10, 5, 1]\n",
      "   [1, 6, 15, 20, 15, 6, 1]\n",
      "  [1, 7, 21, 35, 35, 21, 7, 1]\n",
      " [1, 8, 28, 56, 70, 56, 28, 8, 1]\n",
      "[1, 9, 36, 84, 126, 126, 84, 36, 9, 1]\n"
     ]
    }
   ],
   "source": [
    "n = int(input(\"Enter the Height of the Triangle:-\"))\n",
    "\n",
    "res = [[1]]\n",
    "print(res)\n",
    "for i in range(n-1):\n",
    "    temp = [0] + res[-1] + [0]\n",
    "    row = []\n",
    "    for j in range(len(res[-1])+1):\n",
    "        row.append(temp[j]+temp[j+1])\n",
    "\n",
    "    res.append(row)\n",
    "\n",
    "for i in range(len(res)):\n",
    "    for k in range(n-1-i):\n",
    "        print(\" \",end=\"\")\n",
    "    print(res[i])\n",
    "\n"
   ]
  },
  {
   "cell_type": "markdown",
   "id": "7ff56e10",
   "metadata": {},
   "source": [
    "Write a funtion to find min max in a list no built in funtion "
   ]
  },
  {
   "cell_type": "code",
   "execution_count": 23,
   "id": "05d43689",
   "metadata": {},
   "outputs": [
    {
     "name": "stdout",
     "output_type": "stream",
     "text": [
      "This is Minimum :- 1\n",
      "This is Maximum :- 100\n"
     ]
    }
   ],
   "source": [
    "def my_min(x):\n",
    "    if len(x)<1:\n",
    "        return -1\n",
    "    min = x[0]\n",
    "    for i in x:\n",
    "        if(min>i):\n",
    "            min=i\n",
    "    return f\"This is Minimum :- {min}\"\n",
    "\n",
    "def my_max(x):\n",
    "    if len(x)<1:\n",
    "        return -1\n",
    "    max = x[0]\n",
    "    for i in x:\n",
    "        if(max<i):\n",
    "            max=i\n",
    "    return f\"This is Maximum :- {max}\"\n",
    "\n",
    "list1 = [1,2,3,4,5,6,7,8,8,100,3,4,5]\n",
    "print(my_min(list1))\n",
    "print(my_max(list1))"
   ]
  },
  {
   "cell_type": "code",
   "execution_count": 30,
   "id": "5ef657f8",
   "metadata": {},
   "outputs": [
    {
     "name": "stdout",
     "output_type": "stream",
     "text": [
      "This is Average :12.0\n",
      "This is Maximum :100\n",
      "This is Minimum :1\n"
     ]
    }
   ],
   "source": [
    "\n",
    "def my_min(x):\n",
    "    if len(x)<1:\n",
    "        return -1\n",
    "    min = x[0]\n",
    "    for i in x:\n",
    "        if(min>i):\n",
    "            min=i\n",
    "    return f\"This is Minimum :{min}\"\n",
    "\n",
    "def my_max(x):\n",
    "    if len(x)<1:\n",
    "        return -1\n",
    "    max = x[0]\n",
    "    for i in x:\n",
    "        if(max<i):\n",
    "            max=i\n",
    "    return f\"This is Maximum :{max}\"\n",
    "\n",
    "def analyze_grade(grade):\n",
    "    sum = 0 \n",
    "    for i in grade :\n",
    "        sum = sum + i\n",
    "    avg = sum /len(grade)\n",
    "    return f\"This is Average :{avg}\\n{my_max(grade)}\\n{my_min(grade)}\"\n",
    "\n",
    "\n",
    "list1 = [1,2,3,4,5,6,7,8,8,100,3,4,5]\n",
    "print(analyze_grade(list1))\n"
   ]
  },
  {
   "cell_type": "code",
   "execution_count": 41,
   "id": "6eb237d3",
   "metadata": {},
   "outputs": [
    {
     "name": "stdout",
     "output_type": "stream",
     "text": [
      "1\n"
     ]
    }
   ],
   "source": [
    "def calculator(a,b,op):\n",
    "    if(op not in [ '*','/','+','-','%','**']):\n",
    "        return f\"The Operator is not right\"\n",
    "\n",
    "    if op == '*':\n",
    "        return a*b\n",
    "    elif op == '/':\n",
    "        return a/b\n",
    "    elif op == '+':\n",
    "        return a+b\n",
    "    elif op == '-':\n",
    "        return a-b\n",
    "    elif op == '%':\n",
    "        return a%b\n",
    "    elif op == '**':\n",
    "        return a**b\n",
    "    \n",
    "print(calculator(100,3,'%'))"
   ]
  },
  {
   "cell_type": "markdown",
   "id": "5c8069ed",
   "metadata": {},
   "source": [
    "Recursion using reverse String "
   ]
  },
  {
   "cell_type": "code",
   "execution_count": 49,
   "id": "050e82e7",
   "metadata": {},
   "outputs": [
    {
     "name": "stdout",
     "output_type": "stream",
     "text": [
      "[['w'], ['e'], ['f'], ['j'], ['o'], ['e'], ['i'], ['w'], ['j'], ['j'], ['f'], ['i'], ['e'], ['w'], ['o'], ['j'], ['f'], ['w'], ['e'], ['i'], ['f'], ['e'], ['n'], ['w'], ['o'], ['i'], ['f'], ['n'], ['j'], ['e'], ['t'], ['i'], ['m'], ['u'], ['S']]\n"
     ]
    }
   ],
   "source": [
    "n = \"Sumitejnfiownefiewfjoweifjjwieojfew\"\n",
    "\n",
    "def reverse(n,i,j):\n",
    "    if(i==0):\n",
    "        return j\n",
    "    else:\n",
    "        j.append([n[i-1]])\n",
    "        return reverse(n,i-1,j)\n",
    "    \n",
    "print(reverse(n,len(n),[]))"
   ]
  },
  {
   "cell_type": "markdown",
   "id": "a4d0bf14",
   "metadata": {},
   "source": [
    "Sum of Digits(Recursion):  12345 --> 15"
   ]
  },
  {
   "cell_type": "code",
   "execution_count": 55,
   "id": "26a16ea1",
   "metadata": {},
   "outputs": [
    {
     "name": "stdout",
     "output_type": "stream",
     "text": [
      "111\n"
     ]
    }
   ],
   "source": [
    "def sumtodigit(n,sum):\n",
    "    if(n==0):\n",
    "        return sum\n",
    "    else:\n",
    "        sum = sum + n%10\n",
    "        n= int(n/10)\n",
    "        return sumtodigit(n,sum)\n",
    "    \n",
    "print(sumtodigit(123453982834894789974932,0))"
   ]
  },
  {
   "cell_type": "markdown",
   "id": "fe95e8dc",
   "metadata": {},
   "source": [
    "Count the frequency of each element in a list using a funtion"
   ]
  },
  {
   "cell_type": "code",
   "execution_count": null,
   "id": "bcd4fbb2",
   "metadata": {},
   "outputs": [],
   "source": [
    "def frequencyCounter(list1):\n",
    "    \n"
   ]
  },
  {
   "cell_type": "markdown",
   "id": "973a3b9c",
   "metadata": {},
   "source": [
    "Fibonacci Series (Iterative and Recursive )\n"
   ]
  },
  {
   "cell_type": "code",
   "execution_count": 64,
   "id": "10485111",
   "metadata": {},
   "outputs": [
    {
     "name": "stdout",
     "output_type": "stream",
     "text": [
      "1\n",
      "2\n",
      "3\n",
      "5\n",
      "8\n",
      "13\n",
      "21\n",
      "34\n",
      "55\n",
      "89\n"
     ]
    }
   ],
   "source": [
    "#Iterative \n",
    "n = int(input(\"Enter the Value of n:-\"))\n",
    "j=0;\n",
    "k=1;\n",
    "for i in range(0,n):\n",
    "    if i == 0 : \n",
    "        print(1)\n",
    "        j=1\n",
    "    else: \n",
    "        temp = k\n",
    "        k=j+k\n",
    "        print(k)\n",
    "        j=temp\n",
    "        \n"
   ]
  },
  {
   "cell_type": "code",
   "execution_count": 67,
   "id": "64b9737f",
   "metadata": {},
   "outputs": [
    {
     "name": "stdout",
     "output_type": "stream",
     "text": [
      "0 1 1 2 3 5 8 13 21 34 "
     ]
    }
   ],
   "source": [
    "def print_fibonacci(n, a=0, b=1, count=0):\n",
    "    if count == n:\n",
    "        return\n",
    "    print(a, end=\" \")\n",
    "    print_fibonacci(n, b, a+b, count+1)\n",
    "\n",
    "n = int(input(\"Enter the number of terms: \"))\n",
    "print_fibonacci(n)\n"
   ]
  },
  {
   "cell_type": "markdown",
   "id": "31eb59c8",
   "metadata": {},
   "source": [
    "Rotate a list by n numbers using loops "
   ]
  },
  {
   "cell_type": "code",
   "execution_count": 72,
   "id": "8d5e52e9",
   "metadata": {},
   "outputs": [
    {
     "name": "stdout",
     "output_type": "stream",
     "text": [
      "[5, 1, 2, 3, 4]\n"
     ]
    }
   ],
   "source": [
    "nums = [1, 2, 3, 4, 5]\n",
    "n = 99\n",
    "\n",
    "\n",
    "for i in range(n):\n",
    "    first = nums[0]\n",
    "    for j in range(len(nums)-1):\n",
    "        nums[j] = nums[j+1]\n",
    "    nums[-1] = first\n",
    "\n",
    "print(nums)\n"
   ]
  },
  {
   "cell_type": "code",
   "execution_count": 80,
   "id": "78522fae",
   "metadata": {},
   "outputs": [
    {
     "name": "stdout",
     "output_type": "stream",
     "text": [
      "{1: 5, 3: 6, 4: 1, 5: 5, 66: 1, 6: 7}\n"
     ]
    }
   ],
   "source": [
    "list = [1,1,1,1,1,3,3,3,3,3,3,4,5,5,5,5,5,66,6,6,6,6,6,6,6]\n",
    "\n",
    "\n",
    "def frequencycount(list):\n",
    "    frequency = {}\n",
    "    for i in list:\n",
    "        if i in frequency:\n",
    "            frequency[i]=frequency[i]+1\n",
    "        else:\n",
    "            frequency[i]=1  \n",
    "    return frequency\n",
    "\n",
    "print(frequencycount(list))"
   ]
  },
  {
   "cell_type": "markdown",
   "id": "38f37ecf",
   "metadata": {},
   "source": [
    "Recursive funtion to check if a string is a palindrome"
   ]
  },
  {
   "cell_type": "code",
   "execution_count": 81,
   "id": "0caca693",
   "metadata": {},
   "outputs": [
    {
     "name": "stdout",
     "output_type": "stream",
     "text": [
      "Palindrome\n"
     ]
    }
   ],
   "source": [
    "def is_palindrome(s):\n",
    "    if len(s) <= 1:\n",
    "        return True\n",
    "    if s[0] != s[-1]:\n",
    "        return False\n",
    "    return is_palindrome(s[1:-1])\n",
    "\n",
    "\n",
    "word = input(\"Enter a string: \")\n",
    "if is_palindrome(word):\n",
    "    print(\"Palindrome\")\n",
    "else:\n",
    "    print(\"Not a Palindrome\")\n"
   ]
  },
  {
   "cell_type": "markdown",
   "id": "c994d360",
   "metadata": {},
   "source": []
  },
  {
   "cell_type": "code",
   "execution_count": 2,
   "id": "454a0851",
   "metadata": {},
   "outputs": [],
   "source": [
    "nums=[1,2,3,4,5,6,7,8,9,10,11,12,13]\n",
    "perfect_squres = list(filter(lambda x: x**2,nums))"
   ]
  },
  {
   "cell_type": "code",
   "execution_count": 1,
   "id": "73879194",
   "metadata": {},
   "outputs": [
    {
     "name": "stdout",
     "output_type": "stream",
     "text": [
      "[1, 4, 9, 16, 25]\n"
     ]
    }
   ],
   "source": [
    "import math\n",
    "\n",
    "nums = [1, 2, 3, 4, 9, 10, 16, 18, 25, 30]\n",
    "\n",
    "perfect_squares = list(filter(lambda x: int(math.sqrt(x))**2 == x, nums))\n",
    "\n",
    "print(perfect_squares)\n"
   ]
  },
  {
   "cell_type": "markdown",
   "id": "88961654",
   "metadata": {},
   "source": [
    "[1,[2,[3,4],5]] --> [1,2,3,4,5]"
   ]
  },
  {
   "cell_type": "code",
   "execution_count": 96,
   "id": "df46d677",
   "metadata": {},
   "outputs": [
    {
     "name": "stdout",
     "output_type": "stream",
     "text": [
      "[1, [2, [3, 4], 5]]\n"
     ]
    }
   ],
   "source": [
    "def flatten(L):\n",
    "    n=[]\n",
    "    for i in L:\n",
    "        if type(i)==list:\n",
    "            print(\"x\")\n",
    "        else:\n",
    "            n.append(i)\n",
    "\n",
    "    return n \n",
    "\n",
    "L = [1,[2,[3,4],5]]\n",
    "\n",
    "print(flatten(L))"
   ]
  },
  {
   "cell_type": "markdown",
   "id": "3413d4fa",
   "metadata": {},
   "source": [
    "Tower Of hanoi"
   ]
  },
  {
   "cell_type": "code",
   "execution_count": null,
   "id": "443f0027",
   "metadata": {},
   "outputs": [
    {
     "name": "stdout",
     "output_type": "stream",
     "text": [
      "['Sumit', 1]\n"
     ]
    }
   ],
   "source": []
  },
  {
   "cell_type": "markdown",
   "id": "e7300a4f",
   "metadata": {},
   "source": [
    "Count the frequency of each element in a list using a funtion"
   ]
  },
  {
   "cell_type": "code",
   "execution_count": 8,
   "id": "58ff4889",
   "metadata": {},
   "outputs": [
    {
     "data": {
      "text/plain": [
       "{'a': 2, 'b': 1, 'c': 1, 'f': 1, 'j': 9}"
      ]
     },
     "execution_count": 8,
     "metadata": {},
     "output_type": "execute_result"
    }
   ],
   "source": [
    "def frequencycounter(a:list):\n",
    "    ele = {}\n",
    "    \n",
    "    for i in a:\n",
    "        if i not in ele: \n",
    "            ele.setdefault(i,1)\n",
    "        else :\n",
    "            ele[i] = ele[i] + 1\n",
    "    \n",
    "    return ele\n",
    "a=[\"a\",\"b\",\"c\",\"a\",\"f\",\"j\",\"j\",\"j\",\"j\",\"j\",\"j\",\"j\",\"j\",\"j\"]\n",
    "frequencycounter(a)"
   ]
  },
  {
   "cell_type": "markdown",
   "id": "17ff3f68",
   "metadata": {},
   "source": [
    "Iterative Febonacci series"
   ]
  },
  {
   "cell_type": "code",
   "execution_count": 11,
   "id": "a63ce68d",
   "metadata": {},
   "outputs": [
    {
     "name": "stdout",
     "output_type": "stream",
     "text": [
      "1\n",
      "2\n",
      "3\n",
      "5\n",
      "8\n",
      "13\n",
      "21\n"
     ]
    }
   ],
   "source": [
    "i = 1\n",
    "j = 0\n",
    "n = int(input(\"Give the Number of Elements you want to print:-\"))\n",
    "\n",
    "for x in range(n):\n",
    "    temp = i+j\n",
    "    print(temp)\n",
    "    j=i\n",
    "    i=temp\n",
    "\n",
    "\n"
   ]
  },
  {
   "cell_type": "markdown",
   "id": "d2e7c65e",
   "metadata": {},
   "source": [
    "Recurssive version"
   ]
  },
  {
   "cell_type": "code",
   "execution_count": 13,
   "id": "24ec948d",
   "metadata": {},
   "outputs": [
    {
     "name": "stdout",
     "output_type": "stream",
     "text": [
      "1\n",
      "2\n",
      "3\n",
      "5\n",
      "8\n",
      "13\n",
      "21\n",
      "34\n",
      "55\n"
     ]
    }
   ],
   "source": [
    "def fibo(a:int,b:int,n:int):\n",
    "    if n == 0:\n",
    "        return\n",
    "    else:\n",
    "        temp = a+b\n",
    "        print(temp)\n",
    "        fibo(a=b,b=temp,n=n-1)\n",
    "\n",
    "n = int(input(\"Give the Number of Elements you want to print:-\"))\n",
    "fibo(0,1,n)"
   ]
  },
  {
   "cell_type": "markdown",
   "id": "5941e239",
   "metadata": {},
   "source": [
    "Print all Amstrong numbers between 1 and 1000"
   ]
  },
  {
   "cell_type": "code",
   "execution_count": 24,
   "id": "f99104f7",
   "metadata": {},
   "outputs": [
    {
     "name": "stdout",
     "output_type": "stream",
     "text": [
      "The Amstrong numbers are :=\n",
      "0\n",
      "1\n",
      "153\n",
      "370\n",
      "371\n",
      "407\n"
     ]
    }
   ],
   "source": [
    "print(\"The Amstrong numbers are :=\")\n",
    "for n in range(1000):\n",
    "    j=n\n",
    "    sum = 0\n",
    "    while n>0:\n",
    "        i = n%10\n",
    "        sum = sum + (i**3)\n",
    "        n=n//10\n",
    "\n",
    "    if(sum == j):\n",
    "        print(j)\n"
   ]
  },
  {
   "cell_type": "code",
   "execution_count": 25,
   "id": "085b031a",
   "metadata": {},
   "outputs": [
    {
     "data": {
      "text/plain": [
       "[1, 2, 3, 4, 5, 6]"
      ]
     },
     "execution_count": 25,
     "metadata": {},
     "output_type": "execute_result"
    }
   ],
   "source": [
    "a = [1,2,3,4,5,6,7]\n",
    "a.pop(-1)\n",
    "a"
   ]
  },
  {
   "cell_type": "markdown",
   "id": "7a9f7d6d",
   "metadata": {},
   "source": [
    "Rotate a list by n position using loops"
   ]
  },
  {
   "cell_type": "code",
   "execution_count": 33,
   "id": "bdb79ce2",
   "metadata": {},
   "outputs": [
    {
     "name": "stdout",
     "output_type": "stream",
     "text": [
      "[5, 6, 7, 8, 9, 1, 2, 3, 4]\n"
     ]
    }
   ],
   "source": [
    "a = int(input(\"Tell the number of rotation you want:-\"))\n",
    "b = [1,2,3,4,5,6,7,8,9]\n",
    "for i in range(a):\n",
    "    temp = []\n",
    "    temp.append(b[-1])\n",
    "    b.pop(-1)\n",
    "    b = temp + b\n",
    "\n",
    "print(b)"
   ]
  },
  {
   "cell_type": "markdown",
   "id": "79a00f57",
   "metadata": {},
   "source": [
    "Write a recursive funtion to check if a string is a palindrome "
   ]
  },
  {
   "cell_type": "code",
   "execution_count": 47,
   "id": "ccddb22f",
   "metadata": {},
   "outputs": [
    {
     "data": {
      "text/plain": [
       "True"
      ]
     },
     "execution_count": 47,
     "metadata": {},
     "output_type": "execute_result"
    }
   ],
   "source": [
    "a = \"SUMMUSSUMMUS\"\n",
    "\n",
    "def checkpali(a):\n",
    "\n",
    "    if len(a) <= 1:\n",
    "        return True\n",
    "    \n",
    "    first = a[0]\n",
    "    last = a[-1]\n",
    "    if(first != last):\n",
    "        return False\n",
    "    else:\n",
    "        a = a[1:-1]\n",
    "        return checkpali(a)\n",
    "    return True\n",
    "\n",
    "checkpali(a)\n",
    "\n"
   ]
  },
  {
   "cell_type": "markdown",
   "id": "2974ddf0",
   "metadata": {},
   "source": [
    "Merge two sorted lists into one sorted list"
   ]
  },
  {
   "cell_type": "code",
   "execution_count": 69,
   "id": "dbb7f637",
   "metadata": {},
   "outputs": [
    {
     "name": "stdout",
     "output_type": "stream",
     "text": [
      "[1, 2, 3, 4, 5, 5, 7, 9, 10, 10, 12, 13]\n"
     ]
    }
   ],
   "source": [
    "b = [1,3,5,7,9,10,10,12,13]\n",
    "a = [2,4,6,8]\n",
    "sorted = []\n",
    "j=k=0\n",
    "if len(a) > len(b):\n",
    "    while(j<len(b)-1 ):\n",
    "        if a[j]<b[k]:\n",
    "            sorted.append(a[j])\n",
    "            j = j+1\n",
    "\n",
    "        if a[j]>=b[k] :\n",
    "            sorted.append(b[k])\n",
    "            k = k+1\n",
    "    for j in range(j,len(a)):\n",
    "        sorted.append(a[j])\n",
    "    print(sorted)\n",
    "else:\n",
    "    while(k<len(a)-1):\n",
    "        if a[j]<b[k]:\n",
    "            sorted.append(a[j])\n",
    "            j = j+1\n",
    "\n",
    "        if a[j]>=b[k] :\n",
    "            sorted.append(b[k])\n",
    "            k = k+1\n",
    "    for j in range(j,len(b)):\n",
    "        sorted.append(b[j])\n",
    "    print(sorted)\n",
    "\n",
    "\n",
    "\n",
    "\n"
   ]
  },
  {
   "cell_type": "code",
   "execution_count": null,
   "id": "d09f608b",
   "metadata": {},
   "outputs": [
    {
     "ename": "",
     "evalue": "",
     "output_type": "error",
     "traceback": [
      "\u001b[1;31mThe Kernel crashed while executing code in the current cell or a previous cell. \n",
      "\u001b[1;31mPlease review the code in the cell(s) to identify a possible cause of the failure. \n",
      "\u001b[1;31mClick <a href='https://aka.ms/vscodeJupyterKernelCrash'>here</a> for more info. \n",
      "\u001b[1;31mView Jupyter <a href='command:jupyter.viewOutput'>log</a> for further details."
     ]
    }
   ],
   "source": [
    "import random\n",
    "random.seed(10)"
   ]
  },
  {
   "cell_type": "code",
   "execution_count": null,
   "id": "b1cd9a46",
   "metadata": {},
   "outputs": [],
   "source": []
  }
 ],
 "metadata": {
  "kernelspec": {
   "display_name": "Python 3",
   "language": "python",
   "name": "python3"
  },
  "language_info": {
   "codemirror_mode": {
    "name": "ipython",
    "version": 3
   },
   "file_extension": ".py",
   "mimetype": "text/x-python",
   "name": "python",
   "nbconvert_exporter": "python",
   "pygments_lexer": "ipython3",
   "version": "3.13.5"
  }
 },
 "nbformat": 4,
 "nbformat_minor": 5
}
