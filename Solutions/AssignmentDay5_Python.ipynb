{
 "cells": [
  {
   "cell_type": "markdown",
   "id": "5e87116d",
   "metadata": {},
   "source": [
    "***Write a Program that reads a file from the end and prints its lines in reverse order (last line first , first line last ) without using readLines() or [::-1 Slicing]***"
   ]
  },
  {
   "cell_type": "code",
   "execution_count": 25,
   "id": "0c280e69",
   "metadata": {},
   "outputs": [
    {
     "name": "stdout",
     "output_type": "stream",
     "text": [
      "['Hello World I am a NotePadHello World I am a NotePad', 'Hello World I am a NotePad', 'Hello World I am a NotePad', 'Hello World I am a NotePad', 'Hello World I am a NotePad', 'Hello World I am a NotePad', 'Hello World I am a NotePad', '']\n"
     ]
    }
   ],
   "source": [
    "lines = []\n",
    "reverse = []\n",
    "with open(\"test1.txt\",\"r\") as f:\n",
    "    for i in f:\n",
    "        lines.append(i.strip())\n",
    "\n",
    "    for j in range(len(lines)-1,-1,-1):\n",
    "        reverse.append(lines[j])\n",
    "\n",
    "print(reverse)\n"
   ]
  },
  {
   "cell_type": "markdown",
   "id": "61c73f83",
   "metadata": {},
   "source": [
    "***2. Given a large text file , write a program that\n",
    "    Read it in chunks of 100 characters each\n",
    "    Create multiple smaller files(part1.txt, part2.txt)  containing those chunks. \n",
    "    Ensure the file pointer positions are managed correctly***"
   ]
  },
  {
   "cell_type": "code",
   "execution_count": 28,
   "id": "13607129",
   "metadata": {},
   "outputs": [
    {
     "name": "stdout",
     "output_type": "stream",
     "text": [
      "['\\n', 'Hello World I am a NotePad\\n', 'Hello World I am a NotePad\\n', 'Hello World I am a NotePad\\n', 'Hello World I am a NotePad\\n']\n"
     ]
    }
   ],
   "source": [
    "with open(\"test1.txt\",\"r\") as f:\n",
    "    print(f.readlines(100))\n"
   ]
  },
  {
   "cell_type": "code",
   "execution_count": null,
   "id": "0aba4568",
   "metadata": {},
   "outputs": [],
   "source": []
  }
 ],
 "metadata": {
  "kernelspec": {
   "display_name": "Python 3",
   "language": "python",
   "name": "python3"
  },
  "language_info": {
   "codemirror_mode": {
    "name": "ipython",
    "version": 3
   },
   "file_extension": ".py",
   "mimetype": "text/x-python",
   "name": "python",
   "nbconvert_exporter": "python",
   "pygments_lexer": "ipython3",
   "version": "3.13.5"
  }
 },
 "nbformat": 4,
 "nbformat_minor": 5
}
