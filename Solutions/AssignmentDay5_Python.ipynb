{
 "cells": [
  {
   "cell_type": "markdown",
   "id": "5e87116d",
   "metadata": {},
   "source": [
    "***Write a Program that reads a file from the end and prints its lines in reverse order (last line first , first line last ) without using readLines() or [::-1 Slicing]***"
   ]
  },
  {
   "cell_type": "code",
   "execution_count": 25,
   "id": "0c280e69",
   "metadata": {},
   "outputs": [
    {
     "name": "stdout",
     "output_type": "stream",
     "text": [
      "['Hello World I am a NotePadHello World I am a NotePad', 'Hello World I am a NotePad', 'Hello World I am a NotePad', 'Hello World I am a NotePad', 'Hello World I am a NotePad', 'Hello World I am a NotePad', 'Hello World I am a NotePad', '']\n"
     ]
    }
   ],
   "source": [
    "lines = []\n",
    "reverse = []\n",
    "with open(\"test1.txt\",\"r\") as f:\n",
    "    for i in f:\n",
    "        lines.append(i.strip())\n",
    "\n",
    "    for j in range(len(lines)-1,-1,-1):\n",
    "        reverse.append(lines[j])\n",
    "\n",
    "print(reverse)\n"
   ]
  },
  {
   "cell_type": "markdown",
   "id": "61c73f83",
   "metadata": {},
   "source": [
    "***2. Given a large text file , write a program that\n",
    "    Read it in chunks of 100 characters each\n",
    "    Create multiple smaller files(part1.txt, part2.txt)  containing those chunks. \n",
    "    Ensure the file pointer positions are managed correctly***"
   ]
  },
  {
   "cell_type": "code",
   "execution_count": 9,
   "id": "13607129",
   "metadata": {},
   "outputs": [],
   "source": [
    "size = 10000\n",
    "filenumber = 2\n",
    "with open(\"../test1.txt\",\"r\") as f:\n",
    "    while True:\n",
    "        content = f.read(size)\n",
    "        \n",
    "        if not content : \n",
    "            break\n",
    "\n",
    "        small_file_name = f\"test{filenumber}.txt\"\n",
    "        with open(small_file_name,\"w\") as nf:\n",
    "            nf.write(content)\n",
    "        filenumber = filenumber + 1\n",
    "            \n",
    "\n"
   ]
  },
  {
   "cell_type": "markdown",
   "id": "5e39c102",
   "metadata": {},
   "source": [
    "3. Write a program that replaces all occurrences of the word \"error\" with \"warning\" \n",
    "inside a large log file without reading the entire file into memory at once."
   ]
  },
  {
   "cell_type": "code",
   "execution_count": 26,
   "id": "0ebb53b7",
   "metadata": {},
   "outputs": [
    {
     "name": "stdout",
     "output_type": "stream",
     "text": [
      "['Hello World I am a error\\n', 'Hello World I am a Warning\\n', 'Hello World I am a error\\n', 'Hello World I am a NotePad\\n', 'Hello World I am a NotePad\\n', 'Hello World I am a NotePad\\n', 'Hello World I am a NotePad\\n', 'Hello World I am a NotePad\\n', 'Hello World I am a NotePad\\n', 'Hello World I am a NotePad\\n', 'Hello World I am a NotePad\\n', 'Hello World I am a NotePad\\n', 'Hello World I am a NotePad\\n', 'Hello World I am a NotePad\\n', 'Hello World I am a NotePad\\n', 'Hello World I am a NotePad\\n', 'Hello World I am a NotePad\\n', 'Hello World I am a NotePad\\n', 'Hello World I am a NotePad\\n', 'Hello World I am a NotePad\\n', 'Hello World I am a NotePad\\n', 'Hello World I am a NotePad\\n', 'Hello World I am a NotePad\\n', 'Hello World I am a NotePad\\n', 'Hello World I am a NotePad\\n', 'Hello World I am a NotePad\\n', 'Hello World I am a NotePad\\n', 'Hello World I am a NotePad\\n', 'Hello World I am a NotePad\\n', 'Hello World I am a NotePad\\n', 'Hello World I am a NotePad\\n', 'Hello World I am a NotePad\\n', 'Hello World I am a NotePad\\n', 'Hello World I am a NotePad\\n', 'Hello World I am a NotePad\\n', 'Hello World I am a NotePad\\n', 'Hello World I am a NotePad\\n', 'Hello World I am a NotePad\\n', 'Hello World I am a NotePad\\n', 'Hello World I am a NotePad\\n', 'Hello World I am a NotePad\\n', 'Hello World I am a NotePad\\n', 'Hello World I am a NotePad\\n', 'Hello World I am a NotePad\\n', 'Hello World I am a NotePad\\n', 'Hello World I am a NotePad\\n', 'Hello World I am a NotePad\\n', 'Hello World I am a NotePad\\n', 'Hello World I am a NotePad\\n', 'Hello World I am a NotePad\\n', 'Hello World I am a NotePad\\n', 'Hello World I am a NotePad\\n', 'Hello World I am a NotePad\\n', 'Hello World I am a NotePad\\n', 'Hello World I am a NotePad\\n', 'Hello World I am a NotePad\\n', 'Hello World I am a NotePad\\n', 'Hello World I am a NotePad\\n', 'Hello World I am a NotePad\\n', 'Hello World I am a NotePad\\n', 'Hello World I am a NotePad\\n', 'Hello World I am a NotePad\\n', 'Hello World I am a NotePad\\n', 'Hello World I am a NotePad\\n', 'Hello World I am a NotePad\\n', 'Hello World I am a NotePad\\n', 'Hello World I am a NotePad\\n', 'Hello World I am a NotePad\\n', 'Hello World I am a NotePad\\n', 'Hello World I am a NotePad\\n', 'Hello World I am a NotePad\\n', 'Hello World I am a NotePad\\n', 'Hello World I am a NotePad\\n', 'Hello World I am a NotePad\\n', 'Hello World I am a NotePad\\n', 'Hello World I am a NotePad\\n', 'Hello World I am a NotePad\\n', 'Hello World I am a NotePad\\n', 'Hello World I am a NotePad\\n', 'Hello World I am a NotePad\\n', 'Hello World I am a NotePad\\n', 'Hello World I am a NotePad\\n', 'Hello World I am a NotePad\\n', 'Hello World I am a NotePad\\n', 'Hello World I am a NotePad\\n', 'Hello World I am a NotePad\\n', 'Hello World I am a NotePad\\n', 'Hello World I am a NotePad\\n', 'Hello World I am a NotePad\\n', 'Hello World I am a NotePad\\n', 'Hello World I am a NotePad\\n', 'Hello World I am a NotePad\\n', 'Hello World I am a NotePad\\n', 'Hello World I am a NotePad\\n', 'Hello World I am a NotePad\\n', 'Hello World I am a NotePad\\n', 'Hello World I am a NotePad\\n', 'Hello World I am a NotePad\\n', 'Hello World I am a NotePad\\n', 'Hello World I am a NotePad\\n', 'Hello World I am a NotePad\\n', 'Hello World I am a NotePad\\n', 'Hello World I am a NotePad\\n', 'Hello World I am a NotePad\\n', 'Hello World I am a NotePad\\n', 'Hello World I am a NotePad\\n', 'Hello World I am a NotePad\\n', 'Hello World I am a NotePad\\n', 'Hello World I am a NotePad\\n', 'Hello World I am a NotePad\\n', 'Hello World I am a NotePad\\n', 'Hello World I am a NotePad\\n', 'Hello World I am a NotePad\\n', 'Hello World I am a NotePad\\n', 'Hello World I am a NotePad\\n', 'Hello World I am a NotePad\\n', 'Hello World I am a NotePad\\n', 'Hello World I am a NotePad\\n', 'Hello World I am a NotePad\\n', 'Hello World I am a NotePad\\n', 'Hello World I am a NotePad\\n', 'Hello World I am a NotePad\\n', 'Hello World I am a NotePad\\n', 'Hello World I am a NotePad\\n', 'Hello World I am a NotePad\\n', 'Hello World I am a NotePad\\n', 'Hello World I am a NotePad\\n', 'Hello World I am a NotePad\\n', 'Hello World I am a NotePad\\n', 'Hello World I am a NotePad\\n', 'Hello World I am a NotePad\\n', 'Hello World I am a NotePad\\n', 'Hello World I am a NotePad\\n', 'Hello World I am a NotePad\\n', 'Hello World I am a NotePad\\n', 'Hello World I am a NotePad\\n', 'Hello World I am a NotePad\\n', 'Hello World I am a NotePad\\n', 'Hello World I am a NotePad\\n', 'Hello World I am a NotePad\\n', 'Hello World I am a NotePad\\n', 'Hello World I am a NotePad\\n', 'Hello World I am a NotePad\\n', 'Hello World I am a NotePad\\n', 'Hello World I am a NotePad\\n', 'Hello World I am a NotePad\\n', 'Hello World I am a NotePad\\n', 'Hello World I am a NotePad\\n', 'Hello World I am a NotePad\\n', 'Hello World I am a NotePad\\n', 'Hello World I am a NotePad\\n', 'Hello World I am a NotePad\\n', 'Hello World I am a NotePad\\n', 'Hello World I am a NotePad\\n', 'Hello World I am a NotePad\\n', 'Hello World I am a NotePad\\n', 'Hello World I am a NotePad\\n', 'Hello World I am a NotePad\\n', 'Hello World I am a NotePad\\n', 'Hello World I am a NotePad\\n', 'Hello World I am a NotePad\\n', 'Hello World I am a NotePad\\n', 'Hello World I am a NotePad\\n', 'Hello World I am a NotePad\\n', 'Hello World I am a NotePad\\n', 'Hello World I am a NotePad\\n', 'Hello World I am a NotePad\\n', 'Hello World I am a NotePad\\n', 'Hello World I am a NotePad\\n', 'Hello World I am a NotePad\\n', 'Hello World I am a NotePad\\n', 'Hello World I am a NotePad\\n', 'Hello World I am a NotePad\\n', 'Hello World I am a NotePad\\n', 'Hello World I am a NotePad\\n', 'Hello World I am a NotePad\\n', 'Hello World I am a NotePad\\n', 'Hello World I am a NotePad\\n', 'Hello World I am a NotePad\\n', 'Hello World I am a NotePad\\n', 'Hello World I am a NotePad\\n', 'Hello World I am a NotePad\\n', 'Hello World I am a NotePad\\n', 'Hello World I am a NotePad\\n', 'Hello World I am a NotePad\\n', 'Hello World I am a NotePad\\n', 'Hello World I am a NotePad\\n', 'Hello World I am a NotePad\\n', 'Hello World I am a NotePad\\n', 'Hello World I am a NotePad\\n', 'Hello World I am a NotePad\\n', 'Hello World I am a NotePad\\n', 'Hello World I am a NotePad\\n', 'Hello World I am a NotePad\\n', 'Hello World I am a NotePad\\n', 'Hello World I am a NotePad\\n', 'Hello World I am a NotePad\\n', 'Hello World I am a NotePad\\n', 'Hello World I am a NotePad\\n', 'Hello World I am a NotePad\\n', 'Hello World I am a NotePad\\n', 'Hello World I am a NotePad\\n', 'Hello World I am a NotePad\\n', 'Hello World I am a NotePad\\n', 'Hello World I am a NotePad\\n', 'Hello World I am a NotePad\\n', 'Hello World I am a NotePad\\n', 'Hello World I am a NotePad\\n', 'Hello World I am a NotePad\\n', 'Hello World I am a NotePad\\n', 'Hello World I am a NotePad\\n', 'Hello World I am a NotePad\\n', 'Hello World I am a NotePad\\n', 'Hello World I am a NotePad\\n', 'Hello World I am a NotePad\\n', 'Hello World I am a NotePad\\n', 'Hello World I am a NotePad\\n', 'Hello World I am a NotePad\\n', 'Hello World I am a NotePad\\n', 'Hello World I am a NotePad\\n', 'Hello World I am a NotePad\\n', 'Hello World I am a NotePad\\n', 'Hello World I am a NotePad\\n', 'Hello World I am a NotePad\\n', 'Hello World I am a NotePad\\n', 'Hello World I am a NotePad\\n', 'Hello World I am a NotePad\\n', 'Hello World I am a NotePad\\n', 'Hello World I am a NotePad\\n', 'Hello World I am a NotePad\\n', 'Hello World I am a NotePad\\n', 'Hello World I am a NotePad\\n', 'Hello World I am a NotePad\\n', 'Hello World I am a NotePad\\n', 'Hello World I am a NotePad\\n', 'Hello World I am a NotePad\\n', 'Hello World I am a NotePad\\n', 'Hello World I am a NotePad\\n', 'Hello World I am a NotePad\\n', 'Hello World I am a NotePad\\n', 'Hello World I am a NotePad\\n', 'Hello World I am a NotePad\\n', 'Hello World I am a NotePad\\n', 'Hello World I am a NotePad\\n', 'Hello World I am a NotePad\\n', 'Hello World I am a NotePad\\n', 'Hello World I am a NotePad\\n', 'Hello World I am a NotePad\\n', 'Hello World I am a NotePad\\n', 'Hello World I am a NotePad\\n', 'Hello World I am a NotePad\\n', 'Hello World I am a NotePad\\n', 'Hello World I am a NotePad\\n', 'Hello World I am a NotePad\\n', 'Hello World I am a NotePad\\n', 'Hello World I am a NotePad\\n', 'Hello World I am a NotePad\\n', 'Hello World I am a NotePad\\n', 'Hello World I am a NotePad\\n', 'Hello World I am a NotePad\\n', 'Hello World I am a NotePad\\n', 'Hello World I am a NotePad\\n', 'Hello World I am a NotePad\\n', 'Hello World I am a NotePad\\n', 'Hello World I am a NotePad\\n', 'Hello World I am a NotePad\\n', 'Hello World I am a NotePad\\n', 'Hello World I am a NotePad\\n', 'Hello World I am a NotePad\\n', 'Hello World I am a NotePad\\n', 'Hello World I am a NotePad\\n', 'Hello World I am a NotePad\\n', 'Hello World I am a NotePad\\n', 'Hello World I am a NotePad\\n', 'Hello World I am a NotePad\\n', 'Hello World I am a NotePad\\n', 'Hello World I am a NotePad\\n', 'Hello World I am a NotePad\\n', 'Hello World I am a NotePad\\n', 'Hello World I am a NotePad\\n', 'Hello World I am a NotePad\\n', 'Hello World I am a NotePad\\n', 'Hello World I am a NotePad\\n', 'Hello World I am a NotePad\\n', 'Hello World I am a NotePad\\n', 'Hello World I am a NotePad\\n', 'Hello World I am a NotePad\\n', 'Hello World I am a NotePad\\n', 'Hello World I am a NotePad\\n', 'Hello World I am a NotePad\\n', 'Hello World I am a NotePad\\n', 'Hello World I am a NotePad\\n', 'Hello World I am a NotePad\\n', 'Hello World I am a NotePad\\n', 'Hello World I am a NotePad\\n', 'Hello World I am a NotePad\\n', 'Hello World I am a NotePad\\n', 'Hello World I am a NotePad\\n', 'Hello World I am a NotePad\\n', 'Hello World I am a NotePad\\n', 'Hello World I am a NotePad\\n', 'Hello World I am a NotePad\\n', 'Hello World I am a NotePad\\n', 'Hello World I am a NotePad\\n', 'Hello World I am a NotePad\\n', 'Hello World I am a NotePad\\n', 'Hello World I am a NotePad\\n', 'Hello World I am a NotePad\\n', 'Hello World I am a NotePad\\n', 'Hello World I am a NotePad\\n', 'Hello World I am a NotePad\\n', 'Hello World I am a NotePad\\n', 'Hello World I am a NotePad\\n', 'Hello World I am a NotePad\\n', 'Hello World I am a NotePad\\n', 'Hello World I am a NotePad\\n', 'Hello World I am a NotePad\\n', 'Hello World I am a NotePad\\n', 'Hello World I am a NotePad\\n', 'Hello World I am a NotePad\\n', 'Hello World I am a NotePad\\n', 'Hello World I am a NotePad\\n', 'Hello World I am a NotePad\\n', 'Hello World I am a NotePad\\n', 'Hello World I am a NotePad\\n', 'Hello World I am a NotePad\\n', 'Hello World I am a NotePad\\n', 'Hello World I am a NotePad\\n', 'Hello World I am a NotePad\\n', 'Hello World I am a NotePad\\n', 'Hello World I am a NotePad\\n', 'Hello World I am a NotePad\\n', 'Hello World I am a NotePad\\n', 'Hello World I am a NotePad\\n', 'Hello World I am a NotePad\\n', 'Hello World I am a NotePad\\n', 'Hello World I am a NotePad\\n', 'Hello World I am a NotePad\\n', 'Hello World I am a NotePad\\n', 'Hello World I am a NotePad\\n', 'Hello World I am a NotePad\\n', 'Hello World I am a NotePad\\n', 'Hello World I am a NotePad\\n', 'Hello World I am a NotePad\\n', 'Hello World I am a NotePad\\n', 'Hello World I am a NotePad\\n', 'Hello World I am a NotePad\\n', 'Hello World I am a NotePad\\n', 'Hello World I am a NotePad\\n', 'Hello World I am a NotePad\\n', 'Hello World I am a NotePad\\n', 'Hello World I am a NotePad\\n', 'Hello World I am a NotePad\\n', 'Hello World I am a NotePad\\n', 'Hello World I am a NotePad\\n', 'Hello World I am a NotePad\\n', 'Hello World I am a NotePad\\n', 'Hello World I am a NotePad\\n', 'Hello World I am a NotePad\\n', 'Hello World I am a NotePad\\n', 'Hello World I am a NotePad\\n', 'Hello World I am a NotePad\\n', 'Hello World I am a NotePad\\n', 'Hello World I am a NotePad\\n', 'Hello World I am a NotePad\\n', 'Hello World I am a NotePad\\n', 'Hello World I am a NotePad\\n', 'Hello World I am a NotePad\\n', 'Hello World I am a NotePad\\n', 'Hello World I am a NotePad\\n', 'Hello World I am a NotePad\\n', 'Hello World I am a NotePad\\n', 'Hello World I am a NotePad\\n', 'Hello World I am a NotePad\\n', 'Hello World I am a NotePad\\n', 'Hello World I am a NotePad\\n', 'Hello World I am a NotePad\\n', 'Hello World I am a NotePad\\n', 'Hello World I am a NotePad\\n', 'Hello World I am a NotePad\\n', 'Hello World I am a NotePad\\n', 'Hello World I am a NotePad\\n', 'Hello World I am a NotePad\\n', 'Hello World I am a NotePad\\n', 'Hello World I am a NotePad\\n', 'Hello World I am a NotePad\\n', 'Hello World I am a NotePad\\n', 'Hello World I am a NotePad\\n', 'Hello World I am a NotePad\\n', 'Hello World I am a NotePad\\n', 'Hello World I am a NotePad\\n', 'Hello World I am a NotePad\\n', 'Hello World I am a NotePad\\n', 'Hello World I am a NotePad\\n', 'Hello World I am a NotePad\\n', 'Hello World I am a NotePad\\n', 'Hello World I am a NotePad\\n', 'Hello World I am a NotePad\\n', 'Hello World I am a NotePad\\n', 'Hello World I am a NotePad\\n', 'Hello World I am a NotePad\\n', 'Hello World I am a NotePad\\n', 'Hello World I am a NotePad\\n', 'Hello World I am a NotePad\\n', 'Hello World I am a NotePad\\n', 'Hello World I am a NotePad\\n', 'Hello World I am a NotePad\\n', 'Hello World I am a NotePad\\n', 'Hello World I am a NotePad\\n', 'Hello World I am a NotePad\\n', 'Hello World I am a NotePad\\n', 'Hello World I am a NotePad\\n', 'Hello World I am a NotePad\\n', 'Hello World I am a NotePad\\n', 'Hello World I am a NotePad\\n', 'Hello World I am a NotePad\\n', 'Hello World I am a NotePad\\n', 'Hello World I am a NotePad\\n', 'Hello World I am a NotePad\\n', 'Hello World I am a NotePad\\n', 'Hello World I am a NotePad\\n', 'Hello World I am a NotePad\\n', 'Hello World I am a NotePad\\n', 'Hello World I am a NotePad\\n', 'Hello World I am a NotePad\\n', 'Hello World I am a NotePad\\n', 'Hello World I am a NotePad\\n', 'Hello World I am a NotePad\\n', 'Hello World I am a NotePad\\n', 'Hello World I am a NotePad\\n', 'Hello World I am a NotePad\\n', 'Hello World I am a NotePad\\n', 'Hello World I am a NotePad\\n', 'Hello World I am a NotePad\\n', 'Hello World I am a NotePad\\n', 'Hello World I am a NotePad\\n', 'Hello World I am a NotePad\\n', 'Hello World I am a NotePad\\n', 'Hello World I am a NotePad\\n', 'Hello World I am a NotePad\\n', 'Hello World I am a NotePad\\n', 'Hello World I am a NotePad\\n', 'Hello World I am a NotePad\\n', 'Hello World I am a NotePad\\n', 'Hello World I am a NotePad\\n', 'Hello World I am a NotePad\\n', 'Hello World I am a NotePad\\n', 'Hello World I am a NotePad\\n', 'Hello World I am a NotePad\\n', 'Hello World I am a NotePad\\n', 'Hello World I am a NotePad\\n', 'Hello World I am a NotePad\\n', 'Hello World I am a NotePad\\n', 'Hello World I am a NotePad\\n', 'Hello World I am a NotePad\\n', 'Hello World I am a NotePad\\n', 'Hello World I am a NotePad\\n', 'Hello World I am a NotePad\\n', 'Hello World I am a NotePad\\n', 'Hello World I am a NotePad\\n', 'Hello World I am a NotePad\\n', 'Hello World I am a NotePad\\n', 'Hello World I am a NotePad\\n', 'Hello World I am a NotePad\\n', 'Hello World I am a NotePad\\n', 'Hello World I am a NotePad\\n', 'Hello World I am a NotePad\\n', 'Hello World I am a NotePad\\n', 'Hello World I am a NotePad\\n', 'Hello World I am a NotePad\\n', 'Hello World I am a NotePad\\n', 'Hello World I am a NotePad\\n', 'Hello World I am a NotePad\\n', 'Hello World I am a NotePad\\n', 'Hello World I am a NotePad\\n', 'Hello World I am a NotePad\\n', 'Hello World I am a NotePad\\n', 'Hello World I am a NotePad\\n', 'Hello World I am a NotePad\\n', 'Hello World I am a NotePad\\n', 'Hello World I am a NotePad\\n', 'Hello World I am a NotePad\\n', 'Hello World I am a NotePad\\n', 'Hello World I am a NotePad\\n', 'Hello World I am a NotePad\\n', 'Hello World I am a NotePad\\n', 'Hello World I am a NotePad\\n', 'Hello World I am a NotePad\\n', 'Hello World I am a NotePad\\n', 'Hello World I am a NotePad\\n', 'Hello World I am a NotePad\\n', 'Hello World I am a NotePad\\n', 'Hello World I am a NotePad\\n', 'Hello World I am a NotePad\\n', 'Hello World I am a NotePad\\n', 'Hello World I am a NotePad\\n', 'Hello World I am a NotePad\\n', 'Hello World I am a NotePad\\n', 'Hello World I am a NotePad\\n', 'Hello World I am a NotePad\\n', 'Hello World I am a NotePad\\n', 'Hello World I am a NotePad\\n', 'Hello World I am a NotePad\\n', 'Hello World I am a NotePad\\n', 'Hello World I am a NotePad\\n', 'Hello World I am a NotePad\\n', 'Hello World I am a NotePad\\n', 'Hello World I am a NotePad\\n', 'Hello World I am a NotePad\\n', 'Hello World I am a NotePad\\n', 'Hello World I am a NotePad\\n', 'Hello World I am a NotePad\\n', 'Hello World I am a NotePad\\n', 'Hello World I am a NotePad\\n', 'Hello World I am a NotePad\\n', 'Hello World I am a NotePad\\n', 'Hello World I am a NotePad\\n', 'Hello World I am a NotePad\\n', 'Hello World I am a NotePad\\n', 'Hello World I am a NotePad\\n', 'Hello World I am a NotePad\\n', 'Hello World I am a NotePad\\n', 'Hello World I am a NotePad\\n', 'Hello World I am a NotePad\\n', 'Hello World I am a NotePad\\n', 'Hello World I am a NotePad\\n', 'Hello World I am a NotePad\\n', 'Hello World I am a NotePad\\n', 'Hello World I am a NotePad\\n', 'Hello World I am a NotePad\\n', 'Hello World I am a NotePad\\n', 'Hello World I am a NotePad\\n', 'Hello World I am a NotePad\\n', 'Hello World I am a NotePad\\n', 'Hello World I am a NotePad\\n', 'Hello World I am a NotePad\\n', 'Hello World I am a NotePad\\n', 'Hello World I am a NotePad\\n', 'Hello World I am a NotePad\\n', 'Hello World I am a NotePad\\n', 'Hello World I am a NotePad\\n', 'Hello World I am a NotePad\\n', 'Hello World I am a NotePad\\n', 'Hello World I am a NotePad\\n', 'Hello World I am a NotePad\\n', 'Hello World I am a NotePad\\n', 'Hello World I am a NotePad\\n', 'Hello World I am a NotePad\\n', 'Hello World I am a NotePad\\n', 'Hello World I am a NotePad\\n', 'Hello World I am a NotePad\\n', 'Hello World I am a NotePad\\n', 'Hello World I am a NotePad\\n', 'Hello World I am a NotePad\\n', 'Hello World I am a NotePad\\n', 'Hello World I am a NotePad\\n', 'Hello World I am a NotePad\\n', 'Hello World I am a NotePad\\n', 'Hello World I am a NotePad\\n', 'Hello World I am a NotePad\\n', 'Hello World I am a NotePad\\n', 'Hello World I am a NotePad\\n', 'Hello World I am a NotePad\\n', 'Hello World I am a NotePad\\n', 'Hello World I am a NotePad\\n', 'Hello World I am a NotePad\\n', 'Hello World I am a NotePad\\n', 'Hello World I am a NotePad\\n', 'Hello World I am a NotePad\\n', 'Hello World I am a NotePad\\n', 'Hello World I am a NotePad\\n', 'Hello World I am a NotePad\\n', 'Hello World I am a NotePad\\n', 'Hello World I am a NotePad\\n', 'Hello World I am a NotePad\\n', 'Hello World I am a NotePad\\n', 'Hello World I am a NotePad\\n', 'Hello World I am a NotePad\\n', 'Hello World I am a NotePad\\n', 'Hello World I am a NotePad\\n', 'Hello World I am a NotePad\\n', 'Hello World I am a NotePad\\n', 'Hello World I am a NotePad\\n', 'Hello World I am a NotePad\\n', 'Hello World I am a NotePad\\n', 'Hello World I am a NotePad\\n', 'Hello World I am a NotePad\\n', 'Hello World I am a NotePad\\n', 'Hello World I am a NotePad\\n', 'Hello World I am a NotePad\\n', 'Hello World I am a NotePad\\n', 'Hello World I am a NotePad\\n', 'Hello World I am a NotePad\\n', 'Hello World I am a NotePad\\n', 'Hello World I am a NotePad\\n', 'Hello World I am a NotePad\\n', 'Hello World I am a NotePad\\n', 'Hello World I am a NotePad\\n', 'Hello World I am a NotePad\\n', 'Hello World I am a NotePad\\n', 'Hello World I am a NotePad\\n', 'Hello World I am a NotePad\\n', 'Hello World I am a NotePad\\n', 'Hello World I am a NotePad\\n', 'Hello World I am a NotePad\\n', 'Hello World I am a NotePad\\n', 'Hello World I am a NotePad\\n', 'Hello World I am a NotePad\\n', 'Hello World I am a NotePad\\n', 'Hello World I am a NotePad\\n', 'Hello World I am a NotePad\\n', 'Hello World I am a NotePad\\n', 'Hello World I am a NotePad\\n', 'Hello World I am a NotePad\\n', 'Hello World I am a NotePad\\n', 'Hello World I am a NotePad\\n', 'Hello World I am a NotePad\\n', 'Hello World I am a NotePad\\n', 'Hello World I am a NotePad\\n', 'Hello World I am a NotePad\\n', 'Hello World I am a NotePad\\n', 'Hello World I am a NotePad\\n', 'Hello World I am a NotePad\\n', 'Hello World I am a NotePad\\n', 'Hello World I am a NotePad\\n', 'Hello World I am a NotePad\\n', 'Hello World I am a NotePad\\n', 'Hello World I am a NotePad\\n', 'Hello World I am a NotePad\\n', 'Hello World I am a NotePad\\n', 'Hello World I am a NotePad\\n', 'Hello World I am a NotePad\\n', 'Hello World I am a NotePad\\n', 'Hello World I am a NotePad\\n', 'Hello World I am a NotePad\\n', 'Hello World I am a NotePad\\n', 'Hello World I am a NotePad\\n', 'Hello World I am a NotePad\\n', 'Hello World I am a NotePad\\n', 'Hello World I am a NotePad\\n', 'Hello World I am a NotePad\\n', 'Hello World I am a NotePad\\n', 'Hello World I am a NotePad\\n', 'Hello World I am a NotePad\\n', 'Hello World I am a NotePad\\n', 'Hello World I am a NotePad\\n', 'Hello World I am a NotePad\\n', 'Hello World I am a NotePad\\n', 'Hello World I am a NotePad\\n', 'Hello World I am a NotePad\\n', 'Hello World I am a NotePad\\n', 'Hello World I am a NotePad\\n', 'Hello World I am a NotePad\\n', 'Hello World I am a NotePad\\n', 'Hello World I am a NotePad\\n', 'Hello World I am a NotePad\\n', 'Hello World I am a NotePad\\n', 'Hello World I am a NotePad\\n', 'Hello World I am a NotePad\\n', 'Hello World I am a NotePad\\n', 'Hello World I am a NotePad\\n', 'Hello World I am a NotePad\\n', 'Hello World I am a NotePad\\n', 'Hello World I am a NotePad\\n', 'Hello World I am a NotePad\\n', 'Hello World I am a NotePad\\n', 'Hello World I am a NotePad\\n', 'Hello World I am a NotePad\\n', 'Hello World I am a NotePad\\n', 'Hello World I am a NotePad\\n', 'Hello World I am a NotePad\\n', 'Hello World I am a NotePad\\n', 'Hello World I am a NotePad\\n', 'Hello World I am a NotePad\\n', 'Hello World I am a NotePad\\n', 'Hello World I am a NotePad\\n', 'Hello World I am a NotePad\\n', 'Hello World I am a NotePad\\n', 'Hello World I am a NotePad\\n', 'Hello World I am a NotePad\\n', 'Hello World I am a NotePad\\n', 'Hello World I am a NotePad\\n', 'Hello World I am a NotePad\\n', 'Hello World I am a NotePad\\n', 'Hello World I am a NotePad\\n', 'Hello World I am a NotePad\\n', 'Hello World I am a NotePad\\n', 'Hello World I am a NotePad\\n', 'Hello World I am a NotePad\\n', 'Hello World I am a NotePad\\n', 'Hello World I am a NotePad\\n', 'Hello World I am a NotePad\\n', 'Hello World I am a NotePad\\n', 'Hello World I am a NotePad\\n', 'Hello World I am a NotePad\\n', 'Hello World I am a NotePad\\n', 'Hello World I am a NotePad\\n', 'Hello World I am a NotePad\\n', 'Hello World I am a NotePad\\n', 'Hello World I am a NotePad\\n', 'Hello World I am a NotePad\\n', 'Hello World I am a NotePad\\n', 'Hello World I am a NotePad\\n', 'Hello World I am a NotePad\\n', 'Hello World I am a NotePad\\n', 'Hello World I am a NotePad\\n', 'Hello World I am a NotePad\\n', 'Hello World I am a NotePad\\n', 'Hello World I am a NotePad\\n', 'Hello World I am a NotePad\\n', 'Hello World I am a NotePad\\n', 'Hello World I am a NotePad\\n', 'Hello World I am a NotePad\\n', 'Hello World I am a NotePad\\n', 'Hello World I am a NotePad\\n', 'Hello World I am a NotePad\\n', 'Hello World I am a NotePad\\n', 'Hello World I am a NotePad\\n', 'Hello World I am a NotePad\\n', 'Hello World I am a NotePad\\n', 'Hello World I am a NotePad\\n', 'Hello World I am a NotePad\\n', 'Hello World I am a NotePad\\n', 'Hello World I am a NotePad\\n', 'Hello World I am a NotePad\\n', 'Hello World I am a NotePad\\n', 'Hello World I am a NotePad\\n', 'Hello World I am a NotePad\\n', 'Hello World I am a NotePad\\n', 'Hello World I am a NotePad\\n', 'Hello World I am a NotePad\\n', 'Hello World I am a NotePad\\n', 'Hello World I am a NotePad\\n', 'Hello World I am a NotePad\\n', 'Hello World I am a NotePad\\n', 'Hello World I am a NotePad\\n', 'Hello World I am a NotePad\\n', 'Hello World I am a NotePad\\n', 'Hello World I am a NotePad\\n', 'Hello World I am a NotePad\\n', 'Hello World I am a NotePad\\n', 'Hello World I am a NotePad\\n', 'Hello World I am a NotePad\\n', 'Hello World I am a NotePad\\n', 'Hello World I am a NotePad\\n', 'Hello World I am a NotePad\\n', 'Hello World I am a NotePad\\n', 'Hello World I am a NotePad\\n', 'Hello World I am a NotePad\\n', 'Hello World I am a NotePad\\n', 'Hello World I am a NotePad\\n', 'Hello World I am a NotePad\\n', 'Hello World I am a NotePad\\n', 'Hello World I am a NotePad\\n', 'Hello World I am a NotePad\\n', 'Hello World I am a NotePad\\n', 'Hello World I am a NotePad\\n', 'Hello World I am a NotePad\\n', 'Hello World I am a NotePad\\n', 'Hello World I am a NotePad\\n', 'Hello World I am a NotePad\\n', 'Hello World I am a NotePad\\n', 'Hello World I am a NotePad\\n', 'Hello World I am a NotePad\\n', 'Hello World I am a NotePad\\n', 'Hello World I am a NotePad\\n', 'Hello World I am a NotePad\\n', 'Hello World I am a NotePad\\n', 'Hello World I am a NotePad\\n', 'Hello World I am a NotePad\\n', 'Hello World I am a NotePad\\n', 'Hello World I am a NotePad\\n', 'Hello World I am a NotePad\\n', 'Hello World I am a NotePad\\n', 'Hello World I am a NotePad\\n', 'Hello World I am a NotePad\\n', 'Hello World I am a NotePad\\n', 'Hello World I am a NotePad\\n', 'Hello World I am a NotePad\\n', 'Hello World I am a NotePad\\n', 'Hello World I am a NotePad\\n', 'Hello World I am a NotePad\\n', 'Hello World I am a NotePad\\n', 'Hello World I am a NotePad\\n', 'Hello World I am a NotePad\\n', 'Hello World I am a NotePad\\n', 'Hello World I am a NotePad\\n', 'Hello World I am a NotePad\\n', 'Hello World I am a NotePad\\n', 'Hello World I am a NotePad\\n', 'Hello World I am a NotePad\\n', 'Hello World I am a NotePad\\n', 'Hello World I am a NotePad\\n', 'Hello World I am a NotePad\\n', 'Hello World I am a NotePad\\n', 'Hello World I am a NotePad\\n', 'Hello World I am a NotePad\\n', 'Hello World I am a NotePad\\n', 'Hello World I am a NotePad\\n', 'Hello World I am a NotePad\\n', 'Hello World I am a NotePad\\n', 'Hello World I am a NotePad\\n', 'Hello World I am a NotePad\\n', 'Hello World I am a NotePad\\n', 'Hello World I am a NotePad\\n', 'Hello World I am a NotePad\\n', 'Hello World I am a NotePad\\n', 'Hello World I am a NotePad\\n', 'Hello World I am a NotePad\\n', 'Hello World I am a NotePad\\n', 'Hello World I am a NotePad\\n', 'Hello World I am a NotePad\\n', 'Hello World I am a NotePad\\n', 'Hello World I am a NotePad\\n', 'Hello World I am a NotePad\\n', 'Hello World I am a NotePad\\n', 'Hello World I am a NotePad\\n', 'Hello World I am a NotePad\\n', 'Hello World I am a NotePad\\n', 'Hello World I am a NotePad\\n', 'Hello World I am a NotePad\\n', 'Hello World I am a NotePad\\n', 'Hello World I am a NotePad\\n', 'Hello World I am a NotePad\\n', 'Hello World I am a NotePad\\n', 'Hello World I am a NotePad\\n', 'Hello World I am a NotePad\\n', 'Hello World I am a NotePad\\n', 'Hello World I am a NotePad\\n', 'Hello World I am a NotePad\\n', 'Hello World I am a NotePad\\n', 'Hello World I am a NotePad\\n', 'Hello World I am a NotePad\\n', 'Hello World I am a NotePad\\n', 'Hello World I am a NotePad\\n', 'Hello World I am a NotePad\\n', 'Hello World I am a NotePad\\n', 'Hello World I am a NotePad\\n', 'Hello World I am a NotePad\\n', 'Hello World I am a NotePad\\n', 'Hello World I am a NotePad\\n', 'Hello World I am a NotePad\\n', 'Hello World I am a NotePad\\n', 'Hello World I am a NotePad\\n', 'Hello World I am a NotePad\\n', 'Hello World I am a NotePad\\n', 'Hello World I am a NotePad\\n', 'Hello World I am a NotePad\\n', 'Hello World I am a NotePad\\n', 'Hello World I am a NotePad\\n', 'Hello World I am a NotePad\\n', 'Hello World I am a NotePad\\n', 'Hello World I am a NotePad\\n', 'Hello World I am a NotePad\\n', 'Hello World I am a NotePad\\n', 'Hello World I am a NotePad\\n', 'Hello World I am a NotePad\\n', 'Hello World I am a NotePad\\n', 'Hello World I am a NotePad\\n', 'Hello World I am a NotePad\\n', 'Hello World I am a NotePad\\n', 'Hello World I am a NotePad\\n', 'Hello World I am a NotePad\\n', 'Hello World I am a NotePad\\n', 'Hello World I am a NotePad\\n', 'Hello World I am a NotePad\\n', 'Hello World I am a NotePad\\n', 'Hello World I am a NotePad\\n', 'Hello World I am a NotePad\\n', 'Hello World I am a NotePad\\n', 'Hello World I am a NotePad\\n', 'Hello World I am a NotePad\\n', 'Hello World I am a NotePad\\n', 'Hello World I am a NotePad\\n', 'Hello World I am a NotePad\\n', 'Hello World I am a NotePad\\n', 'Hello World I am a NotePad\\n', 'Hello World I am a NotePad\\n', 'Hello World I am a NotePad\\n', 'Hello World I am a NotePad\\n', 'Hello World I am a NotePad\\n', 'Hello World I am a NotePad\\n', 'Hello World I am a NotePad\\n', 'Hello World I am a NotePad\\n', 'Hello World I am a NotePad\\n', 'Hello World I am a NotePad\\n', 'Hello World I am a NotePad\\n', 'Hello World I am a NotePad\\n', 'Hello World I am a NotePad\\n', 'Hello World I am a NotePad\\n', 'Hello World I am a NotePad\\n', 'Hello World I am a NotePad\\n', 'Hello World I am a NotePad\\n', 'Hello World I am a NotePad\\n', 'Hello World I am a NotePad\\n', 'Hello World I am a NotePad\\n', 'Hello World I am a NotePad\\n', 'Hello World I am a NotePad\\n', 'Hello World I am a NotePad\\n', 'Hello World I am a NotePad\\n', 'Hello World I am a NotePad\\n', 'Hello World I am a NotePad\\n', 'Hello World I am a NotePad\\n', 'Hello World I am a NotePad\\n', 'Hello World I am a NotePad\\n', 'Hello World I am a NotePad\\n', 'Hello World I am a NotePad\\n', 'Hello World I am a NotePad\\n', 'Hello World I am a NotePad\\n', 'Hello World I am a NotePad\\n', 'Hello World I am a NotePad\\n', 'Hello World I am a NotePad\\n', 'Hello World I am a NotePad\\n', 'Hello World I am a NotePad\\n', 'Hello World I am a NotePad\\n', 'Hello World I am a NotePad\\n', 'Hello World I am a NotePad\\n', 'Hello World I am a NotePad\\n', 'Hello World I am a NotePad\\n', 'Hello World I am a NotePad\\n', 'Hello World I am a NotePad\\n', 'Hello World I am a NotePad\\n', 'Hello World I am a NotePad\\n', 'Hello World I am a NotePad\\n', 'Hello World I am a NotePad\\n', 'Hello World I am a NotePad\\n', 'Hello World I am a NotePad\\n', 'Hello World I am a NotePad\\n', 'Hello World I am a NotePad\\n', 'Hello World I am a NotePad\\n', 'Hello World I am a NotePad\\n', 'Hello World I am a NotePad\\n', 'Hello World I am a NotePad\\n', 'Hello World I am a NotePad\\n', 'Hello World I am a NotePad\\n', 'Hello World I am a NotePad\\n', 'Hello World I am a NotePad\\n', 'Hello World I am a NotePad\\n', 'Hello World I am a NotePad\\n', 'Hello World I am a NotePad\\n', 'Hello World I am a NotePad\\n', 'Hello World I am a NotePad\\n', 'Hello World I am a NotePad\\n', 'Hello World I am a NotePad\\n', 'Hello World I am a NotePad\\n', 'Hello World I am a NotePad\\n', 'Hello World I am a NotePad\\n', 'Hello World I am a NotePad\\n', 'Hello World I am a NotePad\\n', 'Hello World I am a NotePad\\n', 'Hello World I am a NotePad\\n', 'Hello World I am a NotePad\\n', 'Hello World I am a NotePad\\n', 'Hello World I am a NotePad\\n', 'Hello World I am a NotePad\\n', 'Hello World I am a NotePad\\n', 'Hello World I am a NotePad\\n', 'Hello World I am a NotePad\\n', 'Hello World I am a NotePad\\n', 'Hello World I am a NotePad\\n', 'Hello World I am a NotePad\\n', 'Hello World I am a NotePad\\n', 'Hello World I am a NotePad\\n', 'Hello World I am a NotePad\\n', 'Hello World I am a NotePad\\n', 'Hello World I am a NotePad\\n', 'Hello World I am a NotePad\\n', 'Hello World I am a NotePad\\n', 'Hello World I am a NotePad\\n', 'Hello World I am a NotePad\\n', 'Hello World I am a NotePad\\n', 'Hello World I am a NotePad\\n', 'Hello World I am a NotePad\\n', 'Hello World I am a NotePad\\n', 'Hello World I am a NotePad\\n', 'Hello World I am a NotePad\\n', 'Hello World I am a NotePad\\n', 'Hello World I am a NotePad\\n', 'Hello World I am a NotePad\\n', 'Hello World I am a NotePad\\n', 'Hello World I am a NotePad\\n', 'Hello World I am a NotePad\\n', 'Hello World I am a NotePad\\n', 'Hello World I am a NotePad\\n', 'Hello World I am a NotePad\\n', 'Hello World I am a NotePad\\n', 'Hello World I am a NotePad\\n', 'Hello World I am a NotePad\\n', 'Hello World I am a NotePad\\n', 'Hello World I am a NotePad\\n', 'Hello World I am a NotePad\\n', 'Hello World I am a NotePad\\n', 'Hello World I am a NotePad\\n', 'Hello World I am a NotePad\\n', 'Hello World I am a NotePad\\n', 'Hello World I am a NotePad\\n', 'Hello World I am a NotePad\\n', 'Hello World I am a NotePad\\n', 'Hello World I am a NotePad\\n', 'Hello World I am a NotePad\\n', 'Hello World I am a NotePad\\n', 'Hello World I am a NotePad\\n', 'Hello World I am a NotePad\\n', 'Hello World I am a NotePad\\n', 'Hello World I am a NotePad\\n', 'Hello World I am a NotePad\\n', 'Hello World I am a NotePad\\n', 'Hello World I am a NotePad\\n', 'Hello World I am a NotePad\\n', 'Hello World I am a NotePad\\n', 'Hello World I am a NotePad\\n', 'Hello World I am a NotePad\\n', 'Hello World I am a NotePad\\n', 'Hello World I am a NotePad\\n', 'Hello World I am a NotePad\\n', 'Hello World I am a NotePad\\n', 'Hello World I am a NotePad\\n', 'Hello World I am a NotePad\\n', 'Hello World I am a NotePad\\n', 'Hello World I am a NotePad\\n', 'Hello World I am a NotePad\\n', 'Hello World I am a NotePad\\n', 'Hello World I am a NotePad\\n', 'Hello World I am a NotePad\\n', 'Hello World I am a NotePad\\n', 'Hello World I am a NotePad\\n', 'Hello World I am a NotePad\\n', 'Hello World I am a NotePad\\n', 'Hello World I am a NotePad\\n', 'Hello World I am a NotePad\\n', 'Hello World I am a NotePad\\n', 'Hello World I am a NotePad\\n', 'Hello World I am a NotePad\\n', 'Hello World I am a NotePad\\n', 'Hello World I am a NotePad\\n', 'Hello World I am a NotePad\\n', 'Hello World I am a NotePad\\n', 'Hello World I am a NotePad\\n', 'Hello World I am a NotePad\\n', 'Hello World I am a NotePad\\n', 'Hello World I am a NotePad\\n', 'Hello World I am a NotePad\\n', 'Hello World I am a NotePad\\n', 'Hello World I am a NotePad\\n', 'Hello World I am a NotePad\\n', 'Hello World I am a NotePad\\n', 'Hello World I am a NotePad\\n', 'Hello World I am a NotePad\\n', 'Hello World I am a NotePad\\n', 'Hello World I am a NotePad\\n', 'Hello World I am a NotePad\\n', 'Hello World I am a NotePad\\n', 'Hello World I am a NotePad\\n', 'Hello World I am a NotePad\\n', 'Hello World I am a NotePad\\n', 'Hello World I am a NotePad\\n', 'Hello World I am a NotePad\\n', 'Hello World I am a NotePad\\n', 'Hello World I am a NotePad\\n', 'Hello World I am a NotePad\\n', 'Hello World I am a NotePad\\n', 'Hello World I am a NotePad\\n', 'Hello World I am a NotePad\\n', 'Hello World I am a NotePad\\n', 'Hello World I am a NotePad\\n', 'Hello World I am a NotePad\\n', 'Hello World I am a NotePad\\n', 'Hello World I am a NotePad\\n', 'Hello World I am a NotePad\\n', 'Hello World I am a NotePad\\n', 'Hello World I am a NotePad\\n', 'Hello World I am a NotePad\\n', 'Hello World I am a NotePad\\n', 'Hello World I am a NotePad\\n', 'Hello World I am a NotePad\\n', 'Hello World I am a NotePad\\n', 'Hello World I am a NotePad\\n', 'Hello World I am a NotePad\\n', 'Hello World I am a NotePad\\n', 'Hello World I am a NotePad\\n', 'Hello World I am a NotePad\\n', 'Hello World I am a NotePad\\n', 'Hello World I am a NotePad\\n', 'Hello World I am a NotePad\\n', 'Hello World I am a NotePad\\n', 'Hello World I am a NotePad\\n', 'Hello World I am a NotePad\\n', 'Hello World I am a NotePad\\n', 'Hello World I am a NotePad\\n', 'Hello World I am a NotePad\\n', 'Hello World I am a NotePad\\n', 'Hello World I am a NotePad\\n', 'Hello World I am a NotePad\\n', 'Hello World I am a NotePad\\n', 'Hello World I am a NotePad\\n', 'Hello World I am a NotePad\\n', 'Hello World I am a NotePad\\n', 'Hello World I am a NotePad\\n', 'Hello World I am a NotePad\\n', 'Hello World I am a NotePad\\n', 'Hello World I am a NotePad\\n', 'Hello World I am a NotePad\\n', 'Hello World I am a NotePad\\n', 'Hello World I am a NotePad\\n', 'Hello World I am a NotePad\\n', 'Hello World I am a NotePad\\n', 'Hello World I am a NotePad\\n', 'Hello World I am a NotePad\\n', 'Hello World I am a NotePad\\n', 'Hello World I am a NotePad\\n', 'Hello World I am a NotePad\\n', 'Hello World I am a NotePad\\n', 'Hello World I am a NotePad\\n', 'Hello World I am a NotePad\\n', 'Hello World I am a NotePad\\n', 'Hello World I am a NotePad\\n', 'Hello World I am a NotePad\\n', 'Hello World I am a NotePad\\n', 'Hello World I am a NotePad\\n', 'Hello World I am a NotePad\\n', 'Hello World I am a NotePad\\n', 'Hello World I am a NotePad\\n', 'Hello World I am a NotePad\\n', 'Hello World I am a NotePad\\n', 'Hello World I am a NotePad\\n', 'Hello World I am a NotePad\\n', 'Hello World I am a NotePad\\n', 'Hello World I am a NotePad\\n', 'Hello World I am a NotePad\\n', 'Hello World I am a NotePad\\n', 'Hello World I am a NotePad\\n', 'Hello World I am a NotePad\\n', 'Hello World I am a NotePad\\n', 'Hello World I am a NotePad\\n', 'Hello World I am a NotePad\\n', 'Hello World I am a NotePad\\n', 'Hello World I am a NotePad\\n', 'Hello World I am a NotePad\\n', 'Hello World I am a NotePad\\n', 'Hello World I am a NotePad\\n', 'Hello World I am a NotePad\\n', 'Hello World I am a NotePad\\n', 'Hello World I am a NotePad\\n', 'Hello World I am a NotePad\\n', 'Hello World I am a NotePad\\n', 'Hello World I am a NotePad\\n', 'Hello World I am a NotePad\\n', 'Hello World I am a NotePad\\n', 'Hello World I am a NotePad\\n', 'Hello World I am a NotePad\\n', 'Hello World I am a NotePad\\n', 'Hello World I am a NotePad\\n', 'Hello World I am a NotePad\\n', 'Hello World I am a NotePad\\n', 'Hello World I am a NotePad\\n', 'Hello World I am a NotePad\\n', 'Hello World I am a NotePad\\n', 'Hello World I am a NotePad\\n', 'Hello World I am a NotePad\\n', 'Hello World I am a NotePad\\n', 'Hello World I am a NotePad\\n', 'Hello World I am a NotePad\\n', 'Hello World I am a NotePad\\n', 'Hello World I am a NotePad\\n', 'Hello World I am a NotePad\\n', 'Hello World I am a NotePad\\n', 'Hello World I am a NotePad\\n', 'Hello World I am a NotePad\\n', 'Hello World I am a NotePad\\n', 'Hello World I am a NotePad\\n', 'Hello World I am a NotePad\\n', 'Hello World I am a NotePad\\n', 'Hello World I am a NotePad\\n', 'Hello World I am a NotePad\\n', 'Hello World I am a NotePad\\n', 'Hello World I am a NotePad\\n', 'Hello World I am a NotePad\\n', 'Hello World I am a NotePad\\n', 'Hello World I am a NotePad\\n', 'Hello World I am a NotePad\\n', 'Hello World I am a NotePad\\n', 'Hello World I am a NotePad\\n', 'Hello World I am a NotePad\\n', 'Hello World I am a NotePad\\n', 'Hello World I am a NotePad\\n', 'Hello World I am a NotePad\\n', 'Hello World I am a NotePad\\n', 'Hello World I am a NotePad\\n', 'Hello World I am a NotePad\\n', 'Hello World I am a NotePad\\n', 'Hello World I am a NotePad\\n', 'Hello World I am a NotePad\\n', 'Hello World I am a NotePad\\n', 'Hello World I am a NotePad\\n', 'Hello World I am a NotePad\\n', 'Hello World I am a NotePad\\n', 'Hello World I am a NotePad\\n', 'Hello World I am a NotePad\\n', 'Hello World I am a NotePad\\n', 'Hello World I am a NotePad\\n', 'Hello World I am a NotePad\\n', 'Hello World I am a NotePad\\n', 'Hello World I am a NotePad\\n', 'Hello World I am a NotePad\\n', 'Hello World I am a NotePad\\n', 'Hello World I am a NotePad\\n', 'Hello World I am a NotePad\\n', 'Hello World I am a NotePad\\n', 'Hello World I am a NotePad\\n', 'Hello World I am a NotePad\\n', 'Hello World I am a NotePad\\n', 'Hello World I am a NotePad\\n', 'Hello World I am a NotePad\\n', 'Hello World I am a NotePad\\n', 'Hello World I am a NotePad\\n', 'Hello World I am a NotePad\\n', 'Hello World I am a NotePad\\n', 'Hello World I am a NotePad\\n', 'Hello World I am a NotePad\\n', 'Hello World I am a NotePad\\n', 'Hello World I am a NotePad\\n', 'Hello World I am a NotePad\\n', 'Hello World I am a NotePad\\n', 'Hello World I am a NotePad\\n', 'Hello World I am a NotePad\\n', 'Hello World I am a NotePad\\n', 'Hello World I am a NotePad\\n', 'Hello World I am a NotePad\\n', 'Hello World I am a NotePad\\n', 'Hello World I am a NotePad\\n', 'Hello World I am a NotePad\\n', 'Hello World I am a NotePad\\n', 'Hello World I am a NotePad\\n', 'Hello World I am a NotePad\\n', 'Hello World I am a NotePad\\n', 'Hello World I am a NotePad\\n', 'Hello World I am a NotePad\\n', 'Hello World I am a NotePad\\n', 'Hello World I am a NotePad\\n', 'Hello World I am a NotePad\\n', 'Hello World I am a NotePad\\n', 'Hello World I am a NotePad\\n', 'Hello World I am a NotePad\\n', 'Hello World I am a NotePad\\n', 'Hello World I am a NotePad\\n', 'Hello World I am a NotePad\\n', 'Hello World I am a NotePad\\n', 'Hello World I am a NotePad\\n', 'Hello World I am a NotePad\\n', 'Hello World I am a NotePad\\n', 'Hello World I am a NotePad\\n', 'Hello World I am a NotePad\\n', 'Hello World I am a NotePad\\n', 'Hello World I am a NotePad\\n', 'Hello World I am a NotePad\\n', 'Hello World I am a NotePad\\n', 'Hello World I am a NotePad\\n', 'Hello World I am a NotePad\\n', 'Hello World I am a NotePad\\n', 'Hello World I am a NotePad\\n', 'Hello World I am a NotePad\\n', 'Hello World I am a NotePad\\n', 'Hello World I am a NotePad\\n', 'Hello World I am a NotePad\\n', 'Hello World I am a NotePad\\n', 'Hello World I am a NotePad\\n', 'Hello World I am a NotePad\\n', 'Hello World I am a NotePad\\n', 'Hello World I am a NotePad\\n', 'Hello World I am a NotePad\\n', 'Hello World I am a NotePad\\n', 'Hello World I am a NotePad\\n', 'Hello World I am a NotePad\\n', 'Hello World I am a NotePad\\n', 'Hello World I am a NotePad\\n', 'Hello World I am a NotePad\\n', 'Hello World I am a NotePad\\n', 'Hello World I am a NotePad\\n', 'Hello World I am a NotePad\\n', 'Hello World I am a NotePad\\n', 'Hello World I am a NotePad\\n', 'Hello World I am a NotePad\\n', 'Hello World I am a NotePad\\n', 'Hello World I am a NotePad\\n', 'Hello World I am a NotePad\\n', 'Hello World I am a NotePad\\n', 'Hello World I am a NotePad\\n', 'Hello World I am a NotePad\\n', 'Hello World I am a NotePad\\n', 'Hello World I am a NotePad\\n', 'Hello World I am a NotePad\\n', 'Hello World I am a NotePad\\n', 'Hello World I am a NotePad\\n', 'Hello World I am a NotePad\\n', 'Hello World I am a NotePad\\n', 'Hello World I am a NotePad\\n', 'Hello World I am a NotePad\\n', 'Hello World I am a NotePad\\n', 'Hello World I am a NotePad\\n', 'Hello World I am a NotePad\\n', 'Hello World I am a NotePad\\n', 'Hello World I am a NotePad\\n', 'Hello World I am a NotePad\\n', 'Hello World I am a NotePad\\n', 'Hello World I am a NotePad\\n', 'Hello World I am a NotePad\\n', 'Hello World I am a NotePad\\n', 'Hello World I am a NotePad\\n', 'Hello World I am a NotePad\\n', 'Hello World I am a NotePad\\n', 'Hello World I am a NotePad\\n', 'Hello World I am a NotePad\\n', 'Hello World I am a NotePad\\n', 'Hello World I am a NotePad\\n', 'Hello World I am a NotePad\\n', 'Hello World I am a NotePad\\n', 'Hello World I am a NotePad\\n', 'Hello World I am a NotePad\\n', 'Hello World I am a NotePad\\n', 'Hello World I am a NotePad\\n', 'Hello World I am a NotePad\\n', 'Hello World I am a NotePad\\n', 'Hello World I am a NotePad\\n', 'Hello World I am a NotePad\\n', 'Hello World I am a NotePad\\n', 'Hello World I am a NotePad\\n', 'Hello World I am a NotePad\\n', 'Hello World I am a NotePad\\n', 'Hello World I am a NotePad\\n', 'Hello World I am a NotePad\\n', 'Hello World I am a NotePad\\n', 'Hello World I am a NotePad\\n', 'Hello World I am a NotePad\\n', 'Hello World I am a NotePad\\n', 'Hello World I am a NotePad\\n', 'Hello World I am a NotePad\\n', 'Hello World I am a NotePad\\n', 'Hello World I am a NotePad\\n', 'Hello World I am a NotePad\\n', 'Hello World I am a NotePad\\n', 'Hello World I am a NotePad\\n', 'Hello World I am a NotePad\\n', 'Hello World I am a NotePad\\n', 'Hello World I am a NotePad\\n', 'Hello World I am a NotePad\\n', 'Hello World I am a NotePad\\n', 'Hello World I am a NotePad\\n', 'Hello World I am a NotePad\\n', 'Hello World I am a NotePad\\n', 'Hello World I am a NotePad\\n', 'Hello World I am a NotePad\\n', 'Hello World I am a NotePad\\n', 'Hello World I am a NotePad\\n', 'Hello World I am a NotePad\\n', 'Hello World I am a NotePad\\n', 'Hello World I am a NotePad\\n', 'Hello World I am a NotePad\\n', 'Hello World I am a NotePad\\n', 'Hello World I am a NotePad\\n', 'Hello World I am a NotePad\\n', 'Hello World I am a NotePad\\n', 'Hello World I am a NotePad\\n', 'Hello World I am a NotePad\\n', 'Hello World I am a NotePad\\n', 'Hello World I am a NotePad\\n', 'Hello World I am a NotePad\\n', 'Hello World I am a NotePad\\n', 'Hello World I am a NotePad\\n', 'Hello World I am a NotePad\\n', 'Hello World I am a NotePad\\n', 'Hello World I am a NotePad\\n', 'Hello World I am a NotePad\\n', 'Hello World I am a NotePad\\n', 'Hello World I am a NotePad\\n', 'Hello World I am a NotePad\\n', 'Hello World I am a NotePad\\n', 'Hello World I am a NotePad\\n', 'Hello World I am a NotePad\\n', 'Hello World I am a NotePad\\n', 'Hello World I am a NotePad\\n', 'Hello World I am a NotePad\\n', 'Hello World I am a NotePad\\n', 'Hello World I am a NotePad\\n', 'Hello World I am a NotePad\\n', 'Hello World I am a NotePad\\n', 'Hello World I am a NotePad\\n', 'Hello World I am a NotePad\\n', 'Hello World I am a NotePad\\n', 'Hello World I am a NotePad\\n', 'Hello World I am a NotePad\\n', 'Hello World I am a NotePad\\n', 'Hello World I am a NotePad\\n', 'Hello World I am a NotePad\\n', 'Hello World I am a NotePad\\n', 'Hello World I am a NotePad\\n', 'Hello World I am a NotePad\\n', 'Hello World I am a NotePad\\n', 'Hello World I am a NotePad\\n', 'Hello World I am a NotePad\\n', 'Hello World I am a NotePad\\n', 'Hello World I am a NotePad\\n', 'Hello World I am a NotePad\\n', 'Hello World I am a NotePad\\n', 'Hello World I am a NotePad\\n', 'Hello World I am a NotePad\\n', 'Hello World I am a NotePad\\n', 'Hello World I am a NotePad\\n', 'Hello World I am a NotePad\\n', 'Hello World I am a NotePad\\n', 'Hello World I am a NotePad\\n', 'Hello World I am a NotePad\\n', 'Hello World I am a NotePad\\n', 'Hello World I am a NotePad\\n', 'Hello World I am a NotePad\\n', 'Hello World I am a NotePad\\n', 'Hello World I am a NotePad\\n', 'Hello World I am a NotePad\\n', 'Hello World I am a NotePad\\n', 'Hello World I am a NotePad\\n', 'Hello World I am a NotePad\\n', 'Hello World I am a NotePad\\n', 'Hello World I am a NotePad\\n', 'Hello World I am a NotePad\\n', 'Hello World I am a NotePad\\n', 'Hello World I am a NotePad\\n', 'Hello World I am a NotePad\\n', 'Hello World I am a NotePad\\n', 'Hello World I am a NotePad\\n', 'Hello World I am a NotePad\\n', 'Hello World I am a NotePad\\n', 'Hello World I am a NotePad\\n', 'Hello World I am a NotePad\\n', 'Hello World I am a NotePad\\n', 'Hello World I am a NotePad\\n', 'Hello World I am a NotePad\\n', 'Hello World I am a NotePad\\n', 'Hello World I am a NotePad\\n', 'Hello World I am a NotePad\\n', 'Hello World I am a NotePad\\n', 'Hello World I am a NotePad\\n', 'Hello World I am a NotePad\\n', 'Hello World I am a NotePad\\n', 'Hello World I am a NotePad\\n', 'Hello World I am a NotePad\\n', 'Hello World I am a NotePad\\n', 'Hello World I am a NotePad\\n', 'Hello World I am a NotePad\\n', 'Hello World I am a NotePad\\n', 'Hello World I am a NotePad\\n', 'Hello World I am a NotePad\\n', 'Hello World I am a NotePad\\n', 'Hello World I am a NotePad\\n', 'Hello World I am a NotePad\\n', 'Hello World I am a NotePad\\n', 'Hello World I am a NotePad\\n', 'Hello World I am a NotePad\\n', 'Hello World I am a NotePad\\n', 'Hello World I am a NotePad\\n', 'Hello World I am a NotePad\\n', 'Hello World I am a NotePad\\n', 'Hello World I am a NotePad\\n', 'Hello World I am a NotePad\\n', 'Hello World I am a Notepad\\n', 'Hello World I am a NotePad\\n', 'Hello World I am a NotePad\\n', 'Hello World I am a NotePad\\n', 'Hello World I am a NotePad\\n', 'Hello World I am a NotePad\\n', 'Hello World I am a NotePad\\n', 'Hello World I am a NotePad\\n', 'Hello World I am a NotePad\\n', 'Hello World I am a NotePad\\n', 'Hello World I am a NotePad\\n', 'Hello World I am a NotePad\\n', 'Hello World I am a NotePad\\n', 'Hello World I am a NotePad\\n', 'Hello World I am a NotePad\\n', 'Hello World I am a NotePad\\n', 'Hello World I am a NotePad\\n', 'Hello World I am a NotePad']\n"
     ]
    }
   ],
   "source": [
    "#Input\n",
    "with open(\"./test1.txt\",\"r+\") as f :\n",
    "    content = f.readlines()\n",
    "    print(content)"
   ]
  },
  {
   "cell_type": "code",
   "execution_count": 48,
   "id": "9e41f681",
   "metadata": {},
   "outputs": [],
   "source": [
    "with open(\"./test1.txt\",\"r+\") as f , open(\"./temp.txt\",\"w+\") as temp:\n",
    "    for i in f:\n",
    "        temp.write(i.replace(\"error\",\"warning\"))\n",
    "    f.seek(0)\n",
    "    temp.seek(0)\n",
    "    for j in temp:\n",
    "        f.write(j)\n",
    "    temp.seek(0)\n",
    "    temp.truncate()\n"
   ]
  },
  {
   "cell_type": "markdown",
   "id": "ef083972",
   "metadata": {},
   "source": [
    "4. Create a Program that:\n",
    "    1. Opens any Binary file(eg an image) in rb mode\n",
    "    2. Reads the first 64bytes and prints themin hexidecimal format along with their file pointer positions(tell())\n",
    "    3.Then jumps (seek()) to the last 32 bytes of the file and prints them too\n"
   ]
  },
  {
   "cell_type": "code",
   "execution_count": 61,
   "id": "566ff297",
   "metadata": {},
   "outputs": [
    {
     "name": "stdout",
     "output_type": "stream",
     "text": [
      "Position1 :ff\n",
      "Position2 :d8\n",
      "Position3 :ff\n",
      "Position4 :e0\n",
      "Position5 :00\n",
      "Position6 :10\n",
      "Position7 :4a\n",
      "Position8 :46\n",
      "Position9 :49\n",
      "Position10 :46\n",
      "Position11 :00\n",
      "Position12 :01\n",
      "Position13 :01\n",
      "Position14 :00\n",
      "Position15 :00\n",
      "Position16 :01\n",
      "Position17 :00\n",
      "Position18 :01\n",
      "Position19 :00\n",
      "Position20 :00\n",
      "Position21 :ff\n",
      "Position22 :fe\n",
      "Position23 :00\n",
      "Position24 :3b\n",
      "Position25 :43\n",
      "Position26 :52\n",
      "Position27 :45\n",
      "Position28 :41\n",
      "Position29 :54\n",
      "Position30 :4f\n",
      "Position31 :52\n",
      "Position32 :3a\n",
      "Position33 :20\n",
      "Position34 :67\n",
      "Position35 :64\n",
      "Position36 :2d\n",
      "Position37 :6a\n",
      "Position38 :70\n",
      "Position39 :65\n",
      "Position40 :67\n",
      "Position41 :20\n",
      "Position42 :76\n",
      "Position43 :31\n",
      "Position44 :2e\n",
      "Position45 :30\n",
      "Position46 :20\n",
      "Position47 :28\n",
      "Position48 :75\n",
      "Position49 :73\n",
      "Position50 :69\n",
      "Position51 :6e\n",
      "Position52 :67\n",
      "Position53 :20\n",
      "Position54 :49\n",
      "Position55 :4a\n",
      "Position56 :47\n",
      "Position57 :20\n",
      "Position58 :4a\n",
      "Position59 :50\n",
      "Position60 :45\n",
      "Position61 :47\n",
      "Position62 :20\n",
      "Position63 :76\n",
      "Position64 :36\n"
     ]
    }
   ],
   "source": [
    "with open(\"./R.jpg\",\"rb\") as img:\n",
    "    for i in range(64):\n",
    "        byte = img.read(1)\n",
    "        print(f\"Position{img.tell()} :{byte.hex()}\")"
   ]
  },
  {
   "cell_type": "markdown",
   "id": "262fed67",
   "metadata": {},
   "source": [
    "12. A text file contains 100 integers separated by spaces. \n",
    "• Read the numbers into a NumPy array. \n",
    "• Reshape the array into 10x10. \n",
    "• Find the row with the maximum sum and print it"
   ]
  },
  {
   "cell_type": "code",
   "execution_count": 78,
   "id": "bc451e0c",
   "metadata": {},
   "outputs": [
    {
     "name": "stdout",
     "output_type": "stream",
     "text": [
      "[1, 2, 3, 4, 5, 6, 7, 8, 9, 10, 11, 12, 13, 14, 15, 16, 17, 18, 19, 20, 21, 22, 23, 24, 25, 26, 27, 28, 29, 30, 31, 32, 33, 34, 35, 36, 37, 38, 39, 40, 41, 42, 43, 44, 45, 46, 47, 48, 49, 50, 51, 52, 53, 54, 55, 56, 57, 58, 59, 60, 61, 62, 63, 64, 65, 66, 67, 68, 69, 70, 71, 72, 73, 74, 75, 76, 77, 78, 79, 80, 81, 82, 83, 84, 85, 86, 87, 88, 89, 90, 91, 92, 93, 94, 95, 96, 97, 98, 99, 100]\n",
      "The maximum sum row is [ 91  92  93  94  95  96  97  98  99 100] And sum of them is 955\n"
     ]
    }
   ],
   "source": [
    "import numpy as np\n",
    "with open(\"./12Question.txt\",\"r\") as data:\n",
    "    numbers = data.read().split()\n",
    "    numbers = [int(i) for i in numbers]\n",
    "print(numbers)\n",
    "\n",
    "data = np.array(numbers).reshape(10,10)\n",
    "maxsum = 0\n",
    "row =0\n",
    "for i in range(10):\n",
    "    if maxsum < data[i].sum():\n",
    "        maxsum = data[i].sum()\n",
    "        row = i\n",
    "\n",
    "print(f\"The maximum sum row is {data[row]} And sum of them is {maxsum}\")"
   ]
  },
  {
   "cell_type": "markdown",
   "id": "7cee0029",
   "metadata": {},
   "source": [
    "***11. Create a 7x7 matrix filled with ones. - Change the border elements to 0. - Change the \n",
    "center element to 9.***"
   ]
  },
  {
   "cell_type": "code",
   "execution_count": 86,
   "id": "1ce25665",
   "metadata": {},
   "outputs": [
    {
     "data": {
      "text/plain": [
       "array([[1., 1., 1., 1., 1., 1., 1., 1., 1.],\n",
       "       [1., 1., 1., 1., 1., 1., 1., 1., 1.],\n",
       "       [1., 1., 1., 1., 1., 1., 1., 1., 1.],\n",
       "       [1., 1., 1., 1., 1., 1., 1., 1., 1.],\n",
       "       [1., 1., 1., 1., 1., 1., 1., 1., 1.],\n",
       "       [1., 1., 1., 1., 1., 1., 1., 1., 1.],\n",
       "       [1., 1., 1., 1., 1., 1., 1., 1., 1.],\n",
       "       [1., 1., 1., 1., 1., 1., 1., 1., 1.],\n",
       "       [1., 1., 1., 1., 1., 1., 1., 1., 1.]])"
      ]
     },
     "execution_count": 86,
     "metadata": {},
     "output_type": "execute_result"
    }
   ],
   "source": [
    "x = np.ones((9,9))\n",
    "x"
   ]
  },
  {
   "cell_type": "code",
   "execution_count": 92,
   "id": "e5e245f5",
   "metadata": {},
   "outputs": [
    {
     "data": {
      "text/plain": [
       "array([[0., 0., 0., 0., 0., 0., 0., 0., 0.],\n",
       "       [0., 1., 1., 1., 1., 1., 1., 1., 0.],\n",
       "       [0., 1., 1., 1., 1., 1., 1., 1., 0.],\n",
       "       [0., 1., 1., 1., 1., 1., 1., 1., 0.],\n",
       "       [0., 1., 1., 1., 1., 1., 1., 1., 0.],\n",
       "       [0., 1., 1., 1., 1., 1., 1., 1., 0.],\n",
       "       [0., 1., 1., 1., 1., 1., 1., 1., 0.],\n",
       "       [0., 1., 1., 1., 1., 1., 1., 1., 0.],\n",
       "       [0., 0., 0., 0., 0., 0., 0., 0., 0.]])"
      ]
     },
     "execution_count": 92,
     "metadata": {},
     "output_type": "execute_result"
    }
   ],
   "source": [
    "x[:,0]=0\n",
    "x[0,:]=0\n",
    "x[-1,:]=0\n",
    "x[:,-1]=0\n",
    "x"
   ]
  },
  {
   "cell_type": "code",
   "execution_count": 98,
   "id": "10ce6514",
   "metadata": {},
   "outputs": [
    {
     "data": {
      "text/plain": [
       "(4, 4)"
      ]
     },
     "execution_count": 98,
     "metadata": {},
     "output_type": "execute_result"
    }
   ],
   "source": [
    "centre_row = x.shape[0]//2\n",
    "centre_column = x.shape[1]//2\n",
    "x[centre_row,centre_column]=9\n",
    "centre_row , centre_column"
   ]
  },
  {
   "cell_type": "code",
   "execution_count": 99,
   "id": "791a950b",
   "metadata": {},
   "outputs": [
    {
     "data": {
      "text/plain": [
       "array([[0., 0., 0., 0., 0., 0., 0., 0., 0.],\n",
       "       [0., 1., 1., 1., 1., 1., 1., 1., 0.],\n",
       "       [0., 1., 1., 1., 1., 1., 1., 1., 0.],\n",
       "       [0., 1., 1., 1., 1., 1., 1., 1., 0.],\n",
       "       [0., 1., 1., 1., 9., 1., 1., 1., 0.],\n",
       "       [0., 1., 1., 1., 1., 1., 1., 1., 0.],\n",
       "       [0., 1., 1., 1., 1., 1., 1., 1., 0.],\n",
       "       [0., 1., 1., 1., 1., 1., 1., 1., 0.],\n",
       "       [0., 0., 0., 0., 0., 0., 0., 0., 0.]])"
      ]
     },
     "execution_count": 99,
     "metadata": {},
     "output_type": "execute_result"
    }
   ],
   "source": [
    "x"
   ]
  },
  {
   "cell_type": "markdown",
   "id": "144b8b98",
   "metadata": {},
   "source": [
    "***9.Create two arrays: A = np.arange(1, 10).reshape(3,3) B = np.ones((3,3), dtype=int) * 5 - \n",
    "Perform element-wise addition, subtraction, multiplication, and division. - Compare A \n",
    "and B to return a Boolean mask of where elements of A are greater than B***"
   ]
  },
  {
   "cell_type": "code",
   "execution_count": 101,
   "id": "c8b13b39",
   "metadata": {},
   "outputs": [
    {
     "data": {
      "text/plain": [
       "(array([[1, 2, 3],\n",
       "        [4, 5, 6],\n",
       "        [7, 8, 9]]),\n",
       " array([[5, 5, 5],\n",
       "        [5, 5, 5],\n",
       "        [5, 5, 5]]))"
      ]
     },
     "execution_count": 101,
     "metadata": {},
     "output_type": "execute_result"
    }
   ],
   "source": [
    "A = np.arange(1, 10).reshape(3,3)\n",
    "B = np.ones((3,3), dtype=int) * 5\n",
    "A,B"
   ]
  },
  {
   "cell_type": "code",
   "execution_count": null,
   "id": "3d39682e",
   "metadata": {},
   "outputs": [],
   "source": []
  }
 ],
 "metadata": {
  "kernelspec": {
   "display_name": "Python 3",
   "language": "python",
   "name": "python3"
  },
  "language_info": {
   "codemirror_mode": {
    "name": "ipython",
    "version": 3
   },
   "file_extension": ".py",
   "mimetype": "text/x-python",
   "name": "python",
   "nbconvert_exporter": "python",
   "pygments_lexer": "ipython3",
   "version": "3.13.5"
  }
 },
 "nbformat": 4,
 "nbformat_minor": 5
}
