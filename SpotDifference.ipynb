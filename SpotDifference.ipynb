{
 "cells": [
  {
   "cell_type": "code",
   "execution_count": 8,
   "id": "a18b8ee5",
   "metadata": {},
   "outputs": [
    {
     "name": "stdout",
     "output_type": "stream",
     "text": [
      "Defaulting to user installation because normal site-packages is not writeable\n",
      "Collecting pymupdf\n",
      "  Downloading pymupdf-1.26.4-cp39-abi3-win_amd64.whl.metadata (3.4 kB)\n",
      "Downloading pymupdf-1.26.4-cp39-abi3-win_amd64.whl (18.7 MB)\n",
      "   ---------------------------------------- 0.0/18.7 MB ? eta -:--:--\n",
      "   --- ------------------------------------ 1.6/18.7 MB 14.9 MB/s eta 0:00:02\n",
      "   ------------- -------------------------- 6.6/18.7 MB 20.4 MB/s eta 0:00:01\n",
      "   ------------------------ --------------- 11.5/18.7 MB 21.7 MB/s eta 0:00:01\n",
      "   ------------------------------- -------- 14.9/18.7 MB 20.3 MB/s eta 0:00:01\n",
      "   ---------------------------------------  18.6/18.7 MB 20.6 MB/s eta 0:00:01\n",
      "   ---------------------------------------- 18.7/18.7 MB 19.7 MB/s eta 0:00:00\n",
      "Installing collected packages: pymupdf\n",
      "Successfully installed pymupdf-1.26.4\n"
     ]
    },
    {
     "name": "stderr",
     "output_type": "stream",
     "text": [
      "\n",
      "[notice] A new release of pip is available: 25.1.1 -> 25.2\n",
      "[notice] To update, run: python.exe -m pip install --upgrade pip\n"
     ]
    }
   ],
   "source": [
    "!pip install pymupdf\n"
   ]
  },
  {
   "cell_type": "code",
   "execution_count": 9,
   "id": "ba53d47f",
   "metadata": {},
   "outputs": [],
   "source": [
    "import fitz"
   ]
  },
  {
   "cell_type": "markdown",
   "id": "889f7f77",
   "metadata": {},
   "source": [
    "**Converting Pdf To Images**"
   ]
  },
  {
   "cell_type": "code",
   "execution_count": 11,
   "id": "11ceba3e",
   "metadata": {},
   "outputs": [
    {
     "name": "stdout",
     "output_type": "stream",
     "text": [
      "COPGD835-51-1-MNP-2050 1.pdf converted to COPGD835-51-1-MNP-2050 1.png successfully!\n",
      "COPGD835-51-1-MNP-2050.pdf converted to COPGD835-51-1-MNP-2050.png successfully!\n"
     ]
    }
   ],
   "source": [
    "import fitz  # PyMuPDF\n",
    "import os\n",
    "\n",
    "# List of your PDF files\n",
    "pdf_files = [\"COPGD835-51-1-MNP-2050 1.pdf\", \"COPGD835-51-1-MNP-2050.pdf\"]\n",
    "\n",
    "for pdf_path in pdf_files:\n",
    "    doc = fitz.open(pdf_path)\n",
    "    page = doc[0]  # first (and only) page\n",
    "    pix = page.get_pixmap(dpi=300)\n",
    "\n",
    "    # Get filename without extension\n",
    "    base_name = os.path.splitext(pdf_path)[0]\n",
    "\n",
    "    # Save image with same name as PDF\n",
    "    image_name = f\"{base_name}.png\"\n",
    "    pix.save(image_name)\n",
    "\n",
    "    print(f\"{pdf_path} converted to {image_name} successfully!\")\n"
   ]
  },
  {
   "cell_type": "code",
   "execution_count": 15,
   "id": "a2fc94b7",
   "metadata": {},
   "outputs": [
    {
     "ename": "TesseractNotFoundError",
     "evalue": "C:/Users/122328/AppData/Local/Programs/Tesseract-OCR is not installed or it's not in your PATH. See README file for more information.",
     "output_type": "error",
     "traceback": [
      "\u001b[31m---------------------------------------------------------------------------\u001b[39m",
      "\u001b[31mPermissionError\u001b[39m                           Traceback (most recent call last)",
      "\u001b[36mFile \u001b[39m\u001b[32m~\\AppData\\Roaming\\Python\\Python313\\site-packages\\pytesseract\\pytesseract.py:451\u001b[39m, in \u001b[36mget_tesseract_version\u001b[39m\u001b[34m()\u001b[39m\n\u001b[32m    450\u001b[39m \u001b[38;5;28;01mtry\u001b[39;00m:\n\u001b[32m--> \u001b[39m\u001b[32m451\u001b[39m     output = \u001b[43msubprocess\u001b[49m\u001b[43m.\u001b[49m\u001b[43mcheck_output\u001b[49m\u001b[43m(\u001b[49m\n\u001b[32m    452\u001b[39m \u001b[43m        \u001b[49m\u001b[43m[\u001b[49m\u001b[43mtesseract_cmd\u001b[49m\u001b[43m,\u001b[49m\u001b[43m \u001b[49m\u001b[33;43m'\u001b[39;49m\u001b[33;43m--version\u001b[39;49m\u001b[33;43m'\u001b[39;49m\u001b[43m]\u001b[49m\u001b[43m,\u001b[49m\n\u001b[32m    453\u001b[39m \u001b[43m        \u001b[49m\u001b[43mstderr\u001b[49m\u001b[43m=\u001b[49m\u001b[43msubprocess\u001b[49m\u001b[43m.\u001b[49m\u001b[43mSTDOUT\u001b[49m\u001b[43m,\u001b[49m\n\u001b[32m    454\u001b[39m \u001b[43m        \u001b[49m\u001b[43menv\u001b[49m\u001b[43m=\u001b[49m\u001b[43menviron\u001b[49m\u001b[43m,\u001b[49m\n\u001b[32m    455\u001b[39m \u001b[43m        \u001b[49m\u001b[43mstdin\u001b[49m\u001b[43m=\u001b[49m\u001b[43msubprocess\u001b[49m\u001b[43m.\u001b[49m\u001b[43mDEVNULL\u001b[49m\u001b[43m,\u001b[49m\n\u001b[32m    456\u001b[39m \u001b[43m    \u001b[49m\u001b[43m)\u001b[49m\n\u001b[32m    457\u001b[39m \u001b[38;5;28;01mexcept\u001b[39;00m \u001b[38;5;167;01mOSError\u001b[39;00m:\n",
      "\u001b[36mFile \u001b[39m\u001b[32mc:\\Program Files\\Python313\\Lib\\subprocess.py:472\u001b[39m, in \u001b[36mcheck_output\u001b[39m\u001b[34m(timeout, *popenargs, **kwargs)\u001b[39m\n\u001b[32m    470\u001b[39m     kwargs[\u001b[33m'\u001b[39m\u001b[33minput\u001b[39m\u001b[33m'\u001b[39m] = empty\n\u001b[32m--> \u001b[39m\u001b[32m472\u001b[39m \u001b[38;5;28;01mreturn\u001b[39;00m \u001b[43mrun\u001b[49m\u001b[43m(\u001b[49m\u001b[43m*\u001b[49m\u001b[43mpopenargs\u001b[49m\u001b[43m,\u001b[49m\u001b[43m \u001b[49m\u001b[43mstdout\u001b[49m\u001b[43m=\u001b[49m\u001b[43mPIPE\u001b[49m\u001b[43m,\u001b[49m\u001b[43m \u001b[49m\u001b[43mtimeout\u001b[49m\u001b[43m=\u001b[49m\u001b[43mtimeout\u001b[49m\u001b[43m,\u001b[49m\u001b[43m \u001b[49m\u001b[43mcheck\u001b[49m\u001b[43m=\u001b[49m\u001b[38;5;28;43;01mTrue\u001b[39;49;00m\u001b[43m,\u001b[49m\n\u001b[32m    473\u001b[39m \u001b[43m           \u001b[49m\u001b[43m*\u001b[49m\u001b[43m*\u001b[49m\u001b[43mkwargs\u001b[49m\u001b[43m)\u001b[49m.stdout\n",
      "\u001b[36mFile \u001b[39m\u001b[32mc:\\Program Files\\Python313\\Lib\\subprocess.py:554\u001b[39m, in \u001b[36mrun\u001b[39m\u001b[34m(input, capture_output, timeout, check, *popenargs, **kwargs)\u001b[39m\n\u001b[32m    552\u001b[39m     kwargs[\u001b[33m'\u001b[39m\u001b[33mstderr\u001b[39m\u001b[33m'\u001b[39m] = PIPE\n\u001b[32m--> \u001b[39m\u001b[32m554\u001b[39m \u001b[38;5;28;01mwith\u001b[39;00m \u001b[43mPopen\u001b[49m\u001b[43m(\u001b[49m\u001b[43m*\u001b[49m\u001b[43mpopenargs\u001b[49m\u001b[43m,\u001b[49m\u001b[43m \u001b[49m\u001b[43m*\u001b[49m\u001b[43m*\u001b[49m\u001b[43mkwargs\u001b[49m\u001b[43m)\u001b[49m \u001b[38;5;28;01mas\u001b[39;00m process:\n\u001b[32m    555\u001b[39m     \u001b[38;5;28;01mtry\u001b[39;00m:\n",
      "\u001b[36mFile \u001b[39m\u001b[32mc:\\Program Files\\Python313\\Lib\\subprocess.py:1039\u001b[39m, in \u001b[36mPopen.__init__\u001b[39m\u001b[34m(self, args, bufsize, executable, stdin, stdout, stderr, preexec_fn, close_fds, shell, cwd, env, universal_newlines, startupinfo, creationflags, restore_signals, start_new_session, pass_fds, user, group, extra_groups, encoding, errors, text, umask, pipesize, process_group)\u001b[39m\n\u001b[32m   1036\u001b[39m             \u001b[38;5;28mself\u001b[39m.stderr = io.TextIOWrapper(\u001b[38;5;28mself\u001b[39m.stderr,\n\u001b[32m   1037\u001b[39m                     encoding=encoding, errors=errors)\n\u001b[32m-> \u001b[39m\u001b[32m1039\u001b[39m     \u001b[38;5;28;43mself\u001b[39;49m\u001b[43m.\u001b[49m\u001b[43m_execute_child\u001b[49m\u001b[43m(\u001b[49m\u001b[43margs\u001b[49m\u001b[43m,\u001b[49m\u001b[43m \u001b[49m\u001b[43mexecutable\u001b[49m\u001b[43m,\u001b[49m\u001b[43m \u001b[49m\u001b[43mpreexec_fn\u001b[49m\u001b[43m,\u001b[49m\u001b[43m \u001b[49m\u001b[43mclose_fds\u001b[49m\u001b[43m,\u001b[49m\n\u001b[32m   1040\u001b[39m \u001b[43m                        \u001b[49m\u001b[43mpass_fds\u001b[49m\u001b[43m,\u001b[49m\u001b[43m \u001b[49m\u001b[43mcwd\u001b[49m\u001b[43m,\u001b[49m\u001b[43m \u001b[49m\u001b[43menv\u001b[49m\u001b[43m,\u001b[49m\n\u001b[32m   1041\u001b[39m \u001b[43m                        \u001b[49m\u001b[43mstartupinfo\u001b[49m\u001b[43m,\u001b[49m\u001b[43m \u001b[49m\u001b[43mcreationflags\u001b[49m\u001b[43m,\u001b[49m\u001b[43m \u001b[49m\u001b[43mshell\u001b[49m\u001b[43m,\u001b[49m\n\u001b[32m   1042\u001b[39m \u001b[43m                        \u001b[49m\u001b[43mp2cread\u001b[49m\u001b[43m,\u001b[49m\u001b[43m \u001b[49m\u001b[43mp2cwrite\u001b[49m\u001b[43m,\u001b[49m\n\u001b[32m   1043\u001b[39m \u001b[43m                        \u001b[49m\u001b[43mc2pread\u001b[49m\u001b[43m,\u001b[49m\u001b[43m \u001b[49m\u001b[43mc2pwrite\u001b[49m\u001b[43m,\u001b[49m\n\u001b[32m   1044\u001b[39m \u001b[43m                        \u001b[49m\u001b[43merrread\u001b[49m\u001b[43m,\u001b[49m\u001b[43m \u001b[49m\u001b[43merrwrite\u001b[49m\u001b[43m,\u001b[49m\n\u001b[32m   1045\u001b[39m \u001b[43m                        \u001b[49m\u001b[43mrestore_signals\u001b[49m\u001b[43m,\u001b[49m\n\u001b[32m   1046\u001b[39m \u001b[43m                        \u001b[49m\u001b[43mgid\u001b[49m\u001b[43m,\u001b[49m\u001b[43m \u001b[49m\u001b[43mgids\u001b[49m\u001b[43m,\u001b[49m\u001b[43m \u001b[49m\u001b[43muid\u001b[49m\u001b[43m,\u001b[49m\u001b[43m \u001b[49m\u001b[43mumask\u001b[49m\u001b[43m,\u001b[49m\n\u001b[32m   1047\u001b[39m \u001b[43m                        \u001b[49m\u001b[43mstart_new_session\u001b[49m\u001b[43m,\u001b[49m\u001b[43m \u001b[49m\u001b[43mprocess_group\u001b[49m\u001b[43m)\u001b[49m\n\u001b[32m   1048\u001b[39m \u001b[38;5;28;01mexcept\u001b[39;00m:\n\u001b[32m   1049\u001b[39m     \u001b[38;5;66;03m# Cleanup if the child failed starting.\u001b[39;00m\n",
      "\u001b[36mFile \u001b[39m\u001b[32mc:\\Program Files\\Python313\\Lib\\subprocess.py:1554\u001b[39m, in \u001b[36mPopen._execute_child\u001b[39m\u001b[34m(self, args, executable, preexec_fn, close_fds, pass_fds, cwd, env, startupinfo, creationflags, shell, p2cread, p2cwrite, c2pread, c2pwrite, errread, errwrite, unused_restore_signals, unused_gid, unused_gids, unused_uid, unused_umask, unused_start_new_session, unused_process_group)\u001b[39m\n\u001b[32m   1553\u001b[39m \u001b[38;5;28;01mtry\u001b[39;00m:\n\u001b[32m-> \u001b[39m\u001b[32m1554\u001b[39m     hp, ht, pid, tid = \u001b[43m_winapi\u001b[49m\u001b[43m.\u001b[49m\u001b[43mCreateProcess\u001b[49m\u001b[43m(\u001b[49m\u001b[43mexecutable\u001b[49m\u001b[43m,\u001b[49m\u001b[43m \u001b[49m\u001b[43margs\u001b[49m\u001b[43m,\u001b[49m\n\u001b[32m   1555\u001b[39m \u001b[43m                             \u001b[49m\u001b[38;5;66;43;03m# no special security\u001b[39;49;00m\n\u001b[32m   1556\u001b[39m \u001b[43m                             \u001b[49m\u001b[38;5;28;43;01mNone\u001b[39;49;00m\u001b[43m,\u001b[49m\u001b[43m \u001b[49m\u001b[38;5;28;43;01mNone\u001b[39;49;00m\u001b[43m,\u001b[49m\n\u001b[32m   1557\u001b[39m \u001b[43m                             \u001b[49m\u001b[38;5;28;43mint\u001b[39;49m\u001b[43m(\u001b[49m\u001b[38;5;129;43;01mnot\u001b[39;49;00m\u001b[43m \u001b[49m\u001b[43mclose_fds\u001b[49m\u001b[43m)\u001b[49m\u001b[43m,\u001b[49m\n\u001b[32m   1558\u001b[39m \u001b[43m                             \u001b[49m\u001b[43mcreationflags\u001b[49m\u001b[43m,\u001b[49m\n\u001b[32m   1559\u001b[39m \u001b[43m                             \u001b[49m\u001b[43menv\u001b[49m\u001b[43m,\u001b[49m\n\u001b[32m   1560\u001b[39m \u001b[43m                             \u001b[49m\u001b[43mcwd\u001b[49m\u001b[43m,\u001b[49m\n\u001b[32m   1561\u001b[39m \u001b[43m                             \u001b[49m\u001b[43mstartupinfo\u001b[49m\u001b[43m)\u001b[49m\n\u001b[32m   1562\u001b[39m \u001b[38;5;28;01mfinally\u001b[39;00m:\n\u001b[32m   1563\u001b[39m     \u001b[38;5;66;03m# Child is launched. Close the parent's copy of those pipe\u001b[39;00m\n\u001b[32m   1564\u001b[39m     \u001b[38;5;66;03m# handles that only the child should have open.  You need\u001b[39;00m\n\u001b[32m   (...)\u001b[39m\u001b[32m   1567\u001b[39m     \u001b[38;5;66;03m# pipe will not close when the child process exits and the\u001b[39;00m\n\u001b[32m   1568\u001b[39m     \u001b[38;5;66;03m# ReadFile will hang.\u001b[39;00m\n",
      "\u001b[31mPermissionError\u001b[39m: [WinError 5] Access is denied",
      "\nDuring handling of the above exception, another exception occurred:\n",
      "\u001b[31mTesseractNotFoundError\u001b[39m                    Traceback (most recent call last)",
      "\u001b[36mCell\u001b[39m\u001b[36m \u001b[39m\u001b[32mIn[15]\u001b[39m\u001b[32m, line 16\u001b[39m\n\u001b[32m     13\u001b[39m \u001b[38;5;28;01mdef\u001b[39;00m\u001b[38;5;250m \u001b[39m\u001b[34mget_ocr_data\u001b[39m(img):\n\u001b[32m     14\u001b[39m     \u001b[38;5;28;01mreturn\u001b[39;00m pytesseract.image_to_data(img, output_type=pytesseract.Output.DICT)\n\u001b[32m---> \u001b[39m\u001b[32m16\u001b[39m data1 = \u001b[43mget_ocr_data\u001b[49m\u001b[43m(\u001b[49m\u001b[43mimg1\u001b[49m\u001b[43m)\u001b[49m\n\u001b[32m     17\u001b[39m data2 = get_ocr_data(img2)\n",
      "\u001b[36mCell\u001b[39m\u001b[36m \u001b[39m\u001b[32mIn[15]\u001b[39m\u001b[32m, line 14\u001b[39m, in \u001b[36mget_ocr_data\u001b[39m\u001b[34m(img)\u001b[39m\n\u001b[32m     13\u001b[39m \u001b[38;5;28;01mdef\u001b[39;00m\u001b[38;5;250m \u001b[39m\u001b[34mget_ocr_data\u001b[39m(img):\n\u001b[32m---> \u001b[39m\u001b[32m14\u001b[39m     \u001b[38;5;28;01mreturn\u001b[39;00m \u001b[43mpytesseract\u001b[49m\u001b[43m.\u001b[49m\u001b[43mimage_to_data\u001b[49m\u001b[43m(\u001b[49m\u001b[43mimg\u001b[49m\u001b[43m,\u001b[49m\u001b[43m \u001b[49m\u001b[43moutput_type\u001b[49m\u001b[43m=\u001b[49m\u001b[43mpytesseract\u001b[49m\u001b[43m.\u001b[49m\u001b[43mOutput\u001b[49m\u001b[43m.\u001b[49m\u001b[43mDICT\u001b[49m\u001b[43m)\u001b[49m\n",
      "\u001b[36mFile \u001b[39m\u001b[32m~\\AppData\\Roaming\\Python\\Python313\\site-packages\\pytesseract\\pytesseract.py:590\u001b[39m, in \u001b[36mimage_to_data\u001b[39m\u001b[34m(image, lang, config, nice, output_type, timeout, pandas_config)\u001b[39m\n\u001b[32m    576\u001b[39m \u001b[38;5;28;01mdef\u001b[39;00m\u001b[38;5;250m \u001b[39m\u001b[34mimage_to_data\u001b[39m(\n\u001b[32m    577\u001b[39m     image,\n\u001b[32m    578\u001b[39m     lang=\u001b[38;5;28;01mNone\u001b[39;00m,\n\u001b[32m   (...)\u001b[39m\u001b[32m    583\u001b[39m     pandas_config=\u001b[38;5;28;01mNone\u001b[39;00m,\n\u001b[32m    584\u001b[39m ):\n\u001b[32m    585\u001b[39m \u001b[38;5;250m    \u001b[39m\u001b[33;03m\"\"\"\u001b[39;00m\n\u001b[32m    586\u001b[39m \u001b[33;03m    Returns string containing box boundaries, confidences,\u001b[39;00m\n\u001b[32m    587\u001b[39m \u001b[33;03m    and other information. Requires Tesseract 3.05+\u001b[39;00m\n\u001b[32m    588\u001b[39m \u001b[33;03m    \"\"\"\u001b[39;00m\n\u001b[32m--> \u001b[39m\u001b[32m590\u001b[39m     \u001b[38;5;28;01mif\u001b[39;00m \u001b[43mget_tesseract_version\u001b[49m\u001b[43m(\u001b[49m\u001b[43mcached\u001b[49m\u001b[43m=\u001b[49m\u001b[38;5;28;43;01mTrue\u001b[39;49;00m\u001b[43m)\u001b[49m < TESSERACT_MIN_VERSION:\n\u001b[32m    591\u001b[39m         \u001b[38;5;28;01mraise\u001b[39;00m TSVNotSupported()\n\u001b[32m    593\u001b[39m     config = \u001b[33mf\u001b[39m\u001b[33m'\u001b[39m\u001b[33m-c tessedit_create_tsv=1 \u001b[39m\u001b[38;5;132;01m{\u001b[39;00mconfig.strip()\u001b[38;5;132;01m}\u001b[39;00m\u001b[33m'\u001b[39m\n",
      "\u001b[36mFile \u001b[39m\u001b[32m~\\AppData\\Roaming\\Python\\Python313\\site-packages\\pytesseract\\pytesseract.py:163\u001b[39m, in \u001b[36mrun_once.<locals>.wrapper\u001b[39m\u001b[34m(*args, **kwargs)\u001b[39m\n\u001b[32m    160\u001b[39m \u001b[38;5;129m@wraps\u001b[39m(func)\n\u001b[32m    161\u001b[39m \u001b[38;5;28;01mdef\u001b[39;00m\u001b[38;5;250m \u001b[39m\u001b[34mwrapper\u001b[39m(*args, **kwargs):\n\u001b[32m    162\u001b[39m     \u001b[38;5;28;01mif\u001b[39;00m \u001b[38;5;129;01mnot\u001b[39;00m kwargs.pop(\u001b[33m'\u001b[39m\u001b[33mcached\u001b[39m\u001b[33m'\u001b[39m, \u001b[38;5;28;01mFalse\u001b[39;00m) \u001b[38;5;129;01mor\u001b[39;00m wrapper._result \u001b[38;5;129;01mis\u001b[39;00m wrapper:\n\u001b[32m--> \u001b[39m\u001b[32m163\u001b[39m         wrapper._result = \u001b[43mfunc\u001b[49m\u001b[43m(\u001b[49m\u001b[43m*\u001b[49m\u001b[43margs\u001b[49m\u001b[43m,\u001b[49m\u001b[43m \u001b[49m\u001b[43m*\u001b[49m\u001b[43m*\u001b[49m\u001b[43mkwargs\u001b[49m\u001b[43m)\u001b[49m\n\u001b[32m    164\u001b[39m     \u001b[38;5;28;01mreturn\u001b[39;00m wrapper._result\n",
      "\u001b[36mFile \u001b[39m\u001b[32m~\\AppData\\Roaming\\Python\\Python313\\site-packages\\pytesseract\\pytesseract.py:458\u001b[39m, in \u001b[36mget_tesseract_version\u001b[39m\u001b[34m()\u001b[39m\n\u001b[32m    451\u001b[39m     output = subprocess.check_output(\n\u001b[32m    452\u001b[39m         [tesseract_cmd, \u001b[33m'\u001b[39m\u001b[33m--version\u001b[39m\u001b[33m'\u001b[39m],\n\u001b[32m    453\u001b[39m         stderr=subprocess.STDOUT,\n\u001b[32m    454\u001b[39m         env=environ,\n\u001b[32m    455\u001b[39m         stdin=subprocess.DEVNULL,\n\u001b[32m    456\u001b[39m     )\n\u001b[32m    457\u001b[39m \u001b[38;5;28;01mexcept\u001b[39;00m \u001b[38;5;167;01mOSError\u001b[39;00m:\n\u001b[32m--> \u001b[39m\u001b[32m458\u001b[39m     \u001b[38;5;28;01mraise\u001b[39;00m TesseractNotFoundError()\n\u001b[32m    460\u001b[39m raw_version = output.decode(DEFAULT_ENCODING)\n\u001b[32m    461\u001b[39m str_version, *_ = raw_version.lstrip(string.printable[\u001b[32m10\u001b[39m:]).partition(\u001b[33m'\u001b[39m\u001b[33m \u001b[39m\u001b[33m'\u001b[39m)\n",
      "\u001b[31mTesseractNotFoundError\u001b[39m: C:/Users/122328/AppData/Local/Programs/Tesseract-OCR is not installed or it's not in your PATH. See README file for more information."
     ]
    }
   ],
   "source": [
    "import cv2\n",
    "import pytesseract\n",
    "\n",
    "# Point pytesseract to the installed tesseract.exe\n",
    "pytesseract.pytesseract.tesseract_cmd = r\"C:/Users/122328/AppData/Local/Programs/Tesseract-OCR\"\n",
    "\n",
    "img1_path = \"COPGD835-51-1-MNP-2050 1.png\"\n",
    "img2_path = \"COPGD835-51-1-MNP-2050.png\"\n",
    "\n",
    "img1 = cv2.imread(img1_path)\n",
    "img2 = cv2.imread(img2_path)\n",
    "\n",
    "def get_ocr_data(img):\n",
    "    return pytesseract.image_to_data(img, output_type=pytesseract.Output.DICT)\n",
    "\n",
    "data1 = get_ocr_data(img1)\n",
    "data2 = get_ocr_data(img2)\n"
   ]
  },
  {
   "cell_type": "code",
   "execution_count": 16,
   "id": "f0c54bff",
   "metadata": {},
   "outputs": [
    {
     "name": "stdout",
     "output_type": "stream",
     "text": [
      "COPGD835-51-1-MNP-2050 1.pdf converted to COPGD835-51-1-MNP-2050 1.png successfully!\n",
      "COPGD835-51-1-MNP-2050.pdf converted to COPGD835-51-1-MNP-2050.png successfully!\n",
      "Differences highlighted!\n",
      "Saved as diff_file1.png and diff_file2.png\n"
     ]
    }
   ],
   "source": [
    "import fitz  # PyMuPDF\n",
    "import os\n",
    "import cv2\n",
    "import pytesseract\n",
    "\n",
    "# ==========================\n",
    "# 1️⃣ Setup Tesseract path\n",
    "# ==========================\n",
    "pytesseract.pytesseract.tesseract_cmd = r\"C:\\Users\\122328\\AppData\\Local\\Programs\\Tesseract-OCR\\tesseract.exe\"\n",
    "\n",
    "# ==========================\n",
    "# 2️⃣ List of PDFs\n",
    "# ==========================\n",
    "pdf_files = [\"COPGD835-51-1-MNP-2050 1.pdf\", \"COPGD835-51-1-MNP-2050.pdf\"]\n",
    "\n",
    "# Convert PDFs to PNGs\n",
    "image_paths = []\n",
    "for pdf_path in pdf_files:\n",
    "    doc = fitz.open(pdf_path)\n",
    "    page = doc[0]  # first (only) page\n",
    "    pix = page.get_pixmap(dpi=300)\n",
    "\n",
    "    # Save PNG with same name as PDF\n",
    "    base_name = os.path.splitext(pdf_path)[0]\n",
    "    image_name = f\"{base_name}.png\"\n",
    "    pix.save(image_name)\n",
    "    image_paths.append(image_name)\n",
    "    print(f\"{pdf_path} converted to {image_name} successfully!\")\n",
    "\n",
    "# ==========================\n",
    "# 3️⃣ Load images\n",
    "# ==========================\n",
    "img1 = cv2.imread(image_paths[0])\n",
    "img2 = cv2.imread(image_paths[1])\n",
    "\n",
    "# ==========================\n",
    "# 4️⃣ OCR and get bounding boxes\n",
    "# ==========================\n",
    "def get_ocr_data(img):\n",
    "    return pytesseract.image_to_data(img, output_type=pytesseract.Output.DICT)\n",
    "\n",
    "data1 = get_ocr_data(img1)\n",
    "data2 = get_ocr_data(img2)\n",
    "\n",
    "# ==========================\n",
    "# 5️⃣ Compare words\n",
    "# ==========================\n",
    "# Clean and extract words\n",
    "words1 = [w.strip() for w in data1[\"text\"] if w.strip() != \"\"]\n",
    "words2 = [w.strip() for w in data2[\"text\"] if w.strip() != \"\"]\n",
    "\n",
    "# Find differences (words that are unique in either file)\n",
    "diff_words = set(words1) ^ set(words2)\n",
    "\n",
    "# ==========================\n",
    "# 6️⃣ Draw red rectangles for differences\n",
    "# ==========================\n",
    "# On first image\n",
    "for i, word in enumerate(data1[\"text\"]):\n",
    "    if word.strip() != \"\" and word in diff_words:\n",
    "        x, y, w, h = data1[\"left\"][i], data1[\"top\"][i], data1[\"width\"][i], data1[\"height\"][i]\n",
    "        cv2.rectangle(img1, (x, y), (x + w, y + h), (0, 0, 255), 2)\n",
    "\n",
    "# On second image\n",
    "for i, word in enumerate(data2[\"text\"]):\n",
    "    if word.strip() != \"\" and word in diff_words:\n",
    "        x, y, w, h = data2[\"left\"][i], data2[\"top\"][i], data2[\"width\"][i], data2[\"height\"][i]\n",
    "        cv2.rectangle(img2, (x, y), (x + w, y + h), (0, 0, 255), 2)\n",
    "\n",
    "# ==========================\n",
    "# 7️⃣ Save output images\n",
    "# ==========================\n",
    "cv2.imwrite(\"diff_file1.png\", img1)\n",
    "cv2.imwrite(\"diff_file2.png\", img2)\n",
    "\n",
    "print(\"Differences highlighted!\")\n",
    "print(\"Saved as diff_file1.png and diff_file2.png\")\n"
   ]
  },
  {
   "cell_type": "code",
   "execution_count": null,
   "id": "d83dfd51",
   "metadata": {},
   "outputs": [],
   "source": []
  }
 ],
 "metadata": {
  "kernelspec": {
   "display_name": "Python 3",
   "language": "python",
   "name": "python3"
  },
  "language_info": {
   "codemirror_mode": {
    "name": "ipython",
    "version": 3
   },
   "file_extension": ".py",
   "mimetype": "text/x-python",
   "name": "python",
   "nbconvert_exporter": "python",
   "pygments_lexer": "ipython3",
   "version": "3.13.5"
  }
 },
 "nbformat": 4,
 "nbformat_minor": 5
}
